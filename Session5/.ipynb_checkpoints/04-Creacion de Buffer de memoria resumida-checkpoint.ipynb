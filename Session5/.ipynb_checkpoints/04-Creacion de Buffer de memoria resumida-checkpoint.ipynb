{
 "cells": [
  {
   "cell_type": "code",
   "execution_count": 1,
   "id": "1fd134d0-ee1a-4955-98e1-b4a44f83c725",
   "metadata": {},
   "outputs": [],
   "source": [
    "from langchain.chains import ConversationChain\n",
    "from langchain.memory import ConversationBufferMemory, ConversationSummaryBufferMemory\n",
    "from langchain_openai import ChatOpenAI\n",
    "f = open('../api_key.txt')\n",
    "api_key = f.read()\n",
    "llm = ChatOpenAI(openai_api_key=api_key)"
   ]
  },
  {
   "cell_type": "code",
   "execution_count": 3,
   "id": "f9b0dfb1-e1a1-4f97-85ac-268d42a95f2c",
   "metadata": {},
   "outputs": [],
   "source": [
    "memory = ConversationSummaryBufferMemory(llm=llm)"
   ]
  },
  {
   "cell_type": "code",
   "execution_count": 4,
   "id": "2ab2c8d3-5e1f-46b3-9ae4-92b7ec1e6224",
   "metadata": {},
   "outputs": [],
   "source": [
    "# Creamos un prompt cuya respuesta hará que se sobrepase el límite de tokens y por tanto sea recomendable resumir la memoria\n",
    "plan_viaje = '''Este fin de semana me voy de vacaciones a la playa, estaba pensando algo que fuera bastante relajado, pero necesito \n",
    "un plan detallado por días con qué hacer en familia, extiéndete todo lo que puedas'''"
   ]
  },
  {
   "cell_type": "code",
   "execution_count": 7,
   "id": "74572d23-2885-4a1b-b620-8ce84b0a864d",
   "metadata": {},
   "outputs": [],
   "source": [
    "memory = ConversationSummaryBufferMemory(llm=llm, max_token_limit=100) # Limitar a 100 tokens\n",
    "conversation = ConversationChain(llm=llm,memory = memory,verbose=True)\n",
    "#Ejemplo con RunnableWithMessageHistory: https://api.python.langchain.com/en/latest/runnables/langchain_core.runnables.history.RunnableWithMessageHistory.html"
   ]
  },
  {
   "cell_type": "code",
   "execution_count": 8,
   "id": "246a7208-530e-4621-8fc9-bc85b6ec9106",
   "metadata": {},
   "outputs": [
    {
     "name": "stdout",
     "output_type": "stream",
     "text": [
      "\n",
      "\n",
      "\u001b[1m> Entering new ConversationChain chain...\u001b[0m\n",
      "Prompt after formatting:\n",
      "\u001b[32;1m\u001b[1;3mThe following is a friendly conversation between a human and an AI. The AI is talkative and provides lots of specific details from its context. If the AI does not know the answer to a question, it truthfully says it does not know.\n",
      "\n",
      "Current conversation:\n",
      "\n",
      "Human: Este fin de semana me voy de vacaciones a la playa, estaba pensando algo que fuera bastante relajado, pero necesito \n",
      "un plan detallado por días con qué hacer en familia, extiéndete todo lo que puedas\n",
      "AI:\u001b[0m\n",
      "\n",
      "\u001b[1m> Finished chain.\u001b[0m\n"
     ]
    },
    {
     "data": {
      "text/plain": [
       "'¡Hola! ¡Qué emocionante que te vayas de vacaciones a la playa! Te puedo ayudar a planificar tu viaje detalladamente por días. \\nDía 1: Llegada a la playa. Puedes disfrutar de un día relajado en la arena, tomando el sol y nadando en el mar. Por la tarde, podrías dar un paseo por el malecón y cenar en alguno de los restaurantes de mariscos.\\nDía 2: Podrías visitar algún parque acuático cercano, hacer surf o simplemente relajarte en la playa. Por la tarde, podrías explorar el centro de la ciudad y disfrutar de la gastronomía local.\\nDía 3: ¿Qué te parece hacer un paseo en barco por la costa? Podrías ver delfines, hacer snorkel y disfrutar de las vistas. Por la tarde, podrías hacer una visita a algún mercado local y comprar recuerdos.\\nDía 4: Este día podrías hacer una excursión a algún lugar cercano de interés, como un pueblo pintoresco o una reserva natural. Podrías disfrutar de la naturaleza y hacer un picnic en la playa.\\nEspero que estos planes te sirvan de inspiración para tus vacaciones en la playa en familia. ¡Que lo disfrutes al máximo! ¿Hay algo más en lo que pueda ayudarte?'"
      ]
     },
     "execution_count": 8,
     "metadata": {},
     "output_type": "execute_result"
    }
   ],
   "source": [
    "conversation.predict(input=plan_viaje)"
   ]
  },
  {
   "cell_type": "code",
   "execution_count": 9,
   "id": "7f8c581d-8582-4a20-9f3d-8375e6ca7c16",
   "metadata": {},
   "outputs": [
    {
     "data": {
      "text/plain": [
       "{'history': \"System: The human tells the AI they are going on vacation to the beach and need a detailed plan for each day with family activities. The AI provides a detailed itinerary for each day, including beach relaxation, water park visits, boat trips, and exploring local markets. The AI hopes these plans will be inspiring for the human's family beach vacation.\"}"
      ]
     },
     "execution_count": 9,
     "metadata": {},
     "output_type": "execute_result"
    }
   ],
   "source": [
    "memory.load_memory_variables({}) #Se ha realizado un resumen de la memoria en base al límite de tokens"
   ]
  },
  {
   "cell_type": "code",
   "execution_count": 10,
   "id": "0c551594-1d6e-4925-9301-7c81a879abe2",
   "metadata": {},
   "outputs": [
    {
     "name": "stdout",
     "output_type": "stream",
     "text": [
      "System: The human tells the AI they are going on vacation to the beach and need a detailed plan for each day with family activities. The AI provides a detailed itinerary for each day, including beach relaxation, water park visits, boat trips, and exploring local markets. The AI hopes these plans will be inspiring for the human's family beach vacation.\n"
     ]
    }
   ],
   "source": [
    "print(memory.buffer)"
   ]
  },
  {
   "cell_type": "code",
   "execution_count": null,
   "id": "28dc63a2-e3a4-46fb-961e-be3ca4b2a81a",
   "metadata": {},
   "outputs": [],
   "source": []
  }
 ],
 "metadata": {
  "kernelspec": {
   "display_name": "Python 3 (ipykernel)",
   "language": "python",
   "name": "python3"
  },
  "language_info": {
   "codemirror_mode": {
    "name": "ipython",
    "version": 3
   },
   "file_extension": ".py",
   "mimetype": "text/x-python",
   "name": "python",
   "nbconvert_exporter": "python",
   "pygments_lexer": "ipython3",
   "version": "3.12.7"
  }
 },
 "nbformat": 4,
 "nbformat_minor": 5
}
