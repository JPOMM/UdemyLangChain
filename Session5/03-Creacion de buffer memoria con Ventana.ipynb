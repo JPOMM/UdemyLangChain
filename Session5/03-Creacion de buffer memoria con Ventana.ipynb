{
 "cells": [
  {
   "cell_type": "code",
   "execution_count": 1,
   "id": "b2570a7a-394e-47a4-b7f8-89e85674e4eb",
   "metadata": {},
   "outputs": [],
   "source": [
    "from langchain.chains import ConversationChain\n",
    "from langchain.memory import ConversationBufferMemory, ConversationBufferWindowMemory\n",
    "from langchain_openai import ChatOpenAI\n",
    "f = open('../api_key.txt')\n",
    "api_key = f.read()\n",
    "llm = ChatOpenAI(openai_api_key=api_key)"
   ]
  },
  {
   "cell_type": "code",
   "execution_count": 3,
   "id": "18969236-d9d0-4725-8037-33003eeeb809",
   "metadata": {},
   "outputs": [],
   "source": [
    "memory = ConversationBufferWindowMemory(k=2) #k indica el número de iteraciones (pareja de mensajes human-AI) que guardar"
   ]
  },
  {
   "cell_type": "code",
   "execution_count": 5,
   "id": "3fce4cbd-1e4b-456d-a330-875d7ff1b6b9",
   "metadata": {},
   "outputs": [],
   "source": [
    "#Creamos una instancia de la cadena conversacional con el LLM y el objeto de memoria\n",
    "conversation = ConversationChain(llm=llm,memory = memory,verbose=True)\n",
    "#Ejemplo con RunnableWithMessageHistory: https://api.python.langchain.com/en/latest/runnables/langchain_core.runnables.history.RunnableWithMessageHistory.html"
   ]
  },
  {
   "cell_type": "code",
   "execution_count": 6,
   "id": "f14aedc8-505c-466b-8979-b46e1ca67f42",
   "metadata": {},
   "outputs": [
    {
     "name": "stdout",
     "output_type": "stream",
     "text": [
      "\n",
      "\n",
      "\u001b[1m> Entering new ConversationChain chain...\u001b[0m\n",
      "Prompt after formatting:\n",
      "\u001b[32;1m\u001b[1;3mThe following is a friendly conversation between a human and an AI. The AI is talkative and provides lots of specific details from its context. If the AI does not know the answer to a question, it truthfully says it does not know.\n",
      "\n",
      "Current conversation:\n",
      "\n",
      "Human: Hola, ¿cómo estás?\n",
      "AI:\u001b[0m\n",
      "\n",
      "\u001b[1m> Finished chain.\u001b[0m\n"
     ]
    },
    {
     "data": {
      "text/plain": [
       "'¡Hola! Estoy en excelente estado. Hoy he estado procesando una gran cantidad de datos y aprendiendo nuevas formas de mejorar mis respuestas a tus preguntas. ¿Y tú, cómo estás?'"
      ]
     },
     "execution_count": 6,
     "metadata": {},
     "output_type": "execute_result"
    }
   ],
   "source": [
    "conversation.predict(input=\"Hola, ¿cómo estás?\")"
   ]
  },
  {
   "cell_type": "code",
   "execution_count": 7,
   "id": "704aa0b9-b4ba-4a31-a7ad-c5d2c352eff9",
   "metadata": {},
   "outputs": [
    {
     "name": "stdout",
     "output_type": "stream",
     "text": [
      "\n",
      "\n",
      "\u001b[1m> Entering new ConversationChain chain...\u001b[0m\n",
      "Prompt after formatting:\n",
      "\u001b[32;1m\u001b[1;3mThe following is a friendly conversation between a human and an AI. The AI is talkative and provides lots of specific details from its context. If the AI does not know the answer to a question, it truthfully says it does not know.\n",
      "\n",
      "Current conversation:\n",
      "Human: Hola, ¿cómo estás?\n",
      "AI: ¡Hola! Estoy en excelente estado. Hoy he estado procesando una gran cantidad de datos y aprendiendo nuevas formas de mejorar mis respuestas a tus preguntas. ¿Y tú, cómo estás?\n",
      "Human: Necesito un consejo para tener un gran día\n",
      "AI:\u001b[0m\n",
      "\n",
      "\u001b[1m> Finished chain.\u001b[0m\n"
     ]
    },
    {
     "data": {
      "text/plain": [
       "'¡Claro! Para tener un gran día, te recomendaría comenzar con una rutina matutina positiva, como hacer ejercicio, tomar un vaso de agua, meditar o leer algo que te inspire. También es importante planificar tus tareas y metas para el día, y asegurarte de incluir momentos de descanso y autocuidado. ¡Espero que estos consejos te ayuden a tener un día increíble!'"
      ]
     },
     "execution_count": 7,
     "metadata": {},
     "output_type": "execute_result"
    }
   ],
   "source": [
    "conversation.predict(input=\"Necesito un consejo para tener un gran día\")"
   ]
  },
  {
   "cell_type": "code",
   "execution_count": 8,
   "id": "b6aa3a17-4041-4c5c-9988-22d954430e3e",
   "metadata": {},
   "outputs": [
    {
     "name": "stdout",
     "output_type": "stream",
     "text": [
      "Human: Hola, ¿cómo estás?\n",
      "AI: ¡Hola! Estoy en excelente estado. Hoy he estado procesando una gran cantidad de datos y aprendiendo nuevas formas de mejorar mis respuestas a tus preguntas. ¿Y tú, cómo estás?\n",
      "Human: Necesito un consejo para tener un gran día\n",
      "AI: ¡Claro! Para tener un gran día, te recomendaría comenzar con una rutina matutina positiva, como hacer ejercicio, tomar un vaso de agua, meditar o leer algo que te inspire. También es importante planificar tus tareas y metas para el día, y asegurarte de incluir momentos de descanso y autocuidado. ¡Espero que estos consejos te ayuden a tener un día increíble!\n"
     ]
    }
   ],
   "source": [
    "print(memory.buffer) #k limita el número de interacciones"
   ]
  },
  {
   "cell_type": "code",
   "execution_count": null,
   "id": "119553e4-6bf6-44e6-9c92-34daac9ee6b2",
   "metadata": {},
   "outputs": [],
   "source": []
  }
 ],
 "metadata": {
  "kernelspec": {
   "display_name": "Python 3 (ipykernel)",
   "language": "python",
   "name": "python3"
  },
  "language_info": {
   "codemirror_mode": {
    "name": "ipython",
    "version": 3
   },
   "file_extension": ".py",
   "mimetype": "text/x-python",
   "name": "python",
   "nbconvert_exporter": "python",
   "pygments_lexer": "ipython3",
   "version": "3.12.7"
  }
 },
 "nbformat": 4,
 "nbformat_minor": 5
}
