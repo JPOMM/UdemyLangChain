{
 "cells": [
  {
   "cell_type": "code",
   "execution_count": 1,
   "id": "fc3ac1c3-2eeb-498e-b543-5d0954d84ce8",
   "metadata": {},
   "outputs": [],
   "source": [
    "from langchain.chains import ConversationChain\n",
    "from langchain.memory import ConversationBufferMemory\n",
    "from langchain_openai import ChatOpenAI\n",
    "f = open('../api_key.txt')\n",
    "api_key = f.read()\n",
    "llm = ChatOpenAI(openai_api_key=api_key)"
   ]
  },
  {
   "cell_type": "code",
   "execution_count": 3,
   "id": "601bf7c7-d10b-4e49-8d1f-821954d97d85",
   "metadata": {},
   "outputs": [],
   "source": [
    "memory = ConversationBufferMemory()"
   ]
  },
  {
   "cell_type": "code",
   "execution_count": 5,
   "id": "7286a41f-0998-40a4-810a-e7db1902fdf3",
   "metadata": {},
   "outputs": [],
   "source": [
    "#Creamos una instancia de la cadena conversacional con el LLM y el objeto de memoria\n",
    "conversation = ConversationChain(llm=llm,memory = memory,verbose=True)"
   ]
  },
  {
   "cell_type": "code",
   "execution_count": 6,
   "id": "8728489f-b5c1-4804-9d12-6c107890f8a4",
   "metadata": {},
   "outputs": [
    {
     "name": "stdout",
     "output_type": "stream",
     "text": [
      "\n",
      "\n",
      "\u001b[1m> Entering new ConversationChain chain...\u001b[0m\n",
      "Prompt after formatting:\n",
      "\u001b[32;1m\u001b[1;3mThe following is a friendly conversation between a human and an AI. The AI is talkative and provides lots of specific details from its context. If the AI does not know the answer to a question, it truthfully says it does not know.\n",
      "\n",
      "Current conversation:\n",
      "\n",
      "Human: Hola, necesito saber cómo usar mis datos históricos para crear un bot de preguntas y respuestas\n",
      "AI:\u001b[0m\n",
      "\n",
      "\u001b[1m> Finished chain.\u001b[0m\n"
     ]
    },
    {
     "data": {
      "text/plain": [
       "'¡Hola! ¡Claro que puedo ayudarte con eso! Para crear un bot de preguntas y respuestas con datos históricos, primero necesitas recopilar y estructurar la información relevante en un formato comprensible para la máquina. Puedes utilizar técnicas de procesamiento de lenguaje natural para identificar patrones y relaciones en los datos históricos. Luego, puedes entrenar un modelo de aprendizaje automático utilizando esos datos para que el bot pueda responder a preguntas basadas en la información previa. ¿Tienes alguna otra pregunta específica sobre el proceso?'"
      ]
     },
     "execution_count": 6,
     "metadata": {},
     "output_type": "execute_result"
    }
   ],
   "source": [
    "#Lanzamos el primer prompt (human message)\n",
    "conversation.predict(input=\"Hola, necesito saber cómo usar mis datos históricos para crear un bot de preguntas y respuestas\")"
   ]
  },
  {
   "cell_type": "code",
   "execution_count": 7,
   "id": "11222f45-9687-4bc6-b01e-2a6a6a60222b",
   "metadata": {},
   "outputs": [
    {
     "name": "stdout",
     "output_type": "stream",
     "text": [
      "\n",
      "\n",
      "\u001b[1m> Entering new ConversationChain chain...\u001b[0m\n",
      "Prompt after formatting:\n",
      "\u001b[32;1m\u001b[1;3mThe following is a friendly conversation between a human and an AI. The AI is talkative and provides lots of specific details from its context. If the AI does not know the answer to a question, it truthfully says it does not know.\n",
      "\n",
      "Current conversation:\n",
      "Human: Hola, necesito saber cómo usar mis datos históricos para crear un bot de preguntas y respuestas\n",
      "AI: ¡Hola! ¡Claro que puedo ayudarte con eso! Para crear un bot de preguntas y respuestas con datos históricos, primero necesitas recopilar y estructurar la información relevante en un formato comprensible para la máquina. Puedes utilizar técnicas de procesamiento de lenguaje natural para identificar patrones y relaciones en los datos históricos. Luego, puedes entrenar un modelo de aprendizaje automático utilizando esos datos para que el bot pueda responder a preguntas basadas en la información previa. ¿Tienes alguna otra pregunta específica sobre el proceso?\n",
      "Human: Necesito más detalle de cómo implementarlo\n",
      "AI:\u001b[0m\n",
      "\n",
      "\u001b[1m> Finished chain.\u001b[0m\n"
     ]
    },
    {
     "data": {
      "text/plain": [
       "'Por supuesto! Una vez que hayas recopilado y estructurado tus datos históricos, puedes utilizar herramientas como TensorFlow o PyTorch para crear y entrenar tu modelo de aprendizaje automático. Es importante dividir tus datos en conjuntos de entrenamiento y prueba para evaluar la precisión y el rendimiento de tu bot. Además, debes considerar la arquitectura de tu modelo, como el uso de redes neuronales recurrentes o redes neuronales convolucionales, dependiendo del tipo de datos históricos que estés utilizando. También es clave el proceso de validación y ajuste de hiperparámetros para optimizar el rendimiento de tu bot. ¿Te gustaría saber más sobre algún paso en particular?'"
      ]
     },
     "execution_count": 7,
     "metadata": {},
     "output_type": "execute_result"
    }
   ],
   "source": [
    "#Lanzamos el segundo prompt (human message)\n",
    "conversation.predict(input=\"Necesito más detalle de cómo implementarlo\")"
   ]
  },
  {
   "cell_type": "code",
   "execution_count": 8,
   "id": "535ba5e4-a127-403d-82f1-451b97f76033",
   "metadata": {},
   "outputs": [
    {
     "name": "stdout",
     "output_type": "stream",
     "text": [
      "Human: Hola, necesito saber cómo usar mis datos históricos para crear un bot de preguntas y respuestas\n",
      "AI: ¡Hola! ¡Claro que puedo ayudarte con eso! Para crear un bot de preguntas y respuestas con datos históricos, primero necesitas recopilar y estructurar la información relevante en un formato comprensible para la máquina. Puedes utilizar técnicas de procesamiento de lenguaje natural para identificar patrones y relaciones en los datos históricos. Luego, puedes entrenar un modelo de aprendizaje automático utilizando esos datos para que el bot pueda responder a preguntas basadas en la información previa. ¿Tienes alguna otra pregunta específica sobre el proceso?\n",
      "Human: Necesito más detalle de cómo implementarlo\n",
      "AI: Por supuesto! Una vez que hayas recopilado y estructurado tus datos históricos, puedes utilizar herramientas como TensorFlow o PyTorch para crear y entrenar tu modelo de aprendizaje automático. Es importante dividir tus datos en conjuntos de entrenamiento y prueba para evaluar la precisión y el rendimiento de tu bot. Además, debes considerar la arquitectura de tu modelo, como el uso de redes neuronales recurrentes o redes neuronales convolucionales, dependiendo del tipo de datos históricos que estés utilizando. También es clave el proceso de validación y ajuste de hiperparámetros para optimizar el rendimiento de tu bot. ¿Te gustaría saber más sobre algún paso en particular?\n"
     ]
    }
   ],
   "source": [
    "#Obtenemos el histórico\n",
    "print(memory.buffer)"
   ]
  },
  {
   "cell_type": "code",
   "execution_count": 9,
   "id": "7b6d8705-7fb2-4635-a27f-8a24d0266761",
   "metadata": {},
   "outputs": [
    {
     "data": {
      "text/plain": [
       "{'history': 'Human: Hola, necesito saber cómo usar mis datos históricos para crear un bot de preguntas y respuestas\\nAI: ¡Hola! ¡Claro que puedo ayudarte con eso! Para crear un bot de preguntas y respuestas con datos históricos, primero necesitas recopilar y estructurar la información relevante en un formato comprensible para la máquina. Puedes utilizar técnicas de procesamiento de lenguaje natural para identificar patrones y relaciones en los datos históricos. Luego, puedes entrenar un modelo de aprendizaje automático utilizando esos datos para que el bot pueda responder a preguntas basadas en la información previa. ¿Tienes alguna otra pregunta específica sobre el proceso?\\nHuman: Necesito más detalle de cómo implementarlo\\nAI: Por supuesto! Una vez que hayas recopilado y estructurado tus datos históricos, puedes utilizar herramientas como TensorFlow o PyTorch para crear y entrenar tu modelo de aprendizaje automático. Es importante dividir tus datos en conjuntos de entrenamiento y prueba para evaluar la precisión y el rendimiento de tu bot. Además, debes considerar la arquitectura de tu modelo, como el uso de redes neuronales recurrentes o redes neuronales convolucionales, dependiendo del tipo de datos históricos que estés utilizando. También es clave el proceso de validación y ajuste de hiperparámetros para optimizar el rendimiento de tu bot. ¿Te gustaría saber más sobre algún paso en particular?'}"
      ]
     },
     "execution_count": 9,
     "metadata": {},
     "output_type": "execute_result"
    }
   ],
   "source": [
    "#Cargamos la variable de memoria\n",
    "memory.load_memory_variables({})"
   ]
  },
  {
   "cell_type": "code",
   "execution_count": 10,
   "id": "ce20cbaf-73b4-4569-ac0f-125a28e6265c",
   "metadata": {},
   "outputs": [
    {
     "data": {
      "text/plain": [
       "ConversationBufferMemory(chat_memory=InMemoryChatMessageHistory(messages=[HumanMessage(content='Hola, necesito saber cómo usar mis datos históricos para crear un bot de preguntas y respuestas', additional_kwargs={}, response_metadata={}), AIMessage(content='¡Hola! ¡Claro que puedo ayudarte con eso! Para crear un bot de preguntas y respuestas con datos históricos, primero necesitas recopilar y estructurar la información relevante en un formato comprensible para la máquina. Puedes utilizar técnicas de procesamiento de lenguaje natural para identificar patrones y relaciones en los datos históricos. Luego, puedes entrenar un modelo de aprendizaje automático utilizando esos datos para que el bot pueda responder a preguntas basadas en la información previa. ¿Tienes alguna otra pregunta específica sobre el proceso?', additional_kwargs={}, response_metadata={}), HumanMessage(content='Necesito más detalle de cómo implementarlo', additional_kwargs={}, response_metadata={}), AIMessage(content='Por supuesto! Una vez que hayas recopilado y estructurado tus datos históricos, puedes utilizar herramientas como TensorFlow o PyTorch para crear y entrenar tu modelo de aprendizaje automático. Es importante dividir tus datos en conjuntos de entrenamiento y prueba para evaluar la precisión y el rendimiento de tu bot. Además, debes considerar la arquitectura de tu modelo, como el uso de redes neuronales recurrentes o redes neuronales convolucionales, dependiendo del tipo de datos históricos que estés utilizando. También es clave el proceso de validación y ajuste de hiperparámetros para optimizar el rendimiento de tu bot. ¿Te gustaría saber más sobre algún paso en particular?', additional_kwargs={}, response_metadata={})]))"
      ]
     },
     "execution_count": 10,
     "metadata": {},
     "output_type": "execute_result"
    }
   ],
   "source": [
    "conversation.memory"
   ]
  },
  {
   "cell_type": "code",
   "execution_count": 11,
   "id": "de7ca0c4-ec7c-4b72-bb72-001d4d51b0dc",
   "metadata": {},
   "outputs": [],
   "source": [
    "import pickle\n",
    "pickled_str = pickle.dumps(conversation.memory) #Crea un objeto binario con todo el objeto de la memoria"
   ]
  },
  {
   "cell_type": "code",
   "execution_count": 13,
   "id": "77fe51d8-cfe5-4bd1-abbd-cd3af06bbc6e",
   "metadata": {},
   "outputs": [
    {
     "data": {
      "text/plain": [
       "b'\\x80\\x04\\x95\\xc6\\x08\\x00\\x00\\x00\\x00\\x00\\x00\\x8c\\x17langchain.memory.buffer\\x94\\x8c\\x18ConversationBufferMemory\\x94\\x93\\x94)\\x81\\x94}\\x94(\\x8c\\x08__dict__\\x94}\\x94(\\x8c\\x0bchat_memory\\x94\\x8c\\x1blangchain_core.chat_history\\x94\\x8c\\x1aInMemoryChatMessageHistory\\x94\\x93\\x94)\\x81\\x94}\\x94(h\\x05}\\x94\\x8c\\x08messages\\x94]\\x94(\\x8c\\x1dlangchain_core.messages.human\\x94\\x8c\\x0cHumanMessage\\x94\\x93\\x94)\\x81\\x94}\\x94(h\\x05}\\x94(\\x8c\\x07content\\x94\\x8caHola, necesito saber c\\xc3\\xb3mo usar mis datos hist\\xc3\\xb3ricos para crear un bot de preguntas y respuestas\\x94\\x8c\\x11additional_kwargs\\x94}\\x94\\x8c\\x11response_metadata\\x94}\\x94\\x8c\\x04type\\x94\\x8c\\x05human\\x94\\x8c\\x04name\\x94N\\x8c\\x02id\\x94N\\x8c\\x07example\\x94\\x89u\\x8c\\x12__pydantic_extra__\\x94}\\x94\\x8c\\x17__pydantic_fields_set__\\x94\\x8f\\x94(h\\x16\\x90\\x8c\\x14__pydantic_private__\\x94Nub\\x8c\\x1alangchain_core.messages.ai\\x94\\x8c\\tAIMessage\\x94\\x93\\x94)\\x81\\x94}\\x94(h\\x05}\\x94(h\\x16X<\\x02\\x00\\x00\\xc2\\xa1Hola! \\xc2\\xa1Claro que puedo ayudarte con eso! Para crear un bot de preguntas y respuestas con datos hist\\xc3\\xb3ricos, primero necesitas recopilar y estructurar la informaci\\xc3\\xb3n relevante en un formato comprensible para la m\\xc3\\xa1quina. Puedes utilizar t\\xc3\\xa9cnicas de procesamiento de lenguaje natural para identificar patrones y relaciones en los datos hist\\xc3\\xb3ricos. Luego, puedes entrenar un modelo de aprendizaje autom\\xc3\\xa1tico utilizando esos datos para que el bot pueda responder a preguntas basadas en la informaci\\xc3\\xb3n previa. \\xc2\\xbfTienes alguna otra pregunta espec\\xc3\\xadfica sobre el proceso?\\x94h\\x18}\\x94h\\x1a}\\x94h\\x1c\\x8c\\x02ai\\x94h\\x1eNh\\x1fNh \\x89\\x8c\\ntool_calls\\x94]\\x94\\x8c\\x12invalid_tool_calls\\x94]\\x94\\x8c\\x0eusage_metadata\\x94Nuh!}\\x94h#\\x8f\\x94(h\\x16\\x90h%Nubh\\x12)\\x81\\x94}\\x94(h\\x05}\\x94(h\\x16\\x8c,Necesito m\\xc3\\xa1s detalle de c\\xc3\\xb3mo implementarlo\\x94h\\x18}\\x94h\\x1a}\\x94h\\x1ch\\x1dh\\x1eNh\\x1fNh \\x89uh!}\\x94h#\\x8f\\x94(h\\x16\\x90h%Nubh()\\x81\\x94}\\x94(h\\x05}\\x94(h\\x16X\\xb7\\x02\\x00\\x00Por supuesto! Una vez que hayas recopilado y estructurado tus datos hist\\xc3\\xb3ricos, puedes utilizar herramientas como TensorFlow o PyTorch para crear y entrenar tu modelo de aprendizaje autom\\xc3\\xa1tico. Es importante dividir tus datos en conjuntos de entrenamiento y prueba para evaluar la precisi\\xc3\\xb3n y el rendimiento de tu bot. Adem\\xc3\\xa1s, debes considerar la arquitectura de tu modelo, como el uso de redes neuronales recurrentes o redes neuronales convolucionales, dependiendo del tipo de datos hist\\xc3\\xb3ricos que est\\xc3\\xa9s utilizando. Tambi\\xc3\\xa9n es clave el proceso de validaci\\xc3\\xb3n y ajuste de hiperpar\\xc3\\xa1metros para optimizar el rendimiento de tu bot. \\xc2\\xbfTe gustar\\xc3\\xada saber m\\xc3\\xa1s sobre alg\\xc3\\xban paso en particular?\\x94h\\x18}\\x94h\\x1a}\\x94h\\x1ch/h\\x1eNh\\x1fNh \\x89h0]\\x94h2]\\x94h4Nuh!}\\x94h#\\x8f\\x94(h\\x16\\x90h%Nubesh!Nh#\\x8f\\x94h%Nub\\x8c\\noutput_key\\x94N\\x8c\\tinput_key\\x94N\\x8c\\x0freturn_messages\\x94\\x89\\x8c\\x0chuman_prefix\\x94\\x8c\\x05Human\\x94\\x8c\\tai_prefix\\x94\\x8c\\x02AI\\x94\\x8c\\nmemory_key\\x94\\x8c\\x07history\\x94uh!Nh#\\x8f\\x94h%Nub.'"
      ]
     },
     "execution_count": 13,
     "metadata": {},
     "output_type": "execute_result"
    }
   ],
   "source": [
    "pickled_str #objeto binario que guarda cualquier tipo de información"
   ]
  },
  {
   "cell_type": "code",
   "execution_count": 14,
   "id": "f3bd4be9-73bd-4b18-8e8a-a4bee962b279",
   "metadata": {},
   "outputs": [],
   "source": [
    "with open('memory.pkl','wb') as f: #wb para indicar que escriba un objeto binario, en este caso en la misma ruta que el script\n",
    "    f.write(pickled_str)"
   ]
  },
  {
   "cell_type": "code",
   "execution_count": 15,
   "id": "1fdc98c2-4316-42d8-ad62-0b1cb1a427e3",
   "metadata": {},
   "outputs": [],
   "source": [
    "memoria_cargada = open('memory.pkl','rb').read() #rb para indicar que leemos el objeto binario"
   ]
  },
  {
   "cell_type": "code",
   "execution_count": 16,
   "id": "d8783a89-e863-447b-b2e4-80c2fe214c77",
   "metadata": {},
   "outputs": [],
   "source": [
    "llm = ChatOpenAI(openai_api_key=api_key) #Creamos una nueva instancia de LLM para asegurar que está totalmente limpia\n",
    "conversacion_recargada = ConversationChain(\n",
    "    llm=llm, \n",
    "    memory = pickle.loads(memoria_cargada),\n",
    "    verbose=True\n",
    ")"
   ]
  },
  {
   "cell_type": "code",
   "execution_count": 17,
   "id": "99f91da7-9e2d-4b30-a9d8-71c3f016942f",
   "metadata": {},
   "outputs": [
    {
     "data": {
      "text/plain": [
       "'Human: Hola, necesito saber cómo usar mis datos históricos para crear un bot de preguntas y respuestas\\nAI: ¡Hola! ¡Claro que puedo ayudarte con eso! Para crear un bot de preguntas y respuestas con datos históricos, primero necesitas recopilar y estructurar la información relevante en un formato comprensible para la máquina. Puedes utilizar técnicas de procesamiento de lenguaje natural para identificar patrones y relaciones en los datos históricos. Luego, puedes entrenar un modelo de aprendizaje automático utilizando esos datos para que el bot pueda responder a preguntas basadas en la información previa. ¿Tienes alguna otra pregunta específica sobre el proceso?\\nHuman: Necesito más detalle de cómo implementarlo\\nAI: Por supuesto! Una vez que hayas recopilado y estructurado tus datos históricos, puedes utilizar herramientas como TensorFlow o PyTorch para crear y entrenar tu modelo de aprendizaje automático. Es importante dividir tus datos en conjuntos de entrenamiento y prueba para evaluar la precisión y el rendimiento de tu bot. Además, debes considerar la arquitectura de tu modelo, como el uso de redes neuronales recurrentes o redes neuronales convolucionales, dependiendo del tipo de datos históricos que estés utilizando. También es clave el proceso de validación y ajuste de hiperparámetros para optimizar el rendimiento de tu bot. ¿Te gustaría saber más sobre algún paso en particular?'"
      ]
     },
     "execution_count": 17,
     "metadata": {},
     "output_type": "execute_result"
    }
   ],
   "source": [
    "conversacion_recargada.memory.buffer"
   ]
  },
  {
   "cell_type": "code",
   "execution_count": null,
   "id": "2da13b8b-00b0-4ed3-808c-a6c4daf4b7b7",
   "metadata": {},
   "outputs": [],
   "source": []
  }
 ],
 "metadata": {
  "kernelspec": {
   "display_name": "Python 3 (ipykernel)",
   "language": "python",
   "name": "python3"
  },
  "language_info": {
   "codemirror_mode": {
    "name": "ipython",
    "version": 3
   },
   "file_extension": ".py",
   "mimetype": "text/x-python",
   "name": "python",
   "nbconvert_exporter": "python",
   "pygments_lexer": "ipython3",
   "version": "3.12.7"
  }
 },
 "nbformat": 4,
 "nbformat_minor": 5
}
