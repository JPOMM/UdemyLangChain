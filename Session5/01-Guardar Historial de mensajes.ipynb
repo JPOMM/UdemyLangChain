{
 "cells": [
  {
   "cell_type": "code",
   "execution_count": 1,
   "id": "9ffdeb3a-4942-4ec5-aa28-92533d162ac0",
   "metadata": {},
   "outputs": [],
   "source": [
    "from langchain_openai import ChatOpenAI\n",
    "from langchain.schema import SystemMessage, HumanMessage\n",
    "f = open('../api_key.txt')\n",
    "api_key = f.read()\n",
    "chat = ChatOpenAI(openai_api_key=api_key)"
   ]
  },
  {
   "cell_type": "code",
   "execution_count": 2,
   "id": "d68c6e1d-96cc-4a84-96a1-fb86c2f54df9",
   "metadata": {},
   "outputs": [],
   "source": [
    "#Definimos el objeto de histórico de mensajes\n",
    "from langchain.memory import ChatMessageHistory\n",
    "\n",
    "history = ChatMessageHistory()"
   ]
  },
  {
   "cell_type": "code",
   "execution_count": 3,
   "id": "9393c3ba-a380-4957-a8c7-9ebb799dc5c3",
   "metadata": {},
   "outputs": [],
   "source": [
    "consulta = \"Hola, ¿cómo estás? Necesito ayudar para reconfigurar el router\""
   ]
  },
  {
   "cell_type": "code",
   "execution_count": 4,
   "id": "365992d3-ff67-4338-850a-155db1635137",
   "metadata": {},
   "outputs": [],
   "source": [
    "#Vamos guardando en el objeto \"history\" los mensajes de usuario y los mensajes AI que queramos\n",
    "history.add_user_message(consulta)"
   ]
  },
  {
   "cell_type": "code",
   "execution_count": 5,
   "id": "bed9f42b-d71d-4e76-948b-4b8f5d7b63c0",
   "metadata": {},
   "outputs": [],
   "source": [
    "resultado = chat.invoke([HumanMessage(content=consulta)])"
   ]
  },
  {
   "cell_type": "code",
   "execution_count": 6,
   "id": "2321ae21-071b-4001-a6e9-e96624913669",
   "metadata": {},
   "outputs": [],
   "source": [
    "history.add_ai_message(resultado.content)"
   ]
  },
  {
   "cell_type": "code",
   "execution_count": 7,
   "id": "2e9cb963-c30b-4f91-91be-e13357e0594b",
   "metadata": {},
   "outputs": [
    {
     "data": {
      "text/plain": [
       "InMemoryChatMessageHistory(messages=[HumanMessage(content='Hola, ¿cómo estás? Necesito ayudar para reconfigurar el router', additional_kwargs={}, response_metadata={}), AIMessage(content='Hola, estoy bien gracias. Claro, puedo ayudarte con eso. ¿Qué tipo de router tienes y cuál es el problema con la configuración?', additional_kwargs={}, response_metadata={})])"
      ]
     },
     "execution_count": 7,
     "metadata": {},
     "output_type": "execute_result"
    }
   ],
   "source": [
    "history"
   ]
  },
  {
   "cell_type": "code",
   "execution_count": 8,
   "id": "83584af4-266f-434c-87a7-11a908840f79",
   "metadata": {},
   "outputs": [
    {
     "data": {
      "text/plain": [
       "[HumanMessage(content='Hola, ¿cómo estás? Necesito ayudar para reconfigurar el router', additional_kwargs={}, response_metadata={}),\n",
       " AIMessage(content='Hola, estoy bien gracias. Claro, puedo ayudarte con eso. ¿Qué tipo de router tienes y cuál es el problema con la configuración?', additional_kwargs={}, response_metadata={})]"
      ]
     },
     "execution_count": 8,
     "metadata": {},
     "output_type": "execute_result"
    }
   ],
   "source": [
    "history.messages"
   ]
  },
  {
   "cell_type": "code",
   "execution_count": null,
   "id": "83e6712f-8dac-4316-9afe-fdd5469311e0",
   "metadata": {},
   "outputs": [],
   "source": []
  }
 ],
 "metadata": {
  "kernelspec": {
   "display_name": "Python 3 (ipykernel)",
   "language": "python",
   "name": "python3"
  },
  "language_info": {
   "codemirror_mode": {
    "name": "ipython",
    "version": 3
   },
   "file_extension": ".py",
   "mimetype": "text/x-python",
   "name": "python",
   "nbconvert_exporter": "python",
   "pygments_lexer": "ipython3",
   "version": "3.12.7"
  }
 },
 "nbformat": 4,
 "nbformat_minor": 5
}
