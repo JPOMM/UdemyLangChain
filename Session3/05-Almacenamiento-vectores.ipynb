{
 "cells": [
  {
   "cell_type": "code",
   "execution_count": 8,
   "id": "e0d24f18-cb62-48cc-aa0f-ce3d7e972220",
   "metadata": {},
   "outputs": [],
   "source": [
    "from langchain_openai import OpenAIEmbeddings\n",
    "from langchain.text_splitter import CharacterTextSplitter\n",
    "from langchain.document_loaders import TextLoader"
   ]
  },
  {
   "cell_type": "code",
   "execution_count": 9,
   "id": "eaff6191-364a-41af-91e0-f9ff08e88a94",
   "metadata": {},
   "outputs": [],
   "source": [
    "# Cargar el documento\n",
    "loader = TextLoader('Fuentes datos/Historia España.txt', encoding=\"utf8\")\n",
    "documents = loader.load()"
   ]
  },
  {
   "cell_type": "code",
   "execution_count": 10,
   "id": "1f929e8b-f795-4c04-acad-c7d85d79da3b",
   "metadata": {},
   "outputs": [
    {
     "name": "stderr",
     "output_type": "stream",
     "text": [
      "Created a chunk of size 506, which is longer than the specified 500\n",
      "Created a chunk of size 1009, which is longer than the specified 500\n",
      "Created a chunk of size 2228, which is longer than the specified 500\n"
     ]
    }
   ],
   "source": [
    "# Dividir en chunks\n",
    "text_splitter = CharacterTextSplitter.from_tiktoken_encoder(chunk_size=500) #Otro método de split basándose en tokens\n",
    "docs = text_splitter.split_documents(documents)"
   ]
  },
  {
   "cell_type": "code",
   "execution_count": 11,
   "id": "b9894274-95a0-4cf2-a539-29f49d6abc57",
   "metadata": {},
   "outputs": [],
   "source": [
    "f = open('../api_key.txt')\n",
    "api_key = f.read()"
   ]
  },
  {
   "cell_type": "code",
   "execution_count": 12,
   "id": "fd8ef026-d442-4160-ad0f-c220c91406d4",
   "metadata": {},
   "outputs": [],
   "source": [
    "funcion_embedding = OpenAIEmbeddings(openai_api_key=api_key)"
   ]
  },
  {
   "cell_type": "code",
   "execution_count": 13,
   "id": "d933458e-3436-4335-8754-77b060a03906",
   "metadata": {},
   "outputs": [],
   "source": [
    "from langchain_community.vectorstores import SKLearnVectorStore #pip install scikit-learn / pip install pandas pyarrow"
   ]
  },
  {
   "cell_type": "code",
   "execution_count": 14,
   "id": "41d0fa65-1e9c-44ae-8015-b050209937b5",
   "metadata": {},
   "outputs": [],
   "source": [
    "persist_path=\"./ejemplosk_embedding_db\"  #ruta donde se guardará la BBDD vectorizada\n",
    "\n",
    "#Creamos la BBDD de vectores a partir de los documentos y la función embeddings\n",
    "vector_store = SKLearnVectorStore.from_documents(\n",
    "    documents=docs,\n",
    "    embedding=funcion_embedding,\n",
    "    persist_path=persist_path,\n",
    "    serializer=\"parquet\", #el serializador o formato de la BD lo definimos como parquet\n",
    ")"
   ]
  },
  {
   "cell_type": "code",
   "execution_count": 15,
   "id": "995c3de8-dfa4-4dd7-9644-54af32961295",
   "metadata": {},
   "outputs": [],
   "source": [
    "# Fuerza a guardar los nuevos embeddings en el disco\n",
    "vector_store.persist()"
   ]
  },
  {
   "cell_type": "code",
   "execution_count": 16,
   "id": "23496f8c-60a9-43b2-b4f8-20f9c4fd134d",
   "metadata": {},
   "outputs": [
    {
     "name": "stdout",
     "output_type": "stream",
     "text": [
      "Primera Guerra Mundial\n",
      "Artículos principales: España en la Primera Guerra Mundial y Economía de España durante la Primera Guerra Mundial.\n",
      "La neutralidad de España en la Primera Guerra Mundial le permitió convertirse en un proveedor de material para los contendientes, lo que provocó una burbuja económica durante los años de la contienda. La Guerra del Rif, el brote de la gripe de 1918 en España y en otros lugares, junto con una desaceleración económica importante en el período de posguerra, llegó a España particularmente difícil, y el país entró en crisis. Como intento por superar dicha situación, el rey Alfonso XIII decidió apoyar a la dictadura del general Miguel Primo de Rivera.\n",
      "\n",
      "Crisis de la Restauración\n",
      "Artículos principales: Crisis de la Restauración, Crisis española de 1917 y Trienio Bolchevique.\n",
      "A partir de 1917, se constata una descomposición interna del régimen político canovista de la restauración, caracterizado por la atomización en bandos personalista de los partidos políticos, el alza de los movimientos subversivos desde las juntas militares, el pistolerismo a sueldo y los comités revolucionarios y por último el descontento generalizado de la población.80​\n"
     ]
    }
   ],
   "source": [
    "#Creamos un nuevo documento que será nuestra \"consulta\" para buscar el de mayor similitud en nuestra Base de Datos de Vectores y devolverlo\n",
    "consulta = \"dame información de la Primera Guerra Mundial\"\n",
    "docs = vector_store.similarity_search(consulta)\n",
    "print(docs[0].page_content)"
   ]
  },
  {
   "cell_type": "code",
   "execution_count": 17,
   "id": "ea891add-2d53-4d91-a664-8bcb8b429d02",
   "metadata": {},
   "outputs": [
    {
     "name": "stdout",
     "output_type": "stream",
     "text": [
      "Una instancia de la BBDD de vectores se ha cargado desde  ./ejemplosk_embedding_db\n"
     ]
    }
   ],
   "source": [
    "vector_store_connection = SKLearnVectorStore(\n",
    "    embedding=funcion_embedding, persist_path=persist_path, serializer=\"parquet\"\n",
    ")\n",
    "print(\"Una instancia de la BBDD de vectores se ha cargado desde \", persist_path)"
   ]
  },
  {
   "cell_type": "code",
   "execution_count": 18,
   "id": "6c6dad34-cdc7-4d48-9ed7-632a64027382",
   "metadata": {},
   "outputs": [
    {
     "data": {
      "text/plain": [
       "<langchain_community.vectorstores.sklearn.SKLearnVectorStore at 0x19c5fb69cd0>"
      ]
     },
     "execution_count": 18,
     "metadata": {},
     "output_type": "execute_result"
    }
   ],
   "source": [
    "vector_store_connection"
   ]
  },
  {
   "cell_type": "code",
   "execution_count": 19,
   "id": "610ec9d4-c014-4bf2-b95e-335fbf7c807f",
   "metadata": {},
   "outputs": [],
   "source": [
    "nueva_consulta = \"¿Qué paso en el siglo de Oro?\""
   ]
  },
  {
   "cell_type": "code",
   "execution_count": 20,
   "id": "5bfab1fa-f3ce-47f4-8e4e-e73031bbabf4",
   "metadata": {},
   "outputs": [
    {
     "name": "stdout",
     "output_type": "stream",
     "text": [
      "El área de influencia de España se expandió, constituyéndose en la mayor potencia económica del mundo durante el siglo xvi, el comercio floreció a través del Atlántico entre la península ibérica y las Américas, y en el Pacífico desde Asia del Este y las Filipinas hasta México, y en el aspecto militar, durante varios siglos el Imperio español dominaría los mares y océanos con la armada y los campos de batallas con la infantería de los tercios. Aunque a partir del siglo xvii su poder e influencia en el centro de Europa e Italia se vio ampliamente contestado.\n",
      "\n",
      "Durante su apogeo económico, el imperio tuvo gran prestigio cultural e influencia militar. Muchas cosas que provenían de España eran a menudo imitadas. Las expresiones artísticas más cultivadas en España fueron la literatura, las artes plásticas, la música y la arquitectura, mientras el saber se acumulaba y se enseñaba desde prestigiosas universidades como las de Salamanca o Alcalá de Henares. Sin embargo, a diferencia de lo que pasó en otros países de Europa la ciencia no tuvo un resurgir tan vigoroso.\n",
      "\n",
      "Siglo de Oro\n",
      "Artículo principal: Siglo de Oro\n",
      "\n",
      "Miguel de Cervantes Saavedra\n",
      "El Siglo de Oro español fue un período floreciente en las artes y las letras hispanas que abarca cronológicamente desde la publicación de la Gramática castellana de Nebrija en 1492 hasta la muerte de Calderón en 1681.\n"
     ]
    }
   ],
   "source": [
    "docs = vector_store_connection.similarity_search(nueva_consulta)\n",
    "print(docs[0].page_content)"
   ]
  },
  {
   "cell_type": "code",
   "execution_count": null,
   "id": "47c03925-46a9-496d-a110-bd4d04ede072",
   "metadata": {},
   "outputs": [],
   "source": []
  }
 ],
 "metadata": {
  "kernelspec": {
   "display_name": "Python 3 (ipykernel)",
   "language": "python",
   "name": "python3"
  },
  "language_info": {
   "codemirror_mode": {
    "name": "ipython",
    "version": 3
   },
   "file_extension": ".py",
   "mimetype": "text/x-python",
   "name": "python",
   "nbconvert_exporter": "python",
   "pygments_lexer": "ipython3",
   "version": "3.12.7"
  }
 },
 "nbformat": 4,
 "nbformat_minor": 5
}
