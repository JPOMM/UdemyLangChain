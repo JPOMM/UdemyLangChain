{
 "cells": [
  {
   "cell_type": "code",
   "execution_count": 9,
   "id": "ebd5364d-008b-40cb-8596-c213a359a153",
   "metadata": {},
   "outputs": [],
   "source": [
    "from langchain.prompts import PromptTemplate, SystemMessagePromptTemplate,ChatPromptTemplate, HumanMessagePromptTemplate\n",
    "from langchain_openai import ChatOpenAI\n",
    "f = open('api_key.txt')\n",
    "api_key = f.read()\n",
    "chat = ChatOpenAI(openai_api_key=api_key)"
   ]
  },
  {
   "cell_type": "code",
   "execution_count": 10,
   "id": "bdd5596b-08be-4851-8169-5f888a6131e1",
   "metadata": {},
   "outputs": [],
   "source": [
    "from langchain.document_loaders import WikipediaLoader # pip install wikipedia"
   ]
  },
  {
   "cell_type": "code",
   "execution_count": 11,
   "id": "4fa38afd-0943-4355-acbb-a05cf66eea8a",
   "metadata": {},
   "outputs": [],
   "source": [
    "def responder_wikipedia(persona,pregunta_arg):\n",
    "    # Obtener artículo de wikipedia\n",
    "    docs = WikipediaLoader(query=persona,lang=\"es\",load_max_docs=10) #parámetros posibles en: https://python.langchain.com/v0.2/docs/integrations/document_loaders/wikipedia/\n",
    "    contexto_extra = docs.load()[0].page_content #para que sea más rápido solo pásamos el primer documento [0] como contexto extra\n",
    "    \n",
    "    # Pregunta de usuario\n",
    "    human_prompt = HumanMessagePromptTemplate.from_template('Responde a esta pregunta\\n{pregunta}, aquí tienes contenido extra:\\n{contenido}')\n",
    "    \n",
    "    # Construir prompt\n",
    "    chat_prompt = ChatPromptTemplate.from_messages([human_prompt])\n",
    "    \n",
    "    # Resultado\n",
    "    result = chat.invoke(chat_prompt.format_prompt(pregunta=pregunta_arg,contenido=contexto_extra).to_messages())\n",
    "    \n",
    "    print(result.content)"
   ]
  },
  {
   "cell_type": "code",
   "execution_count": 12,
   "id": "5677ee1e-3389-433d-8c2b-0906ac0959ed",
   "metadata": {},
   "outputs": [
    {
     "name": "stdout",
     "output_type": "stream",
     "text": [
      "respuesta:\n",
      "\n",
      "Fernando Alonso Díaz nació el 29 de julio de 1981 en Oviedo.\n"
     ]
    }
   ],
   "source": [
    "responder_wikipedia(\"Fernando Alonso\",\"¿Cuándo nació?\")"
   ]
  },
  {
   "cell_type": "code",
   "execution_count": null,
   "id": "dddf17b4-8c68-4377-939c-7910ec7540c9",
   "metadata": {},
   "outputs": [],
   "source": []
  }
 ],
 "metadata": {
  "kernelspec": {
   "display_name": "Python 3 (ipykernel)",
   "language": "python",
   "name": "python3"
  },
  "language_info": {
   "codemirror_mode": {
    "name": "ipython",
    "version": 3
   },
   "file_extension": ".py",
   "mimetype": "text/x-python",
   "name": "python",
   "nbconvert_exporter": "python",
   "pygments_lexer": "ipython3",
   "version": "3.12.7"
  }
 },
 "nbformat": 4,
 "nbformat_minor": 5
}
