{
 "cells": [
  {
   "cell_type": "code",
   "execution_count": 17,
   "id": "82271999",
   "metadata": {},
   "outputs": [],
   "source": [
    "# https://python.langchain.com/docs/integrations/document_loaders/\n",
    "from langchain.prompts import PromptTemplate, SystemMessagePromptTemplate,ChatPromptTemplate, HumanMessagePromptTemplate\n",
    "from langchain_openai import ChatOpenAI\n",
    "f = open('api_key.txt')\n",
    "api_key = f.read()\n",
    "chat = ChatOpenAI(openai_api_key=api_key)\n"
   ]
  },
  {
   "cell_type": "code",
   "execution_count": 18,
   "id": "60e4170b",
   "metadata": {},
   "outputs": [],
   "source": [
    "from langchain.document_loaders import CSVLoader #pip install langchain-community en una terminal"
   ]
  },
  {
   "cell_type": "code",
   "execution_count": 19,
   "id": "c6bc4026",
   "metadata": {},
   "outputs": [],
   "source": [
    "#Cargamos el fichero CSV\n",
    "loader = CSVLoader('Fuentes datos/datos_ventas_small.csv',csv_args={'delimiter': ';'})"
   ]
  },
  {
   "cell_type": "code",
   "execution_count": 20,
   "id": "615127d7",
   "metadata": {},
   "outputs": [
    {
     "name": "stdout",
     "output_type": "stream",
     "text": [
      "[Document(metadata={'source': 'Fuentes datos/datos_ventas_small.csv', 'row': 0}, page_content='ï»¿ID: 10145\\nCantidad: 45\\nPrecio unitario: 83,26\\nVenta total: 3746,7\\nFecha compra: 25/08/2023\\nEstado: Shipped\\nLÃ\\xadnea Producto: Motorcycles\\nCÃ³digo Producto: S10_1678\\nNombre cliente: Toys4GrownUps,com\\nCiudad: Pasadena\\nPaÃ\\xads: USA\\nTerritorio: NA\\nTamaÃ±o pedido: Medium'), Document(metadata={'source': 'Fuentes datos/datos_ventas_small.csv', 'row': 1}, page_content='ï»¿ID: 10159\\nCantidad: 0\\nPrecio unitario: 100\\nVenta total: 0\\nFecha compra: 10/10/2023\\nEstado: Shipped\\nLÃ\\xadnea Producto: Motorcycles\\nCÃ³digo Producto: S10_1678\\nNombre cliente: Corporate Gift Ideas Co,\\nCiudad: San Francisco\\nPaÃ\\xads: USA\\nTerritorio: NA\\nTamaÃ±o pedido: Medium'), Document(metadata={'source': 'Fuentes datos/datos_ventas_small.csv', 'row': 2}, page_content='ï»¿ID: 10168\\nCantidad: 36\\nPrecio unitario: 96,66\\nVenta total: 3479,76\\nFecha compra: 28/10/2023\\nEstado: Shipped\\nLÃ\\xadnea Producto: Motorcycles\\nCÃ³digo Producto: S10_1678\\nNombre cliente: Technics Stores Inc,\\nCiudad: Burlingame\\nPaÃ\\xads: USA\\nTerritorio: NA\\nTamaÃ±o pedido: Medium'), Document(metadata={'source': 'Fuentes datos/datos_ventas_small.csv', 'row': 3}, page_content='ï»¿ID: 10180\\nCantidad: 29\\nPrecio unitario: 86,13\\nVenta total: 2497,.77\\nFecha compra: 11/11/2023\\nEstado: Shipped\\nLÃ\\xadnea Producto: Motorcycles\\nCÃ³digo Producto: S10_1678\\nNombre cliente: Daedalus Designs Imports\\nCiudad: Lille\\nPaÃ\\xads: France\\nTerritorio: EMEA\\nTamaÃ±o pedido: Small'), Document(metadata={'source': 'Fuentes datos/datos_ventas_small.csv', 'row': 4}, page_content='ï»¿ID: 10188\\nCantidad: 48\\nPrecio unitario: 100\\nVenta total: 5512,32\\nFecha compra: 18/11/2023\\nEstado: Shipped\\nLÃ\\xadnea Producto: Motorcycles\\nCÃ³digo Producto: S10_1678\\nNombre cliente: Herkku Gifts\\nCiudad: Bergen\\nPaÃ\\xads: Norway\\nTerritorio: EMEA\\nTamaÃ±o pedido: Medium'), Document(metadata={'source': 'Fuentes datos/datos_ventas_small.csv', 'row': 5}, page_content='ï»¿ID: 10201\\nCantidad: 22\\nPrecio unitario: 98,57\\nVenta total: 2168,54\\nFecha compra: 12/01/2023\\nEstado: Shippe\\nLÃ\\xadnea Producto: Motorcycles\\nCÃ³digo Producto: S10_1678\\nNombre cliente: Mini Wheels Co,\\nCiudad: San Francisco\\nPaÃ\\xads: USA\\nTerritorio: NA\\nTamaÃ±o pedido: Small'), Document(metadata={'source': 'Fuentes datos/datos_ventas_small.csv', 'row': 6}, page_content='ï»¿ID: 10237\\nCantidad: 23\\nPrecio unitario: 100\\nVenta total: 2333,12\\nFecha compra: 04/05/2024\\nEstado: Shipped\\nLÃ\\xadnea Producto: Motorcycles\\nCÃ³digo Producto: S10_1678\\nNombre cliente: Vitachrome Inc,\\nCiudad: NYC\\nPaÃ\\xads: USA\\nTerritorio: NA\\nTamaÃ±o pedido: Small'), Document(metadata={'source': 'Fuentes datos/datos_ventas_small.csv', 'row': 7}, page_content='ï»¿ID: 10251\\nCantidad: 28\\nPrecio unitario: 100\\nVenta total: 3188,64\\nFecha compra: 12/01/2023\\nEstado: Shipped\\nLÃ\\xadnea Producto: Motorcycles\\nCÃ³digo Producto: S10_1678\\nNombre cliente: Tekni Collectables Inc,\\nCiudad: Newark\\nPaÃ\\xads: USA\\nTerritorio: NA\\nTamaÃ±o pedido: Medium'), Document(metadata={'source': 'Fuentes datos/datos_ventas_small.csv', 'row': 8}, page_content='ï»¿ID: 10375\\nCantidad: 42\\nPrecio unitario: 34,91\\nVenta total: 1466,22\\nFecha compra: 02/03/2024\\nEstado: Shipped\\nLÃ\\xadnea Producto: Motorcycles\\nCÃ³digo Producto: S10_1678\\nNombre cliente: La Rochelle Gifts\\nCiudad: Nantes\\nPaÃ\\xads: France\\nTerritorio: EMEA\\nTamaÃ±o pedido: Small'), Document(metadata={'source': 'Fuentes datos/datos_ventas_small.csv', 'row': 9}, page_content='ï»¿ID: 10388\\nCantidad: 84\\nPrecio unitario: 76,36\\nVenta total: 6414,24\\nFecha compra: 03/03/2024\\nEstado: Shipped\\nLÃ\\xadnea Producto: Motorcycles\\nCÃ³digo Producto: S10_1678\\nNombre cliente: FunGiftIdeas,com\\nCiudad: New Bedford\\nPaÃ\\xads: USA\\nTerritorio: NA\\nTamaÃ±o pedido: Medium'), Document(metadata={'source': 'Fuentes datos/datos_ventas_small.csv', 'row': 10}, page_content='ï»¿ID: 10403\\nCantidad: 48\\nPrecio unitario: 100\\nVenta total: 4869,12\\nFecha compra: 04/08/2024\\nEstado: Shipped\\nLÃ\\xadnea Producto: Motorcycles\\nCÃ³digo Producto: S10_1678\\nNombre cliente: UK Collectables, Ltd,\\nCiudad: Liverpool\\nPaÃ\\xads: UK\\nTerritorio: EMEA\\nTamaÃ±o pedido: Small'), Document(metadata={'source': 'Fuentes datos/datos_ventas_small.csv', 'row': 11}, page_content='ï»¿ID: 10228\\nCantidad: 29\\nPrecio unitario: 100\\nVenta total: 6463,23\\nFecha compra: 03/10/2024\\nEstado: Shipped\\nLÃ\\xadnea Producto: Classic Cars\\nCÃ³digo Producto: S10_1949\\nNombre cliente: Cambridge Collectables Co,\\nCiudad: Cambridge\\nPaÃ\\xads: USA\\nTerritorio: NA\\nTamaÃ±o pedido: Medium'), Document(metadata={'source': 'Fuentes datos/datos_ventas_small.csv', 'row': 12}, page_content='ï»¿ID: 10245\\nCantidad: 34\\nPrecio unitario: 100\\nVenta total: 6120,34\\nFecha compra: 05/04/2024\\nEstado: Shipped\\nLÃ\\xadnea Producto: Classic Cars\\nCÃ³digo Producto: S10_1949\\nNombre cliente: Super Scale Inc,\\nCiudad: New Haven\\nPaÃ\\xads: USA\\nTerritorio: NA\\nTamaÃ±o pedido: Medium'), Document(metadata={'source': 'Fuentes datos/datos_ventas_small.csv', 'row': 13}, page_content='ï»¿ID: 10291\\nCantidad: 37\\nPrecio unitario: 100\\nVenta total: 7136,19\\nFecha compra: 09/08/2024\\nEstado: Shipped\\nLÃ\\xadnea Producto: Classic Cars\\nCÃ³digo Producto: S10_1949\\nNombre cliente: Scandinavian Gift Ideas\\nCiudad: Boras\\nPaÃ\\xads: Sweden\\nTerritorio: EMEA\\nTamaÃ±o pedido: Large'), Document(metadata={'source': 'Fuentes datos/datos_ventas_small.csv', 'row': 14}, page_content='ï»¿ID: 10304\\nCantidad: 47\\nPrecio unitario: 100\\nVenta total: 10172,7\\nFecha compra: 10/11/2024\\nEstado: Shipped\\nLÃ\\xadnea Producto: Classic Cars\\nCÃ³digo Producto: S10_1949\\nNombre cliente: Auto Assoc, & Cie,\\nCiudad: Versailles\\nPaÃ\\xads: France\\nTerritorio: EMEA\\nTamaÃ±o pedido: Large'), Document(metadata={'source': 'Fuentes datos/datos_ventas_small.csv', 'row': 15}, page_content='ï»¿ID: 10322\\nCantidad: 40\\nPrecio unitario: 100\\nVenta total: 6000,4\\nFecha compra: 11/04/2024\\nEstado: Shipped\\nLÃ\\xadnea Producto: Classic Cars\\nCÃ³digo Producto: S10_1949\\nNombre cliente: Online Diecast Creations Co,\\nCiudad: Nashua\\nPaÃ\\xads: USA\\nTerritorio: NA\\nTamaÃ±o pedido: Medium'), Document(metadata={'source': 'Fuentes datos/datos_ventas_small.csv', 'row': 16}, page_content='ï»¿ID: 10391\\nCantidad: 40\\nPrecio unitario: 100\\nVenta total: 6000,4\\nFecha compra: 11/04/2024\\nEstado: Shipped\\nLÃ\\xadnea Producto: Classic Cars\\nCÃ³digo Producto: S10_1949\\nNombre cliente: Online Diecast Creations Co,\\nCiudad: Nashua\\nPaÃ\\xads: USA\\nTerritorio: NA\\nTamaÃ±o pedido: Medium'), Document(metadata={'source': 'Fuentes datos/datos_ventas_small.csv', 'row': 17}, page_content=\"ï»¿ID: 10391\\nCantidad: 48\\nPrecio unitario: 100\\nVenta total: 4833,12\\nFecha compra: 03/09/2024\\nEstado: Shipped\\nLÃ\\xadnea Producto: Classic Cars\\nCÃ³digo Producto: S10_1949\\nNombre cliente: Anna's Decorations, Ltd\\nCiudad: North Sydney\\nPaÃ\\xads: Australia\\nTerritorio: APAC\\nTamaÃ±o pedido: Small\"), Document(metadata={'source': 'Fuentes datos/datos_ventas_small.csv', 'row': 18}, page_content='ï»¿ID: 10411\\nCantidad: 46\\nPrecio unitario: 100\\nVenta total: 8280,46\\nFecha compra: 05/01/2024\\nEstado: Shipped\\nLÃ\\xadnea Producto: Classic Cars\\nCÃ³digo Producto: S10_1949\\nNombre cliente: Quebec Home Shopping Network\\nCiudad: Montreal\\nPaÃ\\xads: Canada\\nTerritorio: NA\\nTamaÃ±o pedido: Medium'), Document(metadata={'source': 'Fuentes datos/datos_ventas_small.csv', 'row': 19}, page_content='ï»¿ID: 10134\\nCantidad: 27\\nPrecio unitario: 100\\nVenta total: 3307,77\\nFecha compra: 07/01/2023\\nEstado: Shipped\\nLÃ\\xadnea Producto: Motorcycles\\nCÃ³digo Producto: S10_2016\\nNombre cliente: Lyon Souveniers\\nCiudad: Paris\\nPaÃ\\xads: France\\nTerritorio: EMEA\\nTamaÃ±o pedido: Medium'), Document(metadata={'source': 'Fuentes datos/datos_ventas_small.csv', 'row': 20}, page_content='ï»¿ID: 10159\\nCantidad: 37\\nPrecio unitario: 100\\nVenta total: 5016,83\\nFecha compra: 10/10/2023\\nEstado: Shipped\\nLÃ\\xadnea Producto: Motorcycles\\nCÃ³digo Producto: S10_2016\\nNombre cliente: Corporate Gift Ideas Co,\\nCiudad: San Francisco\\nPaÃ\\xads: USA\\nTerritorio: NA\\nTamaÃ±o pedido: Medium'), Document(metadata={'source': 'Fuentes datos/datos_ventas_small.csv', 'row': 21}, page_content='ï»¿ID: 10159\\nCantidad: 37\\nPrecio unitario: 100\\nVenta total: 5016,83\\nFecha compra: 10/10/2023\\nEstado: Shipped\\nLÃ\\xadnea Producto: Motorcycles\\nCÃ³digo Producto: S10_2016\\nNombre cliente: Corporate Gift Ideas Co,\\nCiudad: San Francisco\\nPaÃ\\xads: USA\\nTerritorio: NA\\nTamaÃ±o pedido: Medium')]\n"
     ]
    }
   ],
   "source": [
    "#Creamos el objeto \"data\" con los datos desde el cargador \"loader\"\n",
    "data = loader.load()#Creamos el objeto \"data\" con los datos desde el cargador \"loader\"\n",
    "print(data)"
   ]
  },
  {
   "cell_type": "code",
   "execution_count": 21,
   "id": "ebb9f61b",
   "metadata": {},
   "outputs": [
    {
     "data": {
      "text/plain": [
       "list"
      ]
     },
     "execution_count": 21,
     "metadata": {},
     "output_type": "execute_result"
    }
   ],
   "source": [
    "type(data)"
   ]
  },
  {
   "cell_type": "code",
   "execution_count": 22,
   "id": "80608f9b",
   "metadata": {},
   "outputs": [
    {
     "data": {
      "text/plain": [
       "Document(metadata={'source': 'Fuentes datos/datos_ventas_small.csv', 'row': 0}, page_content='ï»¿ID: 10145\\nCantidad: 45\\nPrecio unitario: 83,26\\nVenta total: 3746,7\\nFecha compra: 25/08/2023\\nEstado: Shipped\\nLÃ\\xadnea Producto: Motorcycles\\nCÃ³digo Producto: S10_1678\\nNombre cliente: Toys4GrownUps,com\\nCiudad: Pasadena\\nPaÃ\\xads: USA\\nTerritorio: NA\\nTamaÃ±o pedido: Medium')"
      ]
     },
     "execution_count": 22,
     "metadata": {},
     "output_type": "execute_result"
    }
   ],
   "source": [
    "data[0]"
   ]
  },
  {
   "cell_type": "code",
   "execution_count": 23,
   "id": "1d6463c1",
   "metadata": {},
   "outputs": [
    {
     "data": {
      "text/plain": [
       "Document(metadata={'source': 'Fuentes datos/datos_ventas_small.csv', 'row': 1}, page_content='ï»¿ID: 10159\\nCantidad: 0\\nPrecio unitario: 100\\nVenta total: 0\\nFecha compra: 10/10/2023\\nEstado: Shipped\\nLÃ\\xadnea Producto: Motorcycles\\nCÃ³digo Producto: S10_1678\\nNombre cliente: Corporate Gift Ideas Co,\\nCiudad: San Francisco\\nPaÃ\\xads: USA\\nTerritorio: NA\\nTamaÃ±o pedido: Medium')"
      ]
     },
     "execution_count": 23,
     "metadata": {},
     "output_type": "execute_result"
    }
   ],
   "source": [
    "data[1]"
   ]
  },
  {
   "cell_type": "code",
   "execution_count": 24,
   "id": "2ca14b57",
   "metadata": {},
   "outputs": [
    {
     "name": "stdout",
     "output_type": "stream",
     "text": [
      "ï»¿ID: 10159\n",
      "Cantidad: 0\n",
      "Precio unitario: 100\n",
      "Venta total: 0\n",
      "Fecha compra: 10/10/2023\n",
      "Estado: Shipped\n",
      "LÃ­nea Producto: Motorcycles\n",
      "CÃ³digo Producto: S10_1678\n",
      "Nombre cliente: Corporate Gift Ideas Co,\n",
      "Ciudad: San Francisco\n",
      "PaÃ­s: USA\n",
      "Territorio: NA\n",
      "TamaÃ±o pedido: Medium\n"
     ]
    }
   ],
   "source": [
    "print(data[1].page_content)"
   ]
  },
  {
   "cell_type": "code",
   "execution_count": 25,
   "id": "5e4cc7b5",
   "metadata": {},
   "outputs": [],
   "source": [
    "from langchain.document_loaders import BSHTMLLoader #pip install beautifulsoup4 en una terminal"
   ]
  },
  {
   "cell_type": "code",
   "execution_count": 26,
   "id": "1db4ba1f",
   "metadata": {},
   "outputs": [],
   "source": [
    "loader = BSHTMLLoader('Fuentes datos/ejemplo_web.html')"
   ]
  },
  {
   "cell_type": "code",
   "execution_count": 27,
   "id": "f90f0c88",
   "metadata": {},
   "outputs": [],
   "source": [
    "data = loader.load()"
   ]
  },
  {
   "cell_type": "code",
   "execution_count": 28,
   "id": "63d32b13",
   "metadata": {},
   "outputs": [
    {
     "data": {
      "text/plain": [
       "[Document(metadata={'source': 'Fuentes datos/ejemplo_web.html', 'title': ''}, page_content='\\n\\n\\n\\n\\nSQL, Structure Query Language (Lenguaje de Consulta Estructurado) es un lenguaje de\\nprogramacion para trabajar con base de datos relacionales como MySQL, Oracle, etc.\\nMySQL es un interpretador de SQL, es un servidor de base de datos.\\nMySQL permite crear base de datos y tablas, insertar datos, modificarlos, eliminarlos,\\nordenarlos, hacer consultas y realizar muchas operaciones, etc., resumiendo: administrar bases\\nde datos.\\n\\n\\nEste tutorial tiene por objetivo acercar los conceptos iniciales para introducirse en el mundo de\\nlas bases de datos.\\n\\n\\n\\n')]"
      ]
     },
     "execution_count": 28,
     "metadata": {},
     "output_type": "execute_result"
    }
   ],
   "source": [
    "data"
   ]
  },
  {
   "cell_type": "code",
   "execution_count": 29,
   "id": "fece1336",
   "metadata": {},
   "outputs": [
    {
     "name": "stdout",
     "output_type": "stream",
     "text": [
      "\n",
      "\n",
      "\n",
      "\n",
      "\n",
      "SQL, Structure Query Language (Lenguaje de Consulta Estructurado) es un lenguaje de\n",
      "programacion para trabajar con base de datos relacionales como MySQL, Oracle, etc.\n",
      "MySQL es un interpretador de SQL, es un servidor de base de datos.\n",
      "MySQL permite crear base de datos y tablas, insertar datos, modificarlos, eliminarlos,\n",
      "ordenarlos, hacer consultas y realizar muchas operaciones, etc., resumiendo: administrar bases\n",
      "de datos.\n",
      "\n",
      "\n",
      "Este tutorial tiene por objetivo acercar los conceptos iniciales para introducirse en el mundo de\n",
      "las bases de datos.\n",
      "\n",
      "\n",
      "\n",
      "\n"
     ]
    }
   ],
   "source": [
    " print(data[0].page_content)"
   ]
  },
  {
   "cell_type": "code",
   "execution_count": 33,
   "id": "3291f727",
   "metadata": {},
   "outputs": [],
   "source": [
    "from langchain.document_loaders import PyPDFLoader #pip install pypdf en una terminal"
   ]
  },
  {
   "cell_type": "code",
   "execution_count": 34,
   "id": "200a5fef",
   "metadata": {},
   "outputs": [],
   "source": [
    "loader = PyPDFLoader('Fuentes datos/Documento tecnologías emergentes.pdf')"
   ]
  },
  {
   "cell_type": "code",
   "execution_count": 35,
   "id": "9d78a351",
   "metadata": {},
   "outputs": [],
   "source": [
    "pages = loader.load_and_split()"
   ]
  },
  {
   "cell_type": "code",
   "execution_count": 36,
   "id": "a6ab7df3",
   "metadata": {},
   "outputs": [
    {
     "data": {
      "text/plain": [
       "list"
      ]
     },
     "execution_count": 36,
     "metadata": {},
     "output_type": "execute_result"
    }
   ],
   "source": [
    "type(pages)"
   ]
  },
  {
   "cell_type": "code",
   "execution_count": 37,
   "id": "aec73677-d974-46ef-9735-9c0a103a0cae",
   "metadata": {},
   "outputs": [
    {
     "data": {
      "text/plain": [
       "Document(metadata={'producer': 'Microsoft® Word 2016', 'creator': 'Microsoft® Word 2016', 'creationdate': '2021-01-16T17:12:17+01:00', 'author': 'Ivan Pinar', 'moddate': '2021-01-16T17:12:17+01:00', 'source': 'Fuentes datos/Documento tecnologías emergentes.pdf', 'total_pages': 4, 'page': 0, 'page_label': '1'}, page_content='Estas son las 9 tecnologías \\nemergentes para el próximo \\n2025 \\n  \\n“Que la tecnología ha cambiado nuestra manera de vivir e interactuar \\nes un hecho. Sin embargo, aún no somos conscientes de las \\npotencialidades de usos de las tecnologías.Por ejemplo, para el año \\n2025 se espera una verdadera revolución tecnológica, sobre todo \\nenfocado en el sector bio-médico pero también en las relaciones \\nhumanas entre individuos a distancia, en la protección del medio \\nambiente o en la protección de nuestros datos personales”, afirma \\nJuan Quintanilla, director general de Syntonize. \\n9 Tecnologías emergentes según Syntonize \\nLa aplicación de nuevas tecnologías que hagan más fácil la vida a \\nprofesionales, estudiantes, mayores, empresas o instituciones \\npúblicas se espera que aumente en los próximos años. Entre ellas se \\nencuentran; \\n\\uf0b7 Producción optimizada por la Inteligencia Artificial: las \\nempresas están adoptando rápidamente tecnologías basadas \\nen la nube. Gracias a ello, podrán agregar, transformar de \\nmanera inteligente y presentar contextualmente datos de \\nproductos y procesos de las líneas de fabricación. Para 2025, \\neste flujo ubicuo de datos y los algoritmos \\ninteligentes  permitirán que las líneas de fabricación se')"
      ]
     },
     "execution_count": 37,
     "metadata": {},
     "output_type": "execute_result"
    }
   ],
   "source": [
    "pages[0]"
   ]
  },
  {
   "cell_type": "code",
   "execution_count": 38,
   "id": "ef56d2ee-6573-4a52-a0c2-a7a24f8b846c",
   "metadata": {},
   "outputs": [
    {
     "name": "stdout",
     "output_type": "stream",
     "text": [
      "Estas son las 9 tecnologías \n",
      "emergentes para el próximo \n",
      "2025 \n",
      "  \n",
      "“Que la tecnología ha cambiado nuestra manera de vivir e interactuar \n",
      "es un hecho. Sin embargo, aún no somos conscientes de las \n",
      "potencialidades de usos de las tecnologías.Por ejemplo, para el año \n",
      "2025 se espera una verdadera revolución tecnológica, sobre todo \n",
      "enfocado en el sector bio-médico pero también en las relaciones \n",
      "humanas entre individuos a distancia, en la protección del medio \n",
      "ambiente o en la protección de nuestros datos personales”, afirma \n",
      "Juan Quintanilla, director general de Syntonize. \n",
      "9 Tecnologías emergentes según Syntonize \n",
      "La aplicación de nuevas tecnologías que hagan más fácil la vida a \n",
      "profesionales, estudiantes, mayores, empresas o instituciones \n",
      "públicas se espera que aumente en los próximos años. Entre ellas se \n",
      "encuentran; \n",
      " Producción optimizada por la Inteligencia Artificial: las \n",
      "empresas están adoptando rápidamente tecnologías basadas \n",
      "en la nube. Gracias a ello, podrán agregar, transformar de \n",
      "manera inteligente y presentar contextualmente datos de \n",
      "productos y procesos de las líneas de fabricación. Para 2025, \n",
      "este flujo ubicuo de datos y los algoritmos \n",
      "inteligentes  permitirán que las líneas de fabricación se\n"
     ]
    }
   ],
   "source": [
    "print(pages[0].page_content)"
   ]
  },
  {
   "cell_type": "code",
   "execution_count": 39,
   "id": "87510aaa-094a-4aad-8bf1-905cb058ef87",
   "metadata": {},
   "outputs": [],
   "source": [
    "contenido_pdf=pages[0].page_content"
   ]
  },
  {
   "cell_type": "code",
   "execution_count": 42,
   "id": "81231158-9599-46bc-84db-4d4ef41064ff",
   "metadata": {},
   "outputs": [
    {
     "data": {
      "text/plain": [
       "'Estas son las 9 tecnologías \\nemergentes para el próximo \\n2025 \\n  \\n“Que la tecnología ha cambiado nuestra manera de vivir e interactuar \\nes un hecho. Sin embargo, aún no somos conscientes de las \\npotencialidades de usos de las tecnologías.Por ejemplo, para el año \\n2025 se espera una verdadera revolución tecnológica, sobre todo \\nenfocado en el sector bio-médico pero también en las relaciones \\nhumanas entre individuos a distancia, en la protección del medio \\nambiente o en la protección de nuestros datos personales”, afirma \\nJuan Quintanilla, director general de Syntonize. \\n9 Tecnologías emergentes según Syntonize \\nLa aplicación de nuevas tecnologías que hagan más fácil la vida a \\nprofesionales, estudiantes, mayores, empresas o instituciones \\npúblicas se espera que aumente en los próximos años. Entre ellas se \\nencuentran; \\n\\uf0b7 Producción optimizada por la Inteligencia Artificial: las \\nempresas están adoptando rápidamente tecnologías basadas \\nen la nube. Gracias a ello, podrán agregar, transformar de \\nmanera inteligente y presentar contextualmente datos de \\nproductos y procesos de las líneas de fabricación. Para 2025, \\neste flujo ubicuo de datos y los algoritmos \\ninteligentes  permitirán que las líneas de fabricación se'"
      ]
     },
     "execution_count": 42,
     "metadata": {},
     "output_type": "execute_result"
    }
   ],
   "source": [
    "contenido_pdf"
   ]
  },
  {
   "cell_type": "code",
   "execution_count": 43,
   "id": "69191cf8-c252-4c89-802f-e45ec808b344",
   "metadata": {},
   "outputs": [],
   "source": [
    "human_template = '\"Necesito que hagas un resumen del siguiente texto: \\n{contenido}\"'\n",
    "human_prompt = HumanMessagePromptTemplate.from_template(human_template)"
   ]
  },
  {
   "cell_type": "code",
   "execution_count": 44,
   "id": "ebbe745a-c522-4bf3-8440-90dfe68e3340",
   "metadata": {},
   "outputs": [
    {
     "data": {
      "text/plain": [
       "ChatPromptValue(messages=[HumanMessage(content='\"Necesito que hagas un resumen del siguiente texto: \\nEstas son las 9 tecnologías \\nemergentes para el próximo \\n2025 \\n  \\n“Que la tecnología ha cambiado nuestra manera de vivir e interactuar \\nes un hecho. Sin embargo, aún no somos conscientes de las \\npotencialidades de usos de las tecnologías.Por ejemplo, para el año \\n2025 se espera una verdadera revolución tecnológica, sobre todo \\nenfocado en el sector bio-médico pero también en las relaciones \\nhumanas entre individuos a distancia, en la protección del medio \\nambiente o en la protección de nuestros datos personales”, afirma \\nJuan Quintanilla, director general de Syntonize. \\n9 Tecnologías emergentes según Syntonize \\nLa aplicación de nuevas tecnologías que hagan más fácil la vida a \\nprofesionales, estudiantes, mayores, empresas o instituciones \\npúblicas se espera que aumente en los próximos años. Entre ellas se \\nencuentran; \\n\\uf0b7 Producción optimizada por la Inteligencia Artificial: las \\nempresas están adoptando rápidamente tecnologías basadas \\nen la nube. Gracias a ello, podrán agregar, transformar de \\nmanera inteligente y presentar contextualmente datos de \\nproductos y procesos de las líneas de fabricación. Para 2025, \\neste flujo ubicuo de datos y los algoritmos \\ninteligentes  permitirán que las líneas de fabricación se\"', additional_kwargs={}, response_metadata={})])"
      ]
     },
     "execution_count": 44,
     "metadata": {},
     "output_type": "execute_result"
    }
   ],
   "source": [
    "chat_prompt = ChatPromptTemplate.from_messages([human_prompt])\n",
    "\n",
    "chat_prompt.format_prompt(contenido=contenido_pdf)"
   ]
  },
  {
   "cell_type": "code",
   "execution_count": 45,
   "id": "8589601c-608f-4e1e-a021-8dd4a713b876",
   "metadata": {},
   "outputs": [],
   "source": [
    "solicitud_completa = chat_prompt.format_prompt(contenido=contenido_pdf).to_messages()"
   ]
  },
  {
   "cell_type": "code",
   "execution_count": 46,
   "id": "9cbaacf3-2210-4540-a2f7-5869d948b2e2",
   "metadata": {},
   "outputs": [],
   "source": [
    "result = chat.invoke(solicitud_completa)"
   ]
  },
  {
   "cell_type": "code",
   "execution_count": 47,
   "id": "e0c8b224-05e6-4e6f-8c07-c7a715846941",
   "metadata": {},
   "outputs": [
    {
     "data": {
      "text/plain": [
       "'En el año 2025 se espera una revolución tecnológica enfocada en el sector bio-médico, en las relaciones humanas a distancia, en la protección del medio ambiente y en la protección de los datos personales. Según Juan Quintanilla, director general de Syntonize, se esperan 9 tecnologías emergentes, entre las que se incluye la producción optimizada por Inteligencia Artificial, la adopción de tecnologías basadas en la nube por empresas para transformar datos de manera inteligente y presentarlos contextualmente en las líneas de fabricación. Estas tecnologías facilitarán la vida de profesionales, estudiantes, mayores, empresas e instituciones públicas en los próximos años.'"
      ]
     },
     "execution_count": 47,
     "metadata": {},
     "output_type": "execute_result"
    }
   ],
   "source": [
    "result.content\n"
   ]
  },
  {
   "cell_type": "code",
   "execution_count": 48,
   "id": "147318b8-6d2e-4d65-b8bc-6e6baba38d07",
   "metadata": {},
   "outputs": [
    {
     "name": "stdout",
     "output_type": "stream",
     "text": [
      "Estas son las 9 tecnologías \n",
      "emergentes para el próximo \n",
      "2025 \n",
      "  \n",
      "“Que la tecnología ha cambiado nuestra manera de vivir e interactuar \n",
      "es un hecho. Sin embargo, aún no somos conscientes de las \n",
      "potencialidades de usos de las tecnologías.Por ejemplo, para el año \n",
      "2025 se espera una verdadera revolución tecnológica, sobre todo \n",
      "enfocado en el sector bio-médico pero también en las relaciones \n",
      "humanas entre individuos a distancia, en la protección del medio \n",
      "ambiente o en la protección de nuestros datos personales”, afirma \n",
      "Juan Quintanilla, director general de Syntonize. \n",
      "9 Tecnologías emergentes según Syntonize \n",
      "La aplicación de nuevas tecnologías que hagan más fácil la vida a \n",
      "profesionales, estudiantes, mayores, empresas o instituciones \n",
      "públicas se espera que aumente en los próximos años. Entre ellas se \n",
      "encuentran; \n",
      " Producción optimizada por la Inteligencia Artificial: las \n",
      "empresas están adoptando rápidamente tecnologías basadas \n",
      "en la nube. Gracias a ello, podrán agregar, transformar de \n",
      "manera inteligente y presentar contextualmente datos de \n",
      "productos y procesos de las líneas de fabricación. Para 2025, \n",
      "este flujo ubicuo de datos y los algoritmos \n",
      "inteligentes  permitirán que las líneas de fabricación seoptimicen continuamente. Así se podrá reducir el desperdicio \n",
      "total en la fabricación hasta en un 50%. Como resultado, \n",
      "disfrutaremos de productos de mayor calidad, producidos \n",
      "más rápido y a menor coste para nuestros bolsillos y el \n",
      "medio ambiente. \n",
      " Energías renovables de largo alcance: en 2025, la huella \n",
      "de carbono se considerará socialmente inaceptable. La \n",
      "pandemia ha centrado la atención en la necesidad de tomar \n",
      "medidas para las amenazas a nuestra forma de vida, nuestra \n",
      "salud y nuestro futuro. Por ello, las personas, las empresas y \n",
      "los países buscarán las formas más rápidas y asequibles para \n",
      "lograr cero neto de emisiones. Además, surgirá una industria \n",
      "masiva de gestión del carbono para capturar, utilizar y \n",
      "eliminar el dióxido de carbono, desencadenando una ola de \n",
      "innovación comparable con las revoluciones industriales y \n",
      "digitales del pasado. \n",
      " Los ordenadores cuánticos: aterrizarán oficialmente en el \n",
      "mercado, a través de ellos podremos abordar problemas \n",
      "muchos más complejos, como reacciones químicas \n",
      "complejas, que facilitarán la investigación y la aplicación \n",
      "médica. Los cálculos cuánticos ayudaran al diseño de \n",
      "materiales con propiedades nunca antes pensadas. \n",
      " Prevención sanitaria a través de la comida: los sistemas \n",
      "de atención médica adoptarán en 2025 enfoques de salud \n",
      "más preventivos basados, principalmente, en la ciencia \n",
      "detrás de los beneficios para la salud de las dietas ricas en \n",
      "nutrientes vegetales. Esta tendencia estará habilitada por \n",
      "tecnologías basadas en IA mediante la biología de sistemas.La aplicación de nuevas tecnologías \n",
      "que hagan más fácil la vida a \n",
      "profesionales, estudiantes, mayores, \n",
      "empresas o instituciones públicas se \n",
      "espera que aumente en los próximos \n",
      "años \n",
      " El 5G mejorará la economía global y salvará vidas: el \n",
      "confinamiento ha provocado un crecimiento muy importante \n",
      "en el uso de la videoconferencia por parte de empresas y \n",
      "centros educativos, especialmente a través de redes de baja \n",
      "calidad. Las redes 5G de baja latencia resolverían esta falta \n",
      "de confiabilidad de red e incluso permitirían más servicios de \n",
      "alta capacidad, como telesalud, telecirugía o servicios de \n",
      "emergencia. \n",
      " Nueva normalidad frente al cáncer: la tecnología impulsa \n",
      "los datos, los datos catalizan el conocimiento y el \n",
      "conocimiento permite el empoderamiento. En el futuro más \n",
      "cercano, el cáncer se manejará como cualquier afección de \n",
      "salud crónica. Podremos identificar con precisión a lo que nos \n",
      "podemos enfrentar y estar capacitados para superarlo. De la \n",
      "misma manera, viviremos una revolución en el tratamiento \n",
      "impulsado por la tecnología. \n",
      " Ruptura de la barrera virtual-real: en los próximos años, \n",
      "podremos ver que este progreso se acelere, con tecnologías \n",
      "de inteligencia artificial creadas para conectar a las personas \n",
      "a nivel humano y acercarlas entre sí, incluso cuando estánfísicamente separadas. La línea entre el espacio físico y lo \n",
      "virtual se borrará para siempre. \n",
      " Remitir el cambio climático: una ampliación de las \n",
      "tecnologías de emisión negativa, como la eliminación de \n",
      "dióxido de carbono, eliminará del aire las cantidades de CO2 \n",
      "relevantes para el clima. Esto será necesario para limitar el \n",
      "calentamiento global a 1,5° C. Si bien la humanidad hará \n",
      "todo lo posible por dejar de emitir más carbono a la \n",
      "atmósfera, también hará todo lo posible para eliminar el CO2 \n",
      "histórico del aire de forma permanente. \n",
      " Comprender los secretos microscópicos ocultos en las \n",
      "superficies: la tecnología que acelera nuestra capacidad de \n",
      "muestrear, digitalizar e interpretar rápidamente los datos de \n",
      "los microbiomas transformará nuestra comprensión de cómo \n",
      "se propagan los patógenos. \n",
      " La privacidad estará generalizada y priorizada: la \n",
      "capacidad de los consumidores para proteger y controlar los \n",
      "activos de datos confidenciales se considerará como la regla \n",
      "y no como la excepción. Las tecnologías de mejora de la \n",
      "privacidad supondrán una categoría tecnológica propia y se \n",
      "convertirán en un elemento fundamental de las estrategias \n",
      "de privacidad y seguridad de la empresa.\n"
     ]
    }
   ],
   "source": [
    "#Resumir el documento completo\n",
    "#Creamos una string concatenando el contenido de todas las páginas\n",
    "documento_completo = \"\"\n",
    "for page in pages:\n",
    "    documento_completo += page.page_content  # Supongamos que cada página tiene un atributo 'text'\n",
    "\n",
    "print(documento_completo)"
   ]
  },
  {
   "cell_type": "code",
   "execution_count": 49,
   "id": "a0a6c3ae-6f6e-46c1-8fc5-f928583b6985",
   "metadata": {},
   "outputs": [],
   "source": [
    "solicitud_completa = chat_prompt.format_prompt(contenido=documento_completo).to_messages()"
   ]
  },
  {
   "cell_type": "code",
   "execution_count": 50,
   "id": "72c553e7-c380-4d3d-89f8-8de0afa9b1bd",
   "metadata": {},
   "outputs": [],
   "source": [
    "result = chat.invoke(solicitud_completa)"
   ]
  },
  {
   "cell_type": "code",
   "execution_count": 51,
   "id": "dcf18a54-2b48-4d49-856e-f6eb7cd65c43",
   "metadata": {},
   "outputs": [
    {
     "data": {
      "text/plain": [
       "'El texto menciona las 9 tecnologías emergentes que se esperan para el año 2025. Estas incluyen la producción optimizada por Inteligencia Artificial, energías renovables de largo alcance, computadoras cuánticas, prevención sanitaria a través de la comida, redes 5G, avances en el tratamiento del cáncer, tecnologías que conectan lo virtual con lo real, tecnologías para combatir el cambio climático, avances en microbiomas y la priorización de la privacidad de datos. Se espera que estas tecnologías revolucionen varios sectores, desde la producción industrial hasta la medicina, y mejoren la calidad de vida de las personas.'"
      ]
     },
     "execution_count": 51,
     "metadata": {},
     "output_type": "execute_result"
    }
   ],
   "source": [
    "result.content"
   ]
  },
  {
   "cell_type": "code",
   "execution_count": null,
   "id": "88848fdb-80b9-4401-9ff3-c3bf183e5a23",
   "metadata": {},
   "outputs": [],
   "source": []
  }
 ],
 "metadata": {
  "kernelspec": {
   "display_name": "Python 3 (ipykernel)",
   "language": "python",
   "name": "python3"
  },
  "language_info": {
   "codemirror_mode": {
    "name": "ipython",
    "version": 3
   },
   "file_extension": ".py",
   "mimetype": "text/x-python",
   "name": "python",
   "nbconvert_exporter": "python",
   "pygments_lexer": "ipython3",
   "version": "3.12.7"
  }
 },
 "nbformat": 4,
 "nbformat_minor": 5
}
