{
 "cells": [
  {
   "cell_type": "code",
   "execution_count": 21,
   "id": "2fcb8686-20c1-431c-ad99-16f9f2bf93b7",
   "metadata": {},
   "outputs": [],
   "source": [
    "from langchain.prompts import PromptTemplate, SystemMessagePromptTemplate,ChatPromptTemplate, HumanMessagePromptTemplate\n",
    "from langchain_openai import ChatOpenAI\n",
    "from langchain.chains import SimpleSequentialChain, LLMChain,TransformChain\n",
    "f = open('../api_key.txt')\n",
    "api_key = f.read()\n",
    "llm = ChatOpenAI(openai_api_key=api_key)"
   ]
  },
  {
   "cell_type": "code",
   "execution_count": 22,
   "id": "abd57201-bca2-484d-bfcf-ee8b71dfa489",
   "metadata": {},
   "outputs": [],
   "source": [
    "from langchain.embeddings.openai import OpenAIEmbeddings\n",
    "from langchain_community.vectorstores import SKLearnVectorStore"
   ]
  },
  {
   "cell_type": "code",
   "execution_count": 23,
   "id": "9b9ca93d-e716-4687-91ea-93ac72504ba9",
   "metadata": {},
   "outputs": [],
   "source": [
    "embedding_function = OpenAIEmbeddings(openai_api_key=api_key)"
   ]
  },
  {
   "cell_type": "code",
   "execution_count": 24,
   "id": "1ce460ec-1b21-476e-aa1f-34894df437cc",
   "metadata": {},
   "outputs": [],
   "source": [
    "vector_store_connection = SKLearnVectorStore(embedding=embedding_function, persist_path=\"../Session3/ejemplosk_embedding_db\", serializer=\"parquet\")"
   ]
  },
  {
   "cell_type": "code",
   "execution_count": 25,
   "id": "9e31200c-e080-4101-bacf-ebb88edf262c",
   "metadata": {},
   "outputs": [],
   "source": [
    "from langchain.chains.question_answering import load_qa_chain\n",
    "from langchain.chains.qa_with_sources import load_qa_with_sources_chain #Opción que proporciona también la fuente de datos de la respuesta"
   ]
  },
  {
   "cell_type": "code",
   "execution_count": 26,
   "id": "2d49421c-be82-418b-80ba-7d4a2c9fd7f5",
   "metadata": {},
   "outputs": [],
   "source": [
    "chain = load_qa_chain(llm,chain_type='stuff') #chain_type='stuff' se usa cuando se desea una manera simple y directa de cargar y procesar el contenido completo sin dividirlo en fragmentos más pequeños. Es ideal para situaciones donde el volumen de datos no es demasiado grande y se puede manejar de manera eficiente por el modelo de lenguaje en una sola operación."
   ]
  },
  {
   "cell_type": "code",
   "execution_count": 27,
   "id": "1683fd27-90f4-42e8-881c-c99d8d45acb1",
   "metadata": {},
   "outputs": [],
   "source": [
    "question = \"¿Qué pasó en el siglo de Oro?\""
   ]
  },
  {
   "cell_type": "code",
   "execution_count": 29,
   "id": "3ae31c12-fa7d-4b37-a3ee-d9a8ae27e3ff",
   "metadata": {},
   "outputs": [],
   "source": [
    "docs = vector_store_connection.similarity_search(question)"
   ]
  },
  {
   "cell_type": "code",
   "execution_count": null,
   "id": "7cabeb22-eca6-4514-93b9-f36e1150cfa6",
   "metadata": {},
   "outputs": [],
   "source": []
  },
  {
   "cell_type": "code",
   "execution_count": 30,
   "id": "dd3a4ea5-c02f-4640-b649-b2fc9a63c329",
   "metadata": {},
   "outputs": [
    {
     "data": {
      "text/plain": [
       "'En el Siglo de Oro español, que abarca desde la publicación de la Gramática castellana de Nebrija en 1492 hasta la muerte de Calderón en 1681, hubo un período floreciente en las artes y las letras hispanas. Durante esta época, la literatura española alcanzó su máximo esplendor con autores como Miguel de Cervantes Saavedra, quien escribió \"Don Quijote de la Mancha\", considerada la primera novela moderna. Además, surgieron otros escritores notables como Quevedo, Góngora, Lope de Vega, Calderón de la Barca, entre otros. Fue una época de gran producción artística y cultural en España.'"
      ]
     },
     "execution_count": 30,
     "metadata": {},
     "output_type": "execute_result"
    }
   ],
   "source": [
    "chain.run(input_documents=docs,question=question)"
   ]
  },
  {
   "cell_type": "code",
   "execution_count": 31,
   "id": "5be63891-1221-4ebd-9b2d-79ea6bfd0e4a",
   "metadata": {},
   "outputs": [],
   "source": [
    "#Estructurar un diccionario con los parámetros de entrada\n",
    "inputs = {\n",
    "    \"input_documents\": docs,\n",
    "    \"question\": question\n",
    "}"
   ]
  },
  {
   "cell_type": "code",
   "execution_count": 32,
   "id": "e4973041-75ce-4d8d-87b4-0d73eef74bef",
   "metadata": {},
   "outputs": [
    {
     "data": {
      "text/plain": [
       "'Durante el Siglo de Oro español, que abarcó desde la publicación de la Gramática castellana de Nebrija en 1492 hasta la muerte de Calderón en 1681, hubo un florecimiento en las artes y las letras hispanas. Destacaron grandes figuras literarias como Miguel de Cervantes con su obra cumbre \"Don Quijote de la Mancha\", así como autores como Quevedo, Góngora, Lope, Calderón, Tirso de Molina, Fernando de Rojas, San Juan de la Cruz, Fray Luis de León, Santa Teresa de Ávila, Mateo Alemán, entre otros. Este período es considerado como un apogeo cultural en España, donde la literatura, la música, la arquitectura, y otras expresiones artísticas alcanzaron un gran prestigio y reconocimiento.'"
      ]
     },
     "execution_count": 32,
     "metadata": {},
     "output_type": "execute_result"
    }
   ],
   "source": [
    "chain.invoke(inputs)[\"output_text\"]"
   ]
  },
  {
   "cell_type": "code",
   "execution_count": null,
   "id": "0de990af-96b2-4682-aa00-6dc57b00eeba",
   "metadata": {},
   "outputs": [],
   "source": []
  }
 ],
 "metadata": {
  "kernelspec": {
   "display_name": "Python 3 (ipykernel)",
   "language": "python",
   "name": "python3"
  },
  "language_info": {
   "codemirror_mode": {
    "name": "ipython",
    "version": 3
   },
   "file_extension": ".py",
   "mimetype": "text/x-python",
   "name": "python",
   "nbconvert_exporter": "python",
   "pygments_lexer": "ipython3",
   "version": "3.12.7"
  }
 },
 "nbformat": 4,
 "nbformat_minor": 5
}
