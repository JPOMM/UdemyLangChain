{
 "cells": [
  {
   "cell_type": "code",
   "execution_count": 1,
   "id": "65ab6c82-fdff-45a3-8cf3-8f7b8427dc7d",
   "metadata": {},
   "outputs": [],
   "source": [
    "from langchain.prompts import PromptTemplate, SystemMessagePromptTemplate,ChatPromptTemplate, HumanMessagePromptTemplate\n",
    "from langchain_openai import ChatOpenAI\n",
    "from langchain.chains import SequentialChain, LLMChain #importamos el SequentialChain que es el modelo completo\n",
    "f = open('../api_key.txt')\n",
    "api_key = f.read()\n",
    "llm = ChatOpenAI(openai_api_key=api_key)"
   ]
  },
  {
   "cell_type": "code",
   "execution_count": 3,
   "id": "e82e5b22-caba-4983-8bc5-92b0a534c399",
   "metadata": {},
   "outputs": [],
   "source": [
    "template1 = \"Dame un resumen del rendimiento de este trabajador:\\n{revision_rendimiento}\"\n",
    "prompt1 = ChatPromptTemplate.from_template(template1)\n",
    "chain_1 = LLMChain(llm=llm,\n",
    "                     prompt=prompt1,\n",
    "                     output_key=\"resumen_revision\")\n",
    "\n",
    "#Opciones objetos runnables: chain_1= prompt1 | llm"
   ]
  },
  {
   "cell_type": "code",
   "execution_count": 4,
   "id": "67a5b1e1-10f3-4c1f-82c8-9a9563347dfa",
   "metadata": {},
   "outputs": [],
   "source": [
    "template2 = \"Identifica las debilidades de este trabajador dentro de de este resumen de la revisión:\\n{resumen_revision}\"\n",
    "prompt2 = ChatPromptTemplate.from_template(template2)\n",
    "chain_2 = LLMChain(llm=llm,\n",
    "                     prompt=prompt2,\n",
    "                     output_key=\"debilidades\")\n",
    "\n",
    "#Opciones objetos runnables: chain_2= prompt2 | llm"
   ]
  },
  {
   "cell_type": "code",
   "execution_count": 5,
   "id": "9cc2e0ac-c9e3-452c-bf50-6b9547984bc5",
   "metadata": {},
   "outputs": [],
   "source": [
    "template3 = \"Crea un plan de mejora para ayudar en estas debilidades:\\n{debilidades}\"\n",
    "prompt3 = ChatPromptTemplate.from_template(template3)\n",
    "chain_3 = LLMChain(llm=llm,\n",
    "                     prompt=prompt3,\n",
    "                     output_key=\"plan_mejora\")\n",
    "\n",
    "#Opciones objetos runnables: chain_3= prompt3 | llm"
   ]
  },
  {
   "cell_type": "code",
   "execution_count": 6,
   "id": "d426eafb-ec6f-4c04-9a52-925a5bf5cf5d",
   "metadata": {},
   "outputs": [],
   "source": [
    "seq_chain = SequentialChain(chains=[chain_1,chain_2,chain_3],\n",
    "                            input_variables=['revision_rendimiento'],\n",
    "                            output_variables=['resumen_revision','debilidades','plan_mejora'],\n",
    "                            verbose=True)"
   ]
  },
  {
   "cell_type": "code",
   "execution_count": 7,
   "id": "0051044c-2016-4fe7-86bd-15e10e415027",
   "metadata": {},
   "outputs": [],
   "source": [
    "revision_rendimiento_empleado = '''\n",
    "Revisión de Rendimiento del Empleado\n",
    "\n",
    "Nombre del Empleado: Juan Pérez\n",
    "Posición: Analista de Datos\n",
    "Período Evaluado: Enero 2023 - Junio 2023\n",
    "\n",
    "Fortalezas:\n",
    "Juan ha demostrado un fuerte dominio de las herramientas analíticas y ha proporcionado informes detallados y precisos que han sido de gran ayuda para la toma de decisiones estratégicas. Su capacidad para trabajar en equipo y su disposición para ayudar a los demás también han sido notables. Además, ha mostrado una gran ética de trabajo y una actitud positiva en el entorno laboral.\n",
    "\n",
    "Debilidades:\n",
    "A pesar de sus muchas fortalezas, Juan ha mostrado áreas que necesitan mejoras. En particular, se ha observado que a veces tiene dificultades para manejar múltiples tareas simultáneamente, lo que resulta en retrasos en la entrega de proyectos. También ha habido ocasiones en las que la calidad del trabajo ha disminuido bajo presión. Además, se ha identificado una necesidad de mejorar sus habilidades de comunicación, especialmente en lo que respecta a la presentación de datos complejos de manera clara y concisa a los miembros no técnicos del equipo. Finalmente, se ha notado una falta de proactividad en la búsqueda de soluciones a problemas imprevistos, confiando a menudo en la orientación de sus superiores en lugar de tomar la iniciativa.\n",
    "'''"
   ]
  },
  {
   "cell_type": "code",
   "execution_count": 8,
   "id": "0aa9f79b-f7a2-45d6-bda3-87492e7890d0",
   "metadata": {},
   "outputs": [
    {
     "name": "stdout",
     "output_type": "stream",
     "text": [
      "\n",
      "\n",
      "\u001b[1m> Entering new SequentialChain chain...\u001b[0m\n",
      "\n",
      "\u001b[1m> Finished chain.\u001b[0m\n"
     ]
    }
   ],
   "source": [
    "results = seq_chain.invoke(revision_rendimiento_empleado)"
   ]
  },
  {
   "cell_type": "code",
   "execution_count": 9,
   "id": "f7703ee5-3396-4b20-92bd-88be59e5a9f0",
   "metadata": {},
   "outputs": [
    {
     "data": {
      "text/plain": [
       "{'revision_rendimiento': '\\nRevisión de Rendimiento del Empleado\\n\\nNombre del Empleado: Juan Pérez\\nPosición: Analista de Datos\\nPeríodo Evaluado: Enero 2023 - Junio 2023\\n\\nFortalezas:\\nJuan ha demostrado un fuerte dominio de las herramientas analíticas y ha proporcionado informes detallados y precisos que han sido de gran ayuda para la toma de decisiones estratégicas. Su capacidad para trabajar en equipo y su disposición para ayudar a los demás también han sido notables. Además, ha mostrado una gran ética de trabajo y una actitud positiva en el entorno laboral.\\n\\nDebilidades:\\nA pesar de sus muchas fortalezas, Juan ha mostrado áreas que necesitan mejoras. En particular, se ha observado que a veces tiene dificultades para manejar múltiples tareas simultáneamente, lo que resulta en retrasos en la entrega de proyectos. También ha habido ocasiones en las que la calidad del trabajo ha disminuido bajo presión. Además, se ha identificado una necesidad de mejorar sus habilidades de comunicación, especialmente en lo que respecta a la presentación de datos complejos de manera clara y concisa a los miembros no técnicos del equipo. Finalmente, se ha notado una falta de proactividad en la búsqueda de soluciones a problemas imprevistos, confiando a menudo en la orientación de sus superiores en lugar de tomar la iniciativa.\\n',\n",
       " 'resumen_revision': 'En resumen, Juan Pérez es un empleado con sólidas habilidades analíticas, una ética de trabajo excepcional y una actitud positiva en el trabajo en equipo. Sin embargo, necesita mejorar en la gestión de múltiples tareas, mantener la calidad del trabajo bajo presión, mejorar sus habilidades de comunicación y ser más proactivo en la resolución de problemas. En general, Juan tiene un buen rendimiento pero necesita esforzarse más en algunas áreas específicas para alcanzar su máximo potencial.',\n",
       " 'debilidades': 'Debilidades identificadas en Juan Pérez:\\n\\n1. Gestión de múltiples tareas: Tiene dificultad para manejar varias actividades al mismo tiempo.\\n2. Mantenimiento de la calidad del trabajo bajo presión: Tiende a disminuir la calidad de su trabajo cuando se encuentra bajo presión.\\n3. Habilidades de comunicación: Necesita mejorar su capacidad para comunicarse efectivamente con sus compañeros y superiores.\\n4. Proactividad en la resolución de problemas: Debe ser más proactivo en la identificación y solución de problemas en el trabajo.',\n",
       " 'plan_mejora': 'Plan de mejora para Juan Pérez:\\n\\n1. Gestión de múltiples tareas: Se recomienda que Juan implemente una herramienta de gestión del tiempo, como un calendario o una lista de tareas, para priorizar y organizar sus actividades diarias. También puede beneficiarse de la técnica Pomodoro, que consiste en trabajar en bloques de tiempo cortos y realizar pausas regulares para mantenerse enfocado.\\n\\n2. Mantenimiento de la calidad del trabajo bajo presión: Juan puede mejorar su capacidad para mantener la calidad del trabajo bajo presión practicando técnicas de manejo del estrés, como la respiración profunda, la meditación o el ejercicio regular. También es importante que aprenda a delegar tareas cuando sea necesario y a pedir ayuda a sus compañeros si siente que la presión está afectando su rendimiento.\\n\\n3. Habilidades de comunicación: Juan puede trabajar en mejorar sus habilidades de comunicación participando en cursos de comunicación efectiva, practicando la escucha activa y utilizando un lenguaje claro y conciso en sus interacciones con los demás. También es importante que se tome el tiempo para comprender las necesidades y expectativas de sus colegas para poder comunicarse de manera más efectiva.\\n\\n4. Proactividad en la resolución de problemas: Juan puede desarrollar su capacidad para ser más proactivo en la resolución de problemas estableciendo metas y objetivos claros, identificando posibles obstáculos y buscando soluciones antes de que se conviertan en problemas mayores. También puede beneficiarse de trabajar en equipo y colaborar con sus compañeros para encontrar soluciones creativas y efectivas.'}"
      ]
     },
     "execution_count": 9,
     "metadata": {},
     "output_type": "execute_result"
    }
   ],
   "source": [
    "results #Tenemos un diccionario con todos los resultados intermedios y final"
   ]
  },
  {
   "cell_type": "code",
   "execution_count": 10,
   "id": "8973900d-c34f-4e4b-bd5c-a74875560a84",
   "metadata": {},
   "outputs": [
    {
     "name": "stdout",
     "output_type": "stream",
     "text": [
      "Plan de mejora para Juan Pérez:\n",
      "\n",
      "1. Gestión de múltiples tareas: Se recomienda que Juan implemente una herramienta de gestión del tiempo, como un calendario o una lista de tareas, para priorizar y organizar sus actividades diarias. También puede beneficiarse de la técnica Pomodoro, que consiste en trabajar en bloques de tiempo cortos y realizar pausas regulares para mantenerse enfocado.\n",
      "\n",
      "2. Mantenimiento de la calidad del trabajo bajo presión: Juan puede mejorar su capacidad para mantener la calidad del trabajo bajo presión practicando técnicas de manejo del estrés, como la respiración profunda, la meditación o el ejercicio regular. También es importante que aprenda a delegar tareas cuando sea necesario y a pedir ayuda a sus compañeros si siente que la presión está afectando su rendimiento.\n",
      "\n",
      "3. Habilidades de comunicación: Juan puede trabajar en mejorar sus habilidades de comunicación participando en cursos de comunicación efectiva, practicando la escucha activa y utilizando un lenguaje claro y conciso en sus interacciones con los demás. También es importante que se tome el tiempo para comprender las necesidades y expectativas de sus colegas para poder comunicarse de manera más efectiva.\n",
      "\n",
      "4. Proactividad en la resolución de problemas: Juan puede desarrollar su capacidad para ser más proactivo en la resolución de problemas estableciendo metas y objetivos claros, identificando posibles obstáculos y buscando soluciones antes de que se conviertan en problemas mayores. También puede beneficiarse de trabajar en equipo y colaborar con sus compañeros para encontrar soluciones creativas y efectivas.\n"
     ]
    }
   ],
   "source": [
    "#Resultado final\n",
    "print(results['plan_mejora'])"
   ]
  },
  {
   "cell_type": "code",
   "execution_count": 11,
   "id": "593799f8-b01c-42f0-9f60-0ecfae935b5d",
   "metadata": {},
   "outputs": [
    {
     "name": "stdout",
     "output_type": "stream",
     "text": [
      "Debilidades identificadas en Juan Pérez:\n",
      "\n",
      "1. Gestión de múltiples tareas: Tiene dificultad para manejar varias actividades al mismo tiempo.\n",
      "2. Mantenimiento de la calidad del trabajo bajo presión: Tiende a disminuir la calidad de su trabajo cuando se encuentra bajo presión.\n",
      "3. Habilidades de comunicación: Necesita mejorar su capacidad para comunicarse efectivamente con sus compañeros y superiores.\n",
      "4. Proactividad en la resolución de problemas: Debe ser más proactivo en la identificación y solución de problemas en el trabajo.\n"
     ]
    }
   ],
   "source": [
    "#Se puede accceder a los resultados intermedios:\n",
    "print(results[\"debilidades\"])"
   ]
  },
  {
   "cell_type": "code",
   "execution_count": null,
   "id": "37b6ce19-dc4d-4f51-86cc-f94a0f8ea5a7",
   "metadata": {},
   "outputs": [],
   "source": []
  }
 ],
 "metadata": {
  "kernelspec": {
   "display_name": "Python 3 (ipykernel)",
   "language": "python",
   "name": "python3"
  },
  "language_info": {
   "codemirror_mode": {
    "name": "ipython",
    "version": 3
   },
   "file_extension": ".py",
   "mimetype": "text/x-python",
   "name": "python",
   "nbconvert_exporter": "python",
   "pygments_lexer": "ipython3",
   "version": "3.12.7"
  }
 },
 "nbformat": 4,
 "nbformat_minor": 5
}
