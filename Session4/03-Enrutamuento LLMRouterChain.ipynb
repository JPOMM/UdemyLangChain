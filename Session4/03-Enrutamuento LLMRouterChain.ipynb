{
 "cells": [
  {
   "cell_type": "code",
   "execution_count": 1,
   "id": "643fc7c1-517a-44c8-9ce1-9d7e19463f75",
   "metadata": {},
   "outputs": [],
   "source": [
    "from langchain.prompts import PromptTemplate, SystemMessagePromptTemplate,ChatPromptTemplate, HumanMessagePromptTemplate\n",
    "from langchain_openai import ChatOpenAI\n",
    "from langchain.chains import SequentialChain, LLMChain #importamos el SequentialChain que es el modelo completo\n",
    "f = open('../api_key.txt')\n",
    "api_key = f.read()\n",
    "llm = ChatOpenAI(openai_api_key=api_key)"
   ]
  },
  {
   "cell_type": "code",
   "execution_count": 2,
   "id": "64108d0e-6618-41c1-ab0c-c8eb7f182d2b",
   "metadata": {},
   "outputs": [],
   "source": [
    "#Template (prompt) para soporte básico a clientes de coches\n",
    "plantilla_soporte_basico_cliente = '''Eres una persona que asiste a los clientes de automóviles con preguntas básicas que pueden\n",
    "necesitar en su día a día y que explica los conceptos de una manera que sea simple de entender. Asume que no tienen conocimiento\n",
    "previo. Esta es la pregunta del usuario/n{input}'''"
   ]
  },
  {
   "cell_type": "code",
   "execution_count": 3,
   "id": "32da6655-4725-40f7-973d-db63548b1d04",
   "metadata": {},
   "outputs": [],
   "source": [
    "#Template (prompt) para soporte avanzados a nuestros expertos en mecánica\n",
    "plantilla_soporte_avanzado_mecánico = '''Eres un experto en mecánica que explicas consultas avanzadas a los mecánicos\n",
    "de la plantilla. Puedes asumir que cualquier que está preguntando tiene conocimientos avanzados de mecánica. \n",
    "Esta es la pregunta del usuario/n{input}'''"
   ]
  },
  {
   "cell_type": "code",
   "execution_count": 4,
   "id": "029889c1-34e5-450b-8ab9-0da1f8e31c2c",
   "metadata": {},
   "outputs": [],
   "source": [
    "#Debemos crear una lista de diccionarios, cada diccionario contiene su nombre, la descripción (en base a la cual el enrutador\n",
    "#hará su trabajo) y el prompt a usar en cada caso\n",
    "prompt_infos = [\n",
    "    {'name':'mecánica básica','description': 'Responde preguntas básicas de mecánicas a clientes',\n",
    "     'prompt_template':plantilla_soporte_basico_cliente},\n",
    "    {'name':'mecánica avanzada','description': 'Responde preguntas avanzadas de mecánica a expertos con conocimiento previo',\n",
    "     'prompt_template':plantilla_soporte_avanzado_mecánico},\n",
    "    \n",
    "]"
   ]
  },
  {
   "cell_type": "code",
   "execution_count": 5,
   "id": "62b1c2d2-17c9-4303-90b0-90cc6fa07baa",
   "metadata": {},
   "outputs": [],
   "source": [
    "from langchain.chains import LLMChain"
   ]
  },
  {
   "cell_type": "code",
   "execution_count": 7,
   "id": "918181bc-e73b-4663-bc8d-eaac97d8a3e2",
   "metadata": {},
   "outputs": [],
   "source": [
    "#Creamos un diccionario de objetos LLMChain con las posibles cadenas destino\n",
    "destination_chains = {}\n",
    "for p_info in prompt_infos:\n",
    "    name = p_info[\"name\"]\n",
    "    prompt_template = p_info[\"prompt_template\"]\n",
    "    prompt = ChatPromptTemplate.from_template(template=prompt_template)\n",
    "    chain = LLMChain(llm=llm, prompt=prompt)\n",
    "    destination_chains[name] = chain"
   ]
  },
  {
   "cell_type": "code",
   "execution_count": 8,
   "id": "dc1e1a17-b69c-408c-93ec-d767c9ef5a44",
   "metadata": {},
   "outputs": [
    {
     "data": {
      "text/plain": [
       "{'mecánica básica': LLMChain(verbose=False, prompt=ChatPromptTemplate(input_variables=['input'], input_types={}, partial_variables={}, messages=[HumanMessagePromptTemplate(prompt=PromptTemplate(input_variables=['input'], input_types={}, partial_variables={}, template='Eres una persona que asiste a los clientes de automóviles con preguntas básicas que pueden\\nnecesitar en su día a día y que explica los conceptos de una manera que sea simple de entender. Asume que no tienen conocimiento\\nprevio. Esta es la pregunta del usuario/n{input}'), additional_kwargs={})]), llm=ChatOpenAI(client=<openai.resources.chat.completions.completions.Completions object at 0x00000174AC61BE30>, async_client=<openai.resources.chat.completions.completions.AsyncCompletions object at 0x00000174AC6A5B50>, root_client=<openai.OpenAI object at 0x00000174A972FAA0>, root_async_client=<openai.AsyncOpenAI object at 0x00000174AC61BE60>, model_kwargs={}, openai_api_key=SecretStr('**********')), output_parser=StrOutputParser(), llm_kwargs={}),\n",
       " 'mecánica avanzada': LLMChain(verbose=False, prompt=ChatPromptTemplate(input_variables=['input'], input_types={}, partial_variables={}, messages=[HumanMessagePromptTemplate(prompt=PromptTemplate(input_variables=['input'], input_types={}, partial_variables={}, template='Eres un experto en mecánica que explicas consultas avanzadas a los mecánicos\\nde la plantilla. Puedes asumir que cualquier que está preguntando tiene conocimientos avanzados de mecánica. \\nEsta es la pregunta del usuario/n{input}'), additional_kwargs={})]), llm=ChatOpenAI(client=<openai.resources.chat.completions.completions.Completions object at 0x00000174AC61BE30>, async_client=<openai.resources.chat.completions.completions.AsyncCompletions object at 0x00000174AC6A5B50>, root_client=<openai.OpenAI object at 0x00000174A972FAA0>, root_async_client=<openai.AsyncOpenAI object at 0x00000174AC61BE60>, model_kwargs={}, openai_api_key=SecretStr('**********')), output_parser=StrOutputParser(), llm_kwargs={})}"
      ]
     },
     "execution_count": 8,
     "metadata": {},
     "output_type": "execute_result"
    }
   ],
   "source": [
    "destination_chains"
   ]
  },
  {
   "cell_type": "code",
   "execution_count": 9,
   "id": "fbbff75d-02c8-4115-b519-bf55c323b7b5",
   "metadata": {},
   "outputs": [],
   "source": [
    "#Creamos el prompt y cadena por defecto puesto que son argumento obligatorios que usaremos posteriormente\n",
    "default_prompt = ChatPromptTemplate.from_template(\"{input}\")\n",
    "default_chain = LLMChain(llm=llm,prompt=default_prompt)"
   ]
  },
  {
   "cell_type": "code",
   "execution_count": 10,
   "id": "6c93e940-1e3f-4d88-b843-07ffeb438e53",
   "metadata": {},
   "outputs": [],
   "source": [
    "#Importamos una plantilla que podremos formatear su parámetro {destinations} que tendrá cada nombre y descripción de la información de prompts\n",
    "from langchain.chains.router.multi_prompt_prompt import MULTI_PROMPT_ROUTER_TEMPLATE"
   ]
  },
  {
   "cell_type": "code",
   "execution_count": 11,
   "id": "6b2c313d-dd0b-46f7-96c2-7ad0f6c76edb",
   "metadata": {},
   "outputs": [
    {
     "name": "stdout",
     "output_type": "stream",
     "text": [
      "Given a raw text input to a language model select the model prompt best suited for the input. You will be given the names of the available prompts and a description of what the prompt is best suited for. You may also revise the original input if you think that revising it will ultimately lead to a better response from the language model.\n",
      "\n",
      "<< FORMATTING >>\n",
      "Return a markdown code snippet with a JSON object formatted to look like:\n",
      "```json\n",
      "{{{{\n",
      "    \"destination\": string \\ name of the prompt to use or \"DEFAULT\"\n",
      "    \"next_inputs\": string \\ a potentially modified version of the original input\n",
      "}}}}\n",
      "```\n",
      "\n",
      "REMEMBER: \"destination\" MUST be one of the candidate prompt names specified below OR it can be \"DEFAULT\" if the input is not well suited for any of the candidate prompts.\n",
      "REMEMBER: \"next_inputs\" can just be the original input if you don't think any modifications are needed.\n",
      "\n",
      "<< CANDIDATE PROMPTS >>\n",
      "{destinations}\n",
      "\n",
      "<< INPUT >>\n",
      "{{input}}\n",
      "\n",
      "<< OUTPUT (must include ```json at the start of the response) >>\n",
      "<< OUTPUT (must end with ```) >>\n",
      "\n"
     ]
    }
   ],
   "source": [
    "print(MULTI_PROMPT_ROUTER_TEMPLATE) #El parámetro importante es {destinations}, debemos formatearlo en tipo string"
   ]
  },
  {
   "cell_type": "code",
   "execution_count": 12,
   "id": "415b199f-02e2-4b21-98af-cc5f273a380b",
   "metadata": {},
   "outputs": [],
   "source": [
    "#Creamos una string global con todos los destinos de routing usando el nombre y descripción de \"prompt_infos\"\n",
    "destinations = [f\"{p['name']}: {p['description']}\" for p in prompt_infos]\n",
    "destinations_str = \"\\n\".join(destinations)"
   ]
  },
  {
   "cell_type": "code",
   "execution_count": 13,
   "id": "0a187e7d-f706-4bb9-a470-d6f1ebfc0340",
   "metadata": {},
   "outputs": [
    {
     "data": {
      "text/plain": [
       "'mecánica básica: Responde preguntas básicas de mecánicas a clientes\\nmecánica avanzada: Responde preguntas avanzadas de mecánica a expertos con conocimiento previo'"
      ]
     },
     "execution_count": 13,
     "metadata": {},
     "output_type": "execute_result"
    }
   ],
   "source": [
    "destinations_str"
   ]
  },
  {
   "cell_type": "code",
   "execution_count": 14,
   "id": "abfc4ab0-5d0c-4c9a-b732-fa74ddcb38af",
   "metadata": {},
   "outputs": [],
   "source": [
    "from langchain.chains.router.llm_router import LLMRouterChain,RouterOutputParser"
   ]
  },
  {
   "cell_type": "code",
   "execution_count": 15,
   "id": "ddf0a07d-ba67-4b30-b934-eaa3437396ad",
   "metadata": {},
   "outputs": [],
   "source": [
    "router_template = MULTI_PROMPT_ROUTER_TEMPLATE.format(\n",
    "    destinations=destinations_str #Formateamos la plantilla con nuestros destinos en la string destinations_str\n",
    ")\n",
    "router_prompt = PromptTemplate(\n",
    "    template=router_template,\n",
    "    input_variables=[\"input\"],\n",
    "    output_parser=RouterOutputParser(), #Para transformar el objeto JSON parseándolo a una string\n",
    ")"
   ]
  },
  {
   "cell_type": "code",
   "execution_count": 16,
   "id": "ee2a4a89-2698-48a4-90ec-641d92442dc9",
   "metadata": {},
   "outputs": [
    {
     "name": "stdout",
     "output_type": "stream",
     "text": [
      "Given a raw text input to a language model select the model prompt best suited for the input. You will be given the names of the available prompts and a description of what the prompt is best suited for. You may also revise the original input if you think that revising it will ultimately lead to a better response from the language model.\n",
      "\n",
      "<< FORMATTING >>\n",
      "Return a markdown code snippet with a JSON object formatted to look like:\n",
      "```json\n",
      "{{\n",
      "    \"destination\": string \\ name of the prompt to use or \"DEFAULT\"\n",
      "    \"next_inputs\": string \\ a potentially modified version of the original input\n",
      "}}\n",
      "```\n",
      "\n",
      "REMEMBER: \"destination\" MUST be one of the candidate prompt names specified below OR it can be \"DEFAULT\" if the input is not well suited for any of the candidate prompts.\n",
      "REMEMBER: \"next_inputs\" can just be the original input if you don't think any modifications are needed.\n",
      "\n",
      "<< CANDIDATE PROMPTS >>\n",
      "mecánica básica: Responde preguntas básicas de mecánicas a clientes\n",
      "mecánica avanzada: Responde preguntas avanzadas de mecánica a expertos con conocimiento previo\n",
      "\n",
      "<< INPUT >>\n",
      "{input}\n",
      "\n",
      "<< OUTPUT (must include ```json at the start of the response) >>\n",
      "<< OUTPUT (must end with ```) >>\n",
      "\n"
     ]
    }
   ],
   "source": [
    "print(router_template) #verificamos que se ha formateado correctamente"
   ]
  },
  {
   "cell_type": "code",
   "execution_count": 17,
   "id": "de409233-88b3-46f4-9130-11eebf0c869d",
   "metadata": {},
   "outputs": [],
   "source": [
    "from langchain.chains.router import MultiPromptChain"
   ]
  },
  {
   "cell_type": "code",
   "execution_count": 18,
   "id": "d9a9f8fd-6203-46d1-9c3b-b930444e670d",
   "metadata": {},
   "outputs": [],
   "source": [
    "router_chain = LLMRouterChain.from_llm(llm, router_prompt)"
   ]
  },
  {
   "cell_type": "code",
   "execution_count": 20,
   "id": "5525d7dc-a6ed-4daa-a87a-bb2fc08abcf5",
   "metadata": {},
   "outputs": [],
   "source": [
    "chain = MultiPromptChain(router_chain=router_chain, \n",
    "                         destination_chains=destination_chains, #El objeto con los posibles LLMChain que creamos al inicio\n",
    "                         default_chain=default_chain, verbose=True #Indicamos el LLMChain por defecto (obligatorio)\n",
    "                        )"
   ]
  },
  {
   "cell_type": "code",
   "execution_count": 21,
   "id": "e7ef85ea-bbc8-498a-bc15-03f40fd9b46f",
   "metadata": {},
   "outputs": [
    {
     "name": "stdout",
     "output_type": "stream",
     "text": [
      "\n",
      "\n",
      "\u001b[1m> Entering new MultiPromptChain chain...\u001b[0m\n",
      "mecánica básica: {'input': '¿Cómo cambio el aceite de mi coche?'}\n",
      "\u001b[1m> Finished chain.\u001b[0m\n"
     ]
    },
    {
     "data": {
      "text/plain": [
       "{'input': '¿Cómo cambio el aceite de mi coche?',\n",
       " 'text': 'Cambiar el aceite de tu coche es una tarea importante para mantener en buen estado el motor de tu vehículo. Aquí te explico de manera sencilla cómo hacerlo:\\n\\n1. Primero, asegúrate de tener las herramientas necesarias, como un gato para elevar el coche, una llave para quitar el tapón del cárter de aceite, un recipiente para recoger el aceite usado, un embudo y, por supuesto, el aceite nuevo que necesitarás.\\n\\n2. Ubica el tapón del cárter de aceite debajo del coche. Asegúrate de que el motor esté frío para evitar quemaduras. Coloca el recipiente debajo del tapón para recoger el aceite viejo.\\n\\n3. Retira el tapón con la llave y deja que el aceite viejo fluya hacia el recipiente. Una vez que haya terminado de salir, cierra el tapón.\\n\\n4. Busca el filtro de aceite y cámbialo. Esto se puede hacer con una llave especial para filtros de aceite.\\n\\n5. Coloca un embudo en el orificio donde se encuentra la varilla de medición del aceite y vierte el aceite nuevo. Revisa el manual de tu coche para conocer la cantidad y tipo de aceite adecuados.\\n\\n6. Una vez todo esté en su lugar, enciende el motor y deja que funcione durante unos minutos para que el aceite se distribuya por el motor.\\n\\n¡Y listo! Has cambiado el aceite de tu coche de manera sencilla y has contribuido al buen funcionamiento de tu vehículo. ¡Recuerda llevar el aceite usado a un centro de reciclaje adecuado!'}"
      ]
     },
     "execution_count": 21,
     "metadata": {},
     "output_type": "execute_result"
    }
   ],
   "source": [
    "chain.invoke(\"¿Cómo cambio el aceite de mi coche?\")"
   ]
  },
  {
   "cell_type": "code",
   "execution_count": 22,
   "id": "687d5588-525c-4f0b-b320-d9b84a8e1938",
   "metadata": {},
   "outputs": [
    {
     "name": "stdout",
     "output_type": "stream",
     "text": [
      "\n",
      "\n",
      "\u001b[1m> Entering new MultiPromptChain chain...\u001b[0m\n",
      "mecánica avanzada: {'input': '¿Cómo funciona un catalizador en el sistema de escape de un vehículo?'}\n",
      "\u001b[1m> Finished chain.\u001b[0m\n"
     ]
    },
    {
     "data": {
      "text/plain": [
       "{'input': '¿Cómo funciona un catalizador en el sistema de escape de un vehículo?',\n",
       " 'text': 'El catalizador es una parte fundamental en el sistema de escape de un vehículo, ya que su función principal es reducir las emisiones de gases nocivos al medio ambiente. Funciona a través de reacciones químicas que tienen lugar en su interior.\\n\\nEl catalizador está compuesto por metales nobles como el platino, el paladio y el rodio, que actúan como catalizadores para acelerar las reacciones químicas que convierten los gases nocivos en gases menos dañinos. Estas reacciones se producen a altas temperaturas, por lo que el catalizador se sitúa lo más cercano posible al motor para aprovechar el calor generado durante la combustión.\\n\\nCuando los gases de escape entran en el catalizador, los gases nocivos como el monóxido de carbono, los óxidos de nitrógeno y los hidrocarburos son convertidos en dióxido de carbono, nitrógeno y vapor de agua. Estos últimos son mucho menos perjudiciales para el medio ambiente.\\n\\nEs importante mantener el catalizador en buen estado, ya que si se obstruye o se daña, puede provocar un aumento en las emisiones de gases nocivos y afectar el funcionamiento del motor. Para evitar esto, es recomendable seguir las instrucciones del fabricante y realizar un mantenimiento periódico del sistema de escape.'}"
      ]
     },
     "execution_count": 22,
     "metadata": {},
     "output_type": "execute_result"
    }
   ],
   "source": [
    "chain.invoke(\"¿Cómo funciona internamente un catalizador?\")"
   ]
  },
  {
   "cell_type": "code",
   "execution_count": null,
   "id": "8713c789-4c95-40a8-8de7-354ed278ab50",
   "metadata": {},
   "outputs": [],
   "source": []
  }
 ],
 "metadata": {
  "kernelspec": {
   "display_name": "Python 3 (ipykernel)",
   "language": "python",
   "name": "python3"
  },
  "language_info": {
   "codemirror_mode": {
    "name": "ipython",
    "version": 3
   },
   "file_extension": ".py",
   "mimetype": "text/x-python",
   "name": "python",
   "nbconvert_exporter": "python",
   "pygments_lexer": "ipython3",
   "version": "3.12.7"
  }
 },
 "nbformat": 4,
 "nbformat_minor": 5
}
