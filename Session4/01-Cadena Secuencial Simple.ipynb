{
 "cells": [
  {
   "cell_type": "code",
   "execution_count": 1,
   "id": "211febab-2308-4584-ac5f-e274cfdb71e9",
   "metadata": {},
   "outputs": [],
   "source": [
    "from langchain.prompts import PromptTemplate, SystemMessagePromptTemplate,ChatPromptTemplate, HumanMessagePromptTemplate\n",
    "from langchain_openai import ChatOpenAI\n",
    "f = open('../api_key.txt')\n",
    "api_key = f.read()\n",
    "chat = ChatOpenAI(openai_api_key=api_key)"
   ]
  },
  {
   "cell_type": "code",
   "execution_count": 2,
   "id": "35330752-0287-4e03-bb7b-94fad3c1cb1f",
   "metadata": {},
   "outputs": [],
   "source": [
    "human_message_prompt = HumanMessagePromptTemplate.from_template(\n",
    "        \"Dame un nombre de compañía que sea simpático para una compañía que fabrique {producto}\"\n",
    "    )"
   ]
  },
  {
   "cell_type": "code",
   "execution_count": 3,
   "id": "789ec2e6-5d24-4b12-973e-7430df3db26c",
   "metadata": {},
   "outputs": [],
   "source": [
    "chat_prompt_template = ChatPromptTemplate.from_messages([human_message_prompt])"
   ]
  },
  {
   "cell_type": "code",
   "execution_count": 5,
   "id": "41d3789f-8772-4eb0-adb3-3d265467e9e8",
   "metadata": {},
   "outputs": [],
   "source": [
    "from langchain.chains import LLMChain\n",
    "chain = LLMChain(llm=chat, prompt=chat_prompt_template)"
   ]
  },
  {
   "cell_type": "code",
   "execution_count": 6,
   "id": "692f2b24-f697-4a46-8854-bb0bb1bf6868",
   "metadata": {},
   "outputs": [
    {
     "name": "stdout",
     "output_type": "stream",
     "text": [
      "{'producto': 'Lavadoras', 'text': '\"Burbujas Brillantes\"'}\n"
     ]
    }
   ],
   "source": [
    "print(chain.invoke(input=\"Lavadoras\"))"
   ]
  },
  {
   "cell_type": "code",
   "execution_count": 7,
   "id": "c2e9c601-eacc-49c2-be17-74c1d8dc77eb",
   "metadata": {},
   "outputs": [],
   "source": [
    "from langchain.chains.sequential import SimpleSequentialChain"
   ]
  },
  {
   "cell_type": "code",
   "execution_count": 8,
   "id": "bed72e47-4305-43b1-b449-6f78dc7f3b3a",
   "metadata": {},
   "outputs": [],
   "source": [
    "llm = ChatOpenAI(openai_api_key=api_key)"
   ]
  },
  {
   "cell_type": "code",
   "execution_count": 9,
   "id": "0133932e-79de-4b1a-970e-0032a051f2d0",
   "metadata": {},
   "outputs": [],
   "source": [
    "template = \"Dame un simple resumen con un listado de puntos para un post de un blog acerca de {tema}\"\n",
    "prompt1 = ChatPromptTemplate.from_template(template)\n",
    "chain_1 = LLMChain(llm=llm,prompt=prompt1)"
   ]
  },
  {
   "cell_type": "code",
   "execution_count": 10,
   "id": "eb0cb403-429e-4ab0-9c90-229e3143ceff",
   "metadata": {},
   "outputs": [],
   "source": [
    "template = \"Escribe un post completo usando este resumen: {resumen}\"\n",
    "prompt2 = ChatPromptTemplate.from_template(template)\n",
    "chain_2 = LLMChain(llm=llm,prompt=prompt2)"
   ]
  },
  {
   "cell_type": "code",
   "execution_count": 11,
   "id": "bd79026c-96bf-4a32-a901-a40c8dff9859",
   "metadata": {},
   "outputs": [],
   "source": [
    "full_chain = SimpleSequentialChain(chains=[chain_1,chain_2],verbose=True) #verbose=True nos irá dando paso a paso lo que hace, pudiendo ver los resultados intermedios"
   ]
  },
  {
   "cell_type": "code",
   "execution_count": 12,
   "id": "c8e48d69-52cd-4e16-a3ea-f298ad077251",
   "metadata": {},
   "outputs": [
    {
     "name": "stdout",
     "output_type": "stream",
     "text": [
      "\n",
      "\n",
      "\u001b[1m> Entering new SimpleSequentialChain chain...\u001b[0m\n",
      "\u001b[36;1m\u001b[1;3m- Introducción a la Inteligencia Artificial\n",
      "- Historia y evolución de la Inteligencia Artificial\n",
      "- Aplicaciones de la Inteligencia Artificial en la vida cotidiana\n",
      "- Beneficios y desafíos de la Inteligencia Artificial\n",
      "- Ética y regulaciones en la Inteligencia Artificial\n",
      "- Futuro de la Inteligencia Artificial \n",
      "- Conclusiones y reflexiones sobre la importancia de la Inteligencia Artificial en la sociedad.\u001b[0m\n",
      "\u001b[33;1m\u001b[1;3mEn la actualidad, la Inteligencia Artificial (IA) se ha convertido en un tema de gran interés y debate en la sociedad. Pero, ¿qué es exactamente la IA y cómo ha evolucionado a lo largo del tiempo?\n",
      "\n",
      "La Inteligencia Artificial se refiere a la capacidad de las máquinas para simular la inteligencia humana, realizando tareas como el aprendizaje, la percepción, el razonamiento y la toma de decisiones de manera autónoma. A lo largo de la historia, la IA ha experimentado avances significativos gracias a la investigación y el desarrollo tecnológico.\n",
      "\n",
      "Desde sus inicios en la década de 1950, la IA ha ido evolucionando rápidamente, pasando de sistemas simples a complejos algoritmos capaces de aprender de forma autónoma. Hoy en día, la IA se encuentra presente en diversas aplicaciones de la vida cotidiana, como los asistentes virtuales, los sistemas de recomendación y la visión por computadora.\n",
      "\n",
      "Los beneficios de la IA son innegables, ya que ha facilitado la automatización de procesos, mejorado la eficiencia en diversas industrias y brindado soluciones innovadoras a problemas complejos. Sin embargo, también presenta desafíos significativos, como la preocupación por la pérdida de empleos, la privacidad de los datos y el sesgo algorítmico.\n",
      "\n",
      "En cuanto a la ética y regulaciones en la IA, es fundamental establecer marcos normativos que garanticen su uso responsable y ético. Es importante que se protejan los derechos y la privacidad de las personas, evitando posibles discriminaciones o abusos en el uso de la tecnología.\n",
      "\n",
      "Respecto al futuro de la Inteligencia Artificial, se espera que siga creciendo y desarrollándose en diferentes ámbitos, como la medicina, la inteligencia emocional y la conducción autónoma. Es fundamental que se fomente una IA centrada en el beneficio social y el bienestar de la humanidad.\n",
      "\n",
      "En conclusión, la Inteligencia Artificial es una herramienta poderosa que está transformando nuestra sociedad y nuestra forma de vida. Es importante reflexionar sobre su impacto y dimensionar tanto sus beneficios como sus desafíos, con el fin de promover un uso ético y responsable de la tecnología en beneficio de todos.\u001b[0m\n",
      "\n",
      "\u001b[1m> Finished chain.\u001b[0m\n"
     ]
    }
   ],
   "source": [
    "result = full_chain.invoke(input=\"Inteligencia Artificial\")"
   ]
  },
  {
   "cell_type": "code",
   "execution_count": 13,
   "id": "711cfb3c-5341-4626-a7c4-bfb9b5a3fd81",
   "metadata": {},
   "outputs": [
    {
     "name": "stdout",
     "output_type": "stream",
     "text": [
      "En la actualidad, la Inteligencia Artificial (IA) se ha convertido en un tema de gran interés y debate en la sociedad. Pero, ¿qué es exactamente la IA y cómo ha evolucionado a lo largo del tiempo?\n",
      "\n",
      "La Inteligencia Artificial se refiere a la capacidad de las máquinas para simular la inteligencia humana, realizando tareas como el aprendizaje, la percepción, el razonamiento y la toma de decisiones de manera autónoma. A lo largo de la historia, la IA ha experimentado avances significativos gracias a la investigación y el desarrollo tecnológico.\n",
      "\n",
      "Desde sus inicios en la década de 1950, la IA ha ido evolucionando rápidamente, pasando de sistemas simples a complejos algoritmos capaces de aprender de forma autónoma. Hoy en día, la IA se encuentra presente en diversas aplicaciones de la vida cotidiana, como los asistentes virtuales, los sistemas de recomendación y la visión por computadora.\n",
      "\n",
      "Los beneficios de la IA son innegables, ya que ha facilitado la automatización de procesos, mejorado la eficiencia en diversas industrias y brindado soluciones innovadoras a problemas complejos. Sin embargo, también presenta desafíos significativos, como la preocupación por la pérdida de empleos, la privacidad de los datos y el sesgo algorítmico.\n",
      "\n",
      "En cuanto a la ética y regulaciones en la IA, es fundamental establecer marcos normativos que garanticen su uso responsable y ético. Es importante que se protejan los derechos y la privacidad de las personas, evitando posibles discriminaciones o abusos en el uso de la tecnología.\n",
      "\n",
      "Respecto al futuro de la Inteligencia Artificial, se espera que siga creciendo y desarrollándose en diferentes ámbitos, como la medicina, la inteligencia emocional y la conducción autónoma. Es fundamental que se fomente una IA centrada en el beneficio social y el bienestar de la humanidad.\n",
      "\n",
      "En conclusión, la Inteligencia Artificial es una herramienta poderosa que está transformando nuestra sociedad y nuestra forma de vida. Es importante reflexionar sobre su impacto y dimensionar tanto sus beneficios como sus desafíos, con el fin de promover un uso ético y responsable de la tecnología en beneficio de todos.\n"
     ]
    }
   ],
   "source": [
    "print(result['output'])"
   ]
  },
  {
   "cell_type": "code",
   "execution_count": null,
   "id": "7e5a900f-9721-4233-b8a7-e6160f7b17a6",
   "metadata": {},
   "outputs": [],
   "source": []
  }
 ],
 "metadata": {
  "kernelspec": {
   "display_name": "Python 3 (ipykernel)",
   "language": "python",
   "name": "python3"
  },
  "language_info": {
   "codemirror_mode": {
    "name": "ipython",
    "version": 3
   },
   "file_extension": ".py",
   "mimetype": "text/x-python",
   "name": "python",
   "nbconvert_exporter": "python",
   "pygments_lexer": "ipython3",
   "version": "3.12.7"
  }
 },
 "nbformat": 4,
 "nbformat_minor": 5
}
