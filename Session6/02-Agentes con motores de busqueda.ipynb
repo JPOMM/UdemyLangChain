{
 "cells": [
  {
   "cell_type": "code",
   "execution_count": 1,
   "id": "1b990f7a-d647-4713-b2b5-93cdd02b7a2a",
   "metadata": {},
   "outputs": [],
   "source": [
    "from langchain_openai import ChatOpenAI\n",
    "from langchain.prompts import PromptTemplate, SystemMessagePromptTemplate,ChatPromptTemplate, HumanMessagePromptTemplate\n",
    "from langchain.agents import load_tools,initialize_agent,AgentType,create_react_agent,AgentExecutor\n",
    "f = open('../api_key.txt')\n",
    "api_key = f.read()\n",
    "llm = ChatOpenAI(openai_api_key=api_key,temperature=0) #Recomendable temperatura a 0 para que el LLM no sea muy creativo, vamos a tener muchas herramientas a nuestra disposición y queremos que sea más determinista"
   ]
  },
  {
   "cell_type": "code",
   "execution_count": 2,
   "id": "d9cd61d5-5340-4291-8841-b7840713fd35",
   "metadata": {},
   "outputs": [],
   "source": [
    "#Web de API que usa buscadores: https://serpapi.com/ --> Registrarse"
   ]
  },
  {
   "cell_type": "code",
   "execution_count": 3,
   "id": "878eadfe-330e-437d-99ed-57003ce3cdd7",
   "metadata": {},
   "outputs": [],
   "source": [
    "f = open('../serapi_Key.txt')\n",
    "serp_api_key = f.read()"
   ]
  },
  {
   "cell_type": "code",
   "execution_count": 4,
   "id": "56671ac2-5de2-4d08-8e47-bb70e2b7c70b",
   "metadata": {},
   "outputs": [],
   "source": [
    "#Definir variable de entorno para que funcione correctamente:\n",
    "import os\n",
    "os.environ[\"SERPAPI_API_KEY\"]=serp_api_key #Si no está definida el error nos dará el nombre de la variable de entorno que espera"
   ]
  },
  {
   "cell_type": "code",
   "execution_count": 5,
   "id": "8fe2794f-3853-44c9-81d7-05a344a5b31a",
   "metadata": {},
   "outputs": [],
   "source": [
    "tools = load_tools([\"serpapi\",\"llm-math\",],llm=llm)"
   ]
  },
  {
   "cell_type": "code",
   "execution_count": 7,
   "id": "984c7bfc-5a82-43ee-bbea-2a43f26762b9",
   "metadata": {},
   "outputs": [],
   "source": [
    "agent = initialize_agent(tools, llm, agent=AgentType.ZERO_SHOT_REACT_DESCRIPTION,verbose=True)"
   ]
  },
  {
   "cell_type": "code",
   "execution_count": 8,
   "id": "ed9a0392-24d1-49e1-9de0-525400c9b3df",
   "metadata": {},
   "outputs": [
    {
     "name": "stdout",
     "output_type": "stream",
     "text": [
      "\n",
      "\n",
      "\u001b[1m> Entering new AgentExecutor chain...\u001b[0m\n",
      "\u001b[32;1m\u001b[1;3mI need to find out the year Einstein was born and then multiply that by 3.\n",
      "Action: Search\n",
      "Action Input: \"Einstein year of birth\"\u001b[0m\n",
      "Observation: \u001b[36;1m\u001b[1;3mMarch 14, 1879\u001b[0m\n",
      "Thought:\u001b[32;1m\u001b[1;3mNow I need to multiply 1879 by 3.\n",
      "Action: Calculator\n",
      "Action Input: 1879 * 3\u001b[0m\n",
      "Observation: \u001b[33;1m\u001b[1;3mAnswer: 5637\u001b[0m\n",
      "Thought:\u001b[32;1m\u001b[1;3mI now know the final answer.\n",
      "Final Answer: Einstein was born in 1879. Multiplying that by 3 gives us 5637.\u001b[0m\n",
      "\n",
      "\u001b[1m> Finished chain.\u001b[0m\n"
     ]
    },
    {
     "data": {
      "text/plain": [
       "{'input': '¿En qué año nació Einstein? ¿Cuál es el resultado de ese año multiplicado por 3?',\n",
       " 'output': 'Einstein was born in 1879. Multiplying that by 3 gives us 5637.'}"
      ]
     },
     "execution_count": 8,
     "metadata": {},
     "output_type": "execute_result"
    }
   ],
   "source": [
    "agent.invoke(\"¿En qué año nació Einstein? ¿Cuál es el resultado de ese año multiplicado por 3?\")"
   ]
  },
  {
   "cell_type": "code",
   "execution_count": null,
   "id": "076e685a-2dea-4490-90aa-1e251aa89460",
   "metadata": {},
   "outputs": [],
   "source": []
  }
 ],
 "metadata": {
  "kernelspec": {
   "display_name": "Python 3 (ipykernel)",
   "language": "python",
   "name": "python3"
  },
  "language_info": {
   "codemirror_mode": {
    "name": "ipython",
    "version": 3
   },
   "file_extension": ".py",
   "mimetype": "text/x-python",
   "name": "python",
   "nbconvert_exporter": "python",
   "pygments_lexer": "ipython3",
   "version": "3.12.7"
  }
 },
 "nbformat": 4,
 "nbformat_minor": 5
}
