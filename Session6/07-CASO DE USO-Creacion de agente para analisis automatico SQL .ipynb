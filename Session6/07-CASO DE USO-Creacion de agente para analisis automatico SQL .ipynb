{
 "cells": [
  {
   "cell_type": "code",
   "execution_count": 1,
   "id": "c7f6a78d-a44f-426e-8d6d-aa405f0637f2",
   "metadata": {},
   "outputs": [],
   "source": [
    "from langchain_openai import ChatOpenAI\n",
    "from langchain.prompts import PromptTemplate, SystemMessagePromptTemplate,ChatPromptTemplate, HumanMessagePromptTemplate\n",
    "from langchain.agents import load_tools,initialize_agent,AgentType,create_react_agent,AgentExecutor\n",
    "f = open('../api_key.txt')\n",
    "api_key = f.read()\n",
    "llm = ChatOpenAI(openai_api_key=api_key,temperature=0) #Recomendable temperatura a 0 para que el LLM no sea muy creativo, vamos a tener muchas herramientas a nuestra disposición y queremos que sea más determinista"
   ]
  },
  {
   "cell_type": "code",
   "execution_count": 2,
   "id": "2b4f42a7-4667-4f2d-89dd-69640bf2a4ce",
   "metadata": {},
   "outputs": [],
   "source": [
    "import mysql.connector #pip install mysql-connector-python"
   ]
  },
  {
   "cell_type": "code",
   "execution_count": 3,
   "id": "ce241ec1-bc07-422c-8d04-bc0a5195208b",
   "metadata": {},
   "outputs": [],
   "source": [
    "f = open('./password_sql.txt')\n",
    "pass_sql = f.read()\n",
    "# Configuración de la conexión a la base de datos\n",
    "config = {\n",
    "    'user': 'root',       \n",
    "    'password': pass_sql, \n",
    "    'host': '127.0.0.1',         \n",
    "    'database': 'world'          \n",
    "}"
   ]
  },
  {
   "cell_type": "code",
   "execution_count": 4,
   "id": "8c6cebe7-d916-4b8d-8fef-c481b0aca888",
   "metadata": {},
   "outputs": [],
   "source": [
    "# Conectar a la base de datos\n",
    "conn = mysql.connector.connect(**config)\n",
    "cursor = conn.cursor()"
   ]
  },
  {
   "cell_type": "code",
   "execution_count": 5,
   "id": "42e18ed4-2dad-475d-8a39-dd7ef74e3c70",
   "metadata": {},
   "outputs": [],
   "source": [
    "# Definir la consulta manualmente: tengo una base de datos mysql en mi computadora local denominada \"world\" y una tabla \"Country\" \n",
    "#sobre la que quiero hacer la suma de la población en la columna \"Population\" para el continente Asia (columna \"Continent\")\n",
    "query = \"\"\"\n",
    "    SELECT SUM(Population)\n",
    "    FROM Country\n",
    "    WHERE Continent = 'Asia';\n",
    "    \"\"\"\n",
    "\n",
    "# Ejecutar la consulta\n",
    "cursor.execute(query)\n",
    "result = cursor.fetchone()"
   ]
  },
  {
   "cell_type": "code",
   "execution_count": 6,
   "id": "d3422661-cd8f-4d94-aca7-0273065315fd",
   "metadata": {},
   "outputs": [
    {
     "name": "stdout",
     "output_type": "stream",
     "text": [
      "La suma de la población del continente Asia es: 3705025700\n"
     ]
    }
   ],
   "source": [
    "suma_poblacion = result[0] if result[0] is not None else 0\n",
    "print(f\"La suma de la población del continente Asia es: {suma_poblacion}\")"
   ]
  },
  {
   "cell_type": "code",
   "execution_count": 7,
   "id": "490c7b3d-595a-4ac9-ae91-e1ca50945f58",
   "metadata": {},
   "outputs": [],
   "source": [
    "from langchain_community.agent_toolkits import create_sql_agent\n",
    "from langchain.sql_database import SQLDatabase"
   ]
  },
  {
   "cell_type": "code",
   "execution_count": 8,
   "id": "9e4493bf-fe74-4854-870b-63a11cafb736",
   "metadata": {},
   "outputs": [],
   "source": [
    "# Crear una cadena de conexión a la base de datos MySQL\n",
    "connection_string = f\"mysql+mysqlconnector://{config['user']}:{config['password']}@{config['host']}/{config['database']}\"\n",
    "\n",
    "# Crear una instancia de la base de datos SQL\n",
    "db = SQLDatabase.from_uri(connection_string)"
   ]
  },
  {
   "cell_type": "code",
   "execution_count": 9,
   "id": "3bcba02c-d229-46a1-b84b-f21e46200712",
   "metadata": {},
   "outputs": [],
   "source": [
    "agent = create_sql_agent(\n",
    "    llm,\n",
    "    db=db,\n",
    "    verbose=True\n",
    ")"
   ]
  },
  {
   "cell_type": "code",
   "execution_count": 10,
   "id": "ea8c6037-24b9-461e-bb60-62c3412be344",
   "metadata": {},
   "outputs": [
    {
     "name": "stdout",
     "output_type": "stream",
     "text": [
      "\n",
      "\n",
      "\u001b[1m> Entering new SQL Agent Executor chain...\u001b[0m\n",
      "\u001b[32;1m\u001b[1;3mAction: sql_db_list_tables\n",
      "Action Input: \u001b[0m\u001b[38;5;200m\u001b[1;3mcity, country, countrylanguage\u001b[0m\u001b[32;1m\u001b[1;3mI should query the country table to get the population of Asia.\n",
      "Action: sql_db_schema\n",
      "Action Input: country\u001b[0m\u001b[33;1m\u001b[1;3m\n",
      "CREATE TABLE country (\n",
      "\t`Code` CHAR(3) NOT NULL DEFAULT '', \n",
      "\t`Name` CHAR(52) NOT NULL DEFAULT '', \n",
      "\t`Continent` ENUM('Asia','Europe','North America','Africa','Oceania','Antarctica','South America') NOT NULL DEFAULT 'Asia', \n",
      "\t`Region` CHAR(26) NOT NULL DEFAULT '', \n",
      "\t`SurfaceArea` DECIMAL(10, 2) NOT NULL DEFAULT '0.00', \n",
      "\t`IndepYear` SMALLINT, \n",
      "\t`Population` INTEGER NOT NULL DEFAULT '0', \n",
      "\t`LifeExpectancy` DECIMAL(3, 1), \n",
      "\t`GNP` DECIMAL(10, 2), \n",
      "\t`GNPOld` DECIMAL(10, 2), \n",
      "\t`LocalName` CHAR(45) NOT NULL DEFAULT '', \n",
      "\t`GovernmentForm` CHAR(45) NOT NULL DEFAULT '', \n",
      "\t`HeadOfState` CHAR(60), \n",
      "\t`Capital` INTEGER, \n",
      "\t`Code2` CHAR(2) NOT NULL DEFAULT '', \n",
      "\tPRIMARY KEY (`Code`)\n",
      ")COLLATE utf8mb4_0900_ai_ci DEFAULT CHARSET=utf8mb4 ENGINE=InnoDB\n",
      "\n",
      "/*\n",
      "3 rows from country table:\n",
      "Code\tName\tContinent\tRegion\tSurfaceArea\tIndepYear\tPopulation\tLifeExpectancy\tGNP\tGNPOld\tLocalName\tGovernmentForm\tHeadOfState\tCapital\tCode2\n",
      "ABW\tAruba\tNorth America\tCaribbean\t193.00\tNone\t103000\t78.4\t828.00\t793.00\tAruba\tNonmetropolitan Territory of The Netherlands\tBeatrix\t129\tAW\n",
      "AFG\tAfghanistan\tAsia\tSouthern and Central Asia\t652090.00\t1919\t22720000\t45.9\t5976.00\tNone\tAfganistan/Afqanestan\tIslamic Emirate\tMohammad Omar\t1\tAF\n",
      "AGO\tAngola\tAfrica\tCentral Africa\t1246700.00\t1975\t12878000\t38.3\t6648.00\t7984.00\tAngola\tRepublic\tJosé Eduardo dos Santos\t56\tAO\n",
      "*/\u001b[0m\u001b[32;1m\u001b[1;3mI can query the `country` table to get the population of Asia.\n",
      "Action: sql_db_query\n",
      "Action Input: SELECT SUM(Population) FROM country WHERE Continent = 'Asia'\u001b[0m\u001b[36;1m\u001b[1;3m[(Decimal('3705025700'),)]\u001b[0m\u001b[32;1m\u001b[1;3mThe total population of Asia is 3,705,025,700.\n",
      "Final Answer: 3,705,025,700\u001b[0m\n",
      "\n",
      "\u001b[1m> Finished chain.\u001b[0m\n"
     ]
    },
    {
     "data": {
      "text/plain": [
       "{'input': 'Dime la población total de Asia', 'output': '3,705,025,700'}"
      ]
     },
     "execution_count": 10,
     "metadata": {},
     "output_type": "execute_result"
    }
   ],
   "source": [
    "agent.invoke(\"Dime la población total de Asia\")"
   ]
  },
  {
   "cell_type": "code",
   "execution_count": 11,
   "id": "5e87aa24-c16f-452d-b17a-76c6ca8eb292",
   "metadata": {},
   "outputs": [
    {
     "name": "stdout",
     "output_type": "stream",
     "text": [
      "\n",
      "\n",
      "\u001b[1m> Entering new SQL Agent Executor chain...\u001b[0m\n",
      "\u001b[32;1m\u001b[1;3mAction: sql_db_list_tables\n",
      "Action Input: \u001b[0m\u001b[38;5;200m\u001b[1;3mcity, country, countrylanguage\u001b[0m\u001b[32;1m\u001b[1;3mI should query the schema of the country table to see if it contains information about regions and life expectancy.\n",
      "Action: sql_db_schema\n",
      "Action Input: country\u001b[0m\u001b[33;1m\u001b[1;3m\n",
      "CREATE TABLE country (\n",
      "\t`Code` CHAR(3) NOT NULL DEFAULT '', \n",
      "\t`Name` CHAR(52) NOT NULL DEFAULT '', \n",
      "\t`Continent` ENUM('Asia','Europe','North America','Africa','Oceania','Antarctica','South America') NOT NULL DEFAULT 'Asia', \n",
      "\t`Region` CHAR(26) NOT NULL DEFAULT '', \n",
      "\t`SurfaceArea` DECIMAL(10, 2) NOT NULL DEFAULT '0.00', \n",
      "\t`IndepYear` SMALLINT, \n",
      "\t`Population` INTEGER NOT NULL DEFAULT '0', \n",
      "\t`LifeExpectancy` DECIMAL(3, 1), \n",
      "\t`GNP` DECIMAL(10, 2), \n",
      "\t`GNPOld` DECIMAL(10, 2), \n",
      "\t`LocalName` CHAR(45) NOT NULL DEFAULT '', \n",
      "\t`GovernmentForm` CHAR(45) NOT NULL DEFAULT '', \n",
      "\t`HeadOfState` CHAR(60), \n",
      "\t`Capital` INTEGER, \n",
      "\t`Code2` CHAR(2) NOT NULL DEFAULT '', \n",
      "\tPRIMARY KEY (`Code`)\n",
      ")COLLATE utf8mb4_0900_ai_ci DEFAULT CHARSET=utf8mb4 ENGINE=InnoDB\n",
      "\n",
      "/*\n",
      "3 rows from country table:\n",
      "Code\tName\tContinent\tRegion\tSurfaceArea\tIndepYear\tPopulation\tLifeExpectancy\tGNP\tGNPOld\tLocalName\tGovernmentForm\tHeadOfState\tCapital\tCode2\n",
      "ABW\tAruba\tNorth America\tCaribbean\t193.00\tNone\t103000\t78.4\t828.00\t793.00\tAruba\tNonmetropolitan Territory of The Netherlands\tBeatrix\t129\tAW\n",
      "AFG\tAfghanistan\tAsia\tSouthern and Central Asia\t652090.00\t1919\t22720000\t45.9\t5976.00\tNone\tAfganistan/Afqanestan\tIslamic Emirate\tMohammad Omar\t1\tAF\n",
      "AGO\tAngola\tAfrica\tCentral Africa\t1246700.00\t1975\t12878000\t38.3\t6648.00\t7984.00\tAngola\tRepublic\tJosé Eduardo dos Santos\t56\tAO\n",
      "*/\u001b[0m\u001b[32;1m\u001b[1;3mThe country table contains the region and life expectancy columns that I need for the query.\n",
      "Action: sql_db_query\n",
      "Action Input: SELECT Region, AVG(LifeExpectancy) AS AverageLifeExpectancy FROM country GROUP BY Region ORDER BY AverageLifeExpectancy DESC\u001b[0m\u001b[36;1m\u001b[1;3m[('Australia and New Zealand', Decimal('78.80000')), ('Nordic Countries', Decimal('78.33333')), ('Western Europe', Decimal('78.25556')), ('British Islands', Decimal('77.25000')), ('Southern Europe', Decimal('76.52857')), ('North America', Decimal('75.82000')), ('Eastern Asia', Decimal('75.25000')), ('Caribbean', Decimal('73.05833')), ('Central America', Decimal('71.02500')), ('South America', Decimal('70.94615')), ('Polynesia', Decimal('70.73333')), ('Middle East', Decimal('70.56667')), ('Eastern Europe', Decimal('69.93000')), ('Baltic Countries', Decimal('69.00000')), ('Micronesia', Decimal('68.08571')), ('Melanesia', Decimal('67.14000')), ('Northern Africa', Decimal('65.38571')), ('Southeast Asia', Decimal('64.40000')), ('Southern and Central Asia', Decimal('61.35000')), ('Western Africa', Decimal('52.74118')), ('Eastern Africa', Decimal('50.81053')), ('Central Africa', Decimal('50.31111')), ('Southern Africa', Decimal('44.82000')), ('Antarctica', None), ('Micronesia/Caribbean', None)]\u001b[0m\u001b[32;1m\u001b[1;3mI now know the final answer\n",
      "Final Answer: El promedio de la esperanza de vida por cada una de las regiones ordenadas de mayor a menor es:\n",
      "1. Australia and New Zealand - 78.80\n",
      "2. Nordic Countries - 78.33\n",
      "3. Western Europe - 78.26\n",
      "4. British Islands - 77.25\n",
      "5. Southern Europe - 76.53\n",
      "6. North America - 75.82\n",
      "7. Eastern Asia - 75.25\n",
      "8. Caribbean - 73.06\n",
      "9. Central America - 71.03\n",
      "10. South America - 70.95\u001b[0m\n",
      "\n",
      "\u001b[1m> Finished chain.\u001b[0m\n"
     ]
    }
   ],
   "source": [
    "result = agent.invoke(\"Dime el promedio de la esperanza de vida por cada una de las regiones ordenadas de mayor a menor\")"
   ]
  },
  {
   "cell_type": "code",
   "execution_count": 12,
   "id": "a61f7461-cba3-4db4-bc6c-097088a0df43",
   "metadata": {},
   "outputs": [
    {
     "name": "stdout",
     "output_type": "stream",
     "text": [
      "El promedio de la esperanza de vida por cada una de las regiones ordenadas de mayor a menor es:\n",
      "1. Australia and New Zealand - 78.80\n",
      "2. Nordic Countries - 78.33\n",
      "3. Western Europe - 78.26\n",
      "4. British Islands - 77.25\n",
      "5. Southern Europe - 76.53\n",
      "6. North America - 75.82\n",
      "7. Eastern Asia - 75.25\n",
      "8. Caribbean - 73.06\n",
      "9. Central America - 71.03\n",
      "10. South America - 70.95\n"
     ]
    }
   ],
   "source": [
    "# Mostrar el resultado\n",
    "print(result[\"output\"])"
   ]
  },
  {
   "cell_type": "code",
   "execution_count": null,
   "id": "b5ce98f8-e8a7-4b6f-b4e1-8d75ee352414",
   "metadata": {},
   "outputs": [],
   "source": [
    "# Para utilizar few-shoots para las consultas SQL: https://python.langchain.com/v0.1/docs/use_cases/sql/agents/"
   ]
  }
 ],
 "metadata": {
  "kernelspec": {
   "display_name": "Python 3 (ipykernel)",
   "language": "python",
   "name": "python3"
  },
  "language_info": {
   "codemirror_mode": {
    "name": "ipython",
    "version": 3
   },
   "file_extension": ".py",
   "mimetype": "text/x-python",
   "name": "python",
   "nbconvert_exporter": "python",
   "pygments_lexer": "ipython3",
   "version": "3.12.7"
  }
 },
 "nbformat": 4,
 "nbformat_minor": 5
}
