{
 "cells": [
  {
   "cell_type": "code",
   "execution_count": 1,
   "id": "ddb5433f-5948-43b1-af46-389a152ed88c",
   "metadata": {},
   "outputs": [],
   "source": [
    "from langchain_openai import ChatOpenAI\n",
    "from langchain.prompts import PromptTemplate, SystemMessagePromptTemplate,ChatPromptTemplate, HumanMessagePromptTemplate\n",
    "from langchain.agents import load_tools,initialize_agent,AgentType,create_react_agent,AgentExecutor\n",
    "f = open('../api_key.txt')\n",
    "api_key = f.read()\n",
    "llm = ChatOpenAI(openai_api_key=api_key,temperature=0) #Recomendable temperatura a 0 para que el LLM no sea muy creativo, vamos a tener muchas herramientas a nuestra disposición y queremos que sea más determinista"
   ]
  },
  {
   "cell_type": "code",
   "execution_count": 2,
   "id": "918d126d-fee3-42ba-952a-baa9921de53a",
   "metadata": {},
   "outputs": [],
   "source": [
    "from langchain.memory import ConversationBufferMemory"
   ]
  },
  {
   "cell_type": "code",
   "execution_count": 3,
   "id": "0d108931-de40-4d24-a831-c63e8921cf01",
   "metadata": {},
   "outputs": [
    {
     "name": "stderr",
     "output_type": "stream",
     "text": [
      "C:\\Users\\jmanchego\\AppData\\Local\\Temp\\ipykernel_32544\\12502988.py:1: LangChainDeprecationWarning: Please see the migration guide at: https://python.langchain.com/docs/versions/migrating_memory/\n",
      "  memory = ConversationBufferMemory(memory_key=\"chat_history\") #ponemos una denominada clave a la memoria \"chat_history\"\n"
     ]
    }
   ],
   "source": [
    "memory = ConversationBufferMemory(memory_key=\"chat_history\") #ponemos una denominada clave a la memoria \"chat_history\""
   ]
  },
  {
   "cell_type": "code",
   "execution_count": 4,
   "id": "1822149c-b6d5-49a4-a496-5287475bc722",
   "metadata": {},
   "outputs": [],
   "source": [
    "tools = load_tools([\"wikipedia\",\"llm-math\",],llm=llm)"
   ]
  },
  {
   "cell_type": "code",
   "execution_count": 5,
   "id": "38314cf2-a6f6-4836-9cca-77aa141bf201",
   "metadata": {},
   "outputs": [
    {
     "name": "stderr",
     "output_type": "stream",
     "text": [
      "C:\\Users\\jmanchego\\AppData\\Local\\Temp\\ipykernel_32544\\2227645054.py:1: LangChainDeprecationWarning: LangChain agents will continue to be supported, but it is recommended for new use cases to be built with LangGraph. LangGraph offers a more flexible and full-featured framework for building agents, including support for tool-calling, persistence of state, and human-in-the-loop workflows. For details, refer to the `LangGraph documentation <https://langchain-ai.github.io/langgraph/>`_ as well as guides for `Migrating from AgentExecutor <https://python.langchain.com/docs/how_to/migrate_agent/>`_ and LangGraph's `Pre-built ReAct agent <https://langchain-ai.github.io/langgraph/how-tos/create-react-agent/>`_.\n",
      "  agent = initialize_agent(tools, llm, agent=AgentType.CONVERSATIONAL_REACT_DESCRIPTION,memory=memory,verbose=True)\n"
     ]
    }
   ],
   "source": [
    "agent = initialize_agent(tools, llm, agent=AgentType.CONVERSATIONAL_REACT_DESCRIPTION,memory=memory,verbose=True)"
   ]
  },
  {
   "cell_type": "code",
   "execution_count": 6,
   "id": "aad7486a-f574-4809-be63-553fd2e13405",
   "metadata": {},
   "outputs": [
    {
     "name": "stdout",
     "output_type": "stream",
     "text": [
      "\n",
      "\n",
      "\u001b[1m> Entering new AgentExecutor chain...\u001b[0m\n",
      "\u001b[32;1m\u001b[1;3mThought: Do I need to use a tool? Yes\n",
      "Action: wikipedia\n",
      "Action Input: Essential car maintenance products\u001b[0m\n",
      "Observation: \u001b[36;1m\u001b[1;3mPage: Maintenance\n",
      "Summary: The technical meaning of maintenance involves functional checks, servicing, repairing or replacing of necessary devices, equipment, machinery, building infrastructure and supporting utilities in industrial, business, and residential installations. Over time, this has come to include multiple wordings that describe various cost-effective practices to keep equipment operational; these activities occur  either before or after a failure.\n",
      "\n",
      "Page: Tesla, Inc.\n",
      "Summary: Tesla, Inc. (  TESS-lə or  TEZ-lə) is an American multinational automotive and clean energy company. Headquartered in Austin, Texas, it designs, manufactures and sells battery electric vehicles (BEVs), stationary battery energy storage devices from home to grid-scale, solar panels and solar shingles, and related products and services.\n",
      "Tesla was incorporated in July 2003 by Martin Eberhard and Marc Tarpenning as Tesla Motors. Its name is a tribute to inventor and electrical engineer Nikola Tesla. In February 2004, Elon Musk led Tesla's first funding round and became the company's chairman; in 2008, he was named chief executive officer. In 2008, the company began production of its first car model, the Roadster sports car, followed by the Model S sedan in 2012, the Model X SUV in 2015, the Model 3 sedan in 2017, the Model Y crossover in 2020, the Tesla Semi truck in 2022 and the Cybertruck pickup truck in 2023.\n",
      "Tesla is one of the world's most valuable companies in terms of market capitalization. Starting in July 2020, it has been the world's most valuable automaker. From October 2021 to March 2022, Tesla was a trillion-dollar company, the seventh U.S. company to reach that valuation. Tesla exceeded $1 trillion in market capitalization again between November 2024 and February 2025. In 2023, the company led the battery electric vehicle market, with 19.9% share. Also in 2023, the company was ranked 69th in the Forbes Global 2000.\n",
      "Tesla has been the subject of lawsuits, government scrutiny, and journalistic criticism, stemming from allegations of multiple cases of whistleblower retaliation, worker rights violations such as sexual harassment and anti-union activities, safety defects leading to dozens of recalls, the lack of a public relations department, and controversial statements from Musk including overpromising on the company's driving assist technology and product release timelines. Opponents of Musk have launched the \"Tesla Takedown\" campaign in response to the views of Musk and his role in Department of Government Efficiency (DOGE).\n",
      "\n",
      "Page: Handcar\n",
      "Summary: A handcar (also known as a pump trolley, pump car, rail push trolley, push-trolley, jigger, Kalamazoo, velocipede, or draisine) is a railroad car powered by its passengers or by people pushing the car from behind. It is mostly used as a railway maintenance of way or mining car, but it was also used for passenger service in some cases. \n",
      "\n",
      "\u001b[0m\n",
      "Thought:\u001b[32;1m\u001b[1;3mDo I need to use a tool? No\n",
      "AI: Here are five essential products for vehicle maintenance:\n",
      "1. Motor oil: Regularly changing the motor oil helps keep the engine running smoothly.\n",
      "2. Air filter: A clean air filter improves fuel efficiency and engine performance.\n",
      "3. Brake fluid: Regularly checking and topping up brake fluid is crucial for safety.\n",
      "4. Tire pressure gauge: Maintaining proper tire pressure extends tire life and improves fuel efficiency.\n",
      "5. Coolant: Checking and topping up coolant helps prevent engine overheating.\u001b[0m\n",
      "\n",
      "\u001b[1m> Finished chain.\u001b[0m\n"
     ]
    },
    {
     "data": {
      "text/plain": [
       "{'input': 'Dime 5 productos esenciales para el mantenimiento del vehículo.',\n",
       " 'chat_history': '',\n",
       " 'output': 'Here are five essential products for vehicle maintenance:\\n1. Motor oil: Regularly changing the motor oil helps keep the engine running smoothly.\\n2. Air filter: A clean air filter improves fuel efficiency and engine performance.\\n3. Brake fluid: Regularly checking and topping up brake fluid is crucial for safety.\\n4. Tire pressure gauge: Maintaining proper tire pressure extends tire life and improves fuel efficiency.\\n5. Coolant: Checking and topping up coolant helps prevent engine overheating.'}"
      ]
     },
     "execution_count": 6,
     "metadata": {},
     "output_type": "execute_result"
    }
   ],
   "source": [
    "agent.invoke(\"Dime 5 productos esenciales para el mantenimiento del vehículo.\")"
   ]
  },
  {
   "cell_type": "code",
   "execution_count": 7,
   "id": "8f75df90-1a83-484c-b867-38db787b4d43",
   "metadata": {},
   "outputs": [
    {
     "name": "stdout",
     "output_type": "stream",
     "text": [
      "\n",
      "\n",
      "\u001b[1m> Entering new AgentExecutor chain...\u001b[0m\n",
      "\u001b[32;1m\u001b[1;3mThought: Do I need to use a tool? No\n",
      "AI: Each of the products mentioned is important for vehicle maintenance, but if I had to choose one as the most important, I would say motor oil. Regularly changing the motor oil is crucial for keeping the engine running smoothly and preventing damage.\u001b[0m\n",
      "\n",
      "\u001b[1m> Finished chain.\u001b[0m\n"
     ]
    },
    {
     "data": {
      "text/plain": [
       "{'input': '¿Cuál de los anteriores es el más importante?',\n",
       " 'chat_history': 'Human: Dime 5 productos esenciales para el mantenimiento del vehículo.\\nAI: Here are five essential products for vehicle maintenance:\\n1. Motor oil: Regularly changing the motor oil helps keep the engine running smoothly.\\n2. Air filter: A clean air filter improves fuel efficiency and engine performance.\\n3. Brake fluid: Regularly checking and topping up brake fluid is crucial for safety.\\n4. Tire pressure gauge: Maintaining proper tire pressure extends tire life and improves fuel efficiency.\\n5. Coolant: Checking and topping up coolant helps prevent engine overheating.',\n",
       " 'output': 'Each of the products mentioned is important for vehicle maintenance, but if I had to choose one as the most important, I would say motor oil. Regularly changing the motor oil is crucial for keeping the engine running smoothly and preventing damage.'}"
      ]
     },
     "execution_count": 7,
     "metadata": {},
     "output_type": "execute_result"
    }
   ],
   "source": [
    "agent.invoke(\"¿Cuál de los anteriores es el más importante?\")"
   ]
  },
  {
   "cell_type": "code",
   "execution_count": 8,
   "id": "075bc075-8e56-42e9-9b17-ef4ca62c00b8",
   "metadata": {},
   "outputs": [
    {
     "name": "stdout",
     "output_type": "stream",
     "text": [
      "\n",
      "\n",
      "\u001b[1m> Entering new AgentExecutor chain...\u001b[0m\n",
      "\u001b[32;1m\u001b[1;3mThought: Do I need to use a tool? Yes\n",
      "Action: wikipedia\n",
      "Action Input: Translation of \"motor oil\" to Spanish\u001b[0m\n",
      "Observation: \u001b[36;1m\u001b[1;3mPage: Tabo (hygiene)\n",
      "Summary: The tabò (Tagalog pronunciation: [ˈtaːbɔʔ]) is the traditional hygiene tool primarily for cleansing, bathing,  and cleaning the floor of the bathroom in the Philippines, Indonesia, East Timor, Malaysia, Vietnam, Thailand and Brunei. Tabò is the Filipino name, while gayung and cebok (pronounced chabo') are the equivalent terms used in Indonesia, Brunei, Malaysia, and East Timor. Its Vietnamese name is thau tắm or chậu nước. The tabò could most commonly be found in rural areas though it is also widely used in cities. The word may be related to the word cebok in Indonesia and Malaysia, which describes the process of cleansing oneself using a tabò (or cebok) in a mandi (another Bahasa phrase for the tabò is kamar mandi).\n",
      "The tabò can sometimes be translated into English as a \"dipper\" or \"pitcher\", but according to anthropologist Michael Tan of the University of the Philippines-Diliman, tabò is much more than a dipper. The plastic tabò is an almost indispensable fixture in the Filipino home. Filipinos living overseas will bring their own tabò or even ask their relatives to send one over if they forget. \n",
      "Tabò is also widely used anywhere in a household for purposes other than bathing, such as for measuring volume. 1 tabò is often equal to 1 liter, as usually the household tabò would be the used plastic container of 1 liter of motor oil.\n",
      "A tabò has similarity in design and use to the hishaku (柄杓), a Japanese water dipper with a handle made of bamboo.\n",
      "\n",
      "\n",
      "\n",
      "Page: Managua\n",
      "Summary: Managua (Spanish pronunciation: [maˈnaɣwa]) is the capital and largest city of Nicaragua, and one of the largest cities in Central America. Located on the shores of Lake Managua, the city had an estimated population of 1,055,247 as of 2020, and a population of 1,401,687 in its metropolitan area. The city also serves as the seat of Managua Department.\n",
      "Founded in 1819, Managua became the national capital in 1852. The city underwent a rapid expansion and urbanization between 1842 and 1930, leading it to become one of the most developed cities in Central America. Several earthquakes have affected the city's growth, especially the 1931 earthquake and the 1972 earthquake, but the city has been rebuilt several times. Today, the city is a major economic hub for both the country and Central America.\n",
      "\n",
      "Page: Guerrilla warfare\n",
      "Summary: Guerrilla warfare is a form of unconventional warfare in which small groups of irregular military, such as  rebels, partisans, paramilitary personnel or armed civilians, including recruited children, use ambushes, sabotage, terrorism, raids, petty warfare or hit-and-run tactics in a rebellion, in a violent conflict, in a war or in a civil war to fight against regular military, police or rival insurgent forces.\n",
      "Although the term \"guerrilla warfare\" was coined in the context of the Peninsular War in the 19th century, the tactical methods of guerrilla warfare have long been in use. In the 6th century BC, Sun Tzu proposed the use of guerrilla-style tactics in The Art of War.  The 3rd century BC Roman general Quintus Fabius Maximus Verrucosus is also credited with inventing many of the tactics of guerrilla warfare through what is today called the Fabian strategy, and in China Peng Yue is also often regarded as the inventor of guerrilla warfare. Guerrilla warfare has been used by various factions throughout history and is particularly associated with revolutionary movements and popular resistance against invading or occupying armies.\n",
      "Guerrilla tactics focus on avoiding head-on confrontations with enemy armies, typically due to inferior arms or forces, and instead engage in limited skirmishes with the goal of exhausting adversaries and forcing them to withdraw (see also attrition warfare). Organized guerrilla groups often depend on the support of either the local population or foreign backers who sympathize with the guerrilla group's efforts.\n",
      "\n",
      "\u001b[0m\n",
      "Thought:\u001b[32;1m\u001b[1;3mDo I need to use a tool? Yes\n",
      "Action: wikipedia\n",
      "Action Input: Translation of \"motor oil\" to Spanish\u001b[0m\n",
      "Observation: \u001b[36;1m\u001b[1;3mPage: Tabo (hygiene)\n",
      "Summary: The tabò (Tagalog pronunciation: [ˈtaːbɔʔ]) is the traditional hygiene tool primarily for cleansing, bathing,  and cleaning the floor of the bathroom in the Philippines, Indonesia, East Timor, Malaysia, Vietnam, Thailand and Brunei. Tabò is the Filipino name, while gayung and cebok (pronounced chabo') are the equivalent terms used in Indonesia, Brunei, Malaysia, and East Timor. Its Vietnamese name is thau tắm or chậu nước. The tabò could most commonly be found in rural areas though it is also widely used in cities. The word may be related to the word cebok in Indonesia and Malaysia, which describes the process of cleansing oneself using a tabò (or cebok) in a mandi (another Bahasa phrase for the tabò is kamar mandi).\n",
      "The tabò can sometimes be translated into English as a \"dipper\" or \"pitcher\", but according to anthropologist Michael Tan of the University of the Philippines-Diliman, tabò is much more than a dipper. The plastic tabò is an almost indispensable fixture in the Filipino home. Filipinos living overseas will bring their own tabò or even ask their relatives to send one over if they forget. \n",
      "Tabò is also widely used anywhere in a household for purposes other than bathing, such as for measuring volume. 1 tabò is often equal to 1 liter, as usually the household tabò would be the used plastic container of 1 liter of motor oil.\n",
      "A tabò has similarity in design and use to the hishaku (柄杓), a Japanese water dipper with a handle made of bamboo.\n",
      "\n",
      "\n",
      "\n",
      "Page: Managua\n",
      "Summary: Managua (Spanish pronunciation: [maˈnaɣwa]) is the capital and largest city of Nicaragua, and one of the largest cities in Central America. Located on the shores of Lake Managua, the city had an estimated population of 1,055,247 as of 2020, and a population of 1,401,687 in its metropolitan area. The city also serves as the seat of Managua Department.\n",
      "Founded in 1819, Managua became the national capital in 1852. The city underwent a rapid expansion and urbanization between 1842 and 1930, leading it to become one of the most developed cities in Central America. Several earthquakes have affected the city's growth, especially the 1931 earthquake and the 1972 earthquake, but the city has been rebuilt several times. Today, the city is a major economic hub for both the country and Central America.\n",
      "\n",
      "Page: Guerrilla warfare\n",
      "Summary: Guerrilla warfare is a form of unconventional warfare in which small groups of irregular military, such as  rebels, partisans, paramilitary personnel or armed civilians, including recruited children, use ambushes, sabotage, terrorism, raids, petty warfare or hit-and-run tactics in a rebellion, in a violent conflict, in a war or in a civil war to fight against regular military, police or rival insurgent forces.\n",
      "Although the term \"guerrilla warfare\" was coined in the context of the Peninsular War in the 19th century, the tactical methods of guerrilla warfare have long been in use. In the 6th century BC, Sun Tzu proposed the use of guerrilla-style tactics in The Art of War.  The 3rd century BC Roman general Quintus Fabius Maximus Verrucosus is also credited with inventing many of the tactics of guerrilla warfare through what is today called the Fabian strategy, and in China Peng Yue is also often regarded as the inventor of guerrilla warfare. Guerrilla warfare has been used by various factions throughout history and is particularly associated with revolutionary movements and popular resistance against invading or occupying armies.\n",
      "Guerrilla tactics focus on avoiding head-on confrontations with enemy armies, typically due to inferior arms or forces, and instead engage in limited skirmishes with the goal of exhausting adversaries and forcing them to withdraw (see also attrition warfare). Organized guerrilla groups often depend on the support of either the local population or foreign backers who sympathize with the guerrilla group's efforts.\n",
      "\n",
      "\u001b[0m\n",
      "Thought:\u001b[32;1m\u001b[1;3mDo I need to use a tool? No\n",
      "AI: The translation of \"motor oil\" to Spanish is \"aceite de motor\".\u001b[0m\n",
      "\n",
      "\u001b[1m> Finished chain.\u001b[0m\n"
     ]
    },
    {
     "data": {
      "text/plain": [
       "{'input': 'Necesito la respuesta anterior en castellano',\n",
       " 'chat_history': 'Human: Dime 5 productos esenciales para el mantenimiento del vehículo.\\nAI: Here are five essential products for vehicle maintenance:\\n1. Motor oil: Regularly changing the motor oil helps keep the engine running smoothly.\\n2. Air filter: A clean air filter improves fuel efficiency and engine performance.\\n3. Brake fluid: Regularly checking and topping up brake fluid is crucial for safety.\\n4. Tire pressure gauge: Maintaining proper tire pressure extends tire life and improves fuel efficiency.\\n5. Coolant: Checking and topping up coolant helps prevent engine overheating.\\nHuman: ¿Cuál de los anteriores es el más importante?\\nAI: Each of the products mentioned is important for vehicle maintenance, but if I had to choose one as the most important, I would say motor oil. Regularly changing the motor oil is crucial for keeping the engine running smoothly and preventing damage.',\n",
       " 'output': 'The translation of \"motor oil\" to Spanish is \"aceite de motor\".'}"
      ]
     },
     "execution_count": 8,
     "metadata": {},
     "output_type": "execute_result"
    }
   ],
   "source": [
    "agent.invoke(\"Necesito la respuesta anterior en castellano\")"
   ]
  },
  {
   "cell_type": "code",
   "execution_count": null,
   "id": "3716ab2f-bed6-4518-943f-c6e333226a78",
   "metadata": {},
   "outputs": [],
   "source": []
  }
 ],
 "metadata": {
  "kernelspec": {
   "display_name": "Python 3 (ipykernel)",
   "language": "python",
   "name": "python3"
  },
  "language_info": {
   "codemirror_mode": {
    "name": "ipython",
    "version": 3
   },
   "file_extension": ".py",
   "mimetype": "text/x-python",
   "name": "python",
   "nbconvert_exporter": "python",
   "pygments_lexer": "ipython3",
   "version": "3.12.7"
  }
 },
 "nbformat": 4,
 "nbformat_minor": 5
}
