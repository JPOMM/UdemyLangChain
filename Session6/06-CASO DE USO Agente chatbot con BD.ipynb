{
 "cells": [
  {
   "cell_type": "code",
   "execution_count": 11,
   "id": "bf9f038a-d05f-416a-a515-2309c7c8af7e",
   "metadata": {},
   "outputs": [],
   "source": [
    "from langchain_openai import ChatOpenAI\n",
    "from langchain.prompts import PromptTemplate, SystemMessagePromptTemplate,ChatPromptTemplate, HumanMessagePromptTemplate\n",
    "from langchain.agents import load_tools,initialize_agent,AgentType,create_react_agent,AgentExecutor\n",
    "f = open('../api_key.txt')\n",
    "api_key = f.read()\n",
    "llm = ChatOpenAI(openai_api_key=api_key,temperature=0) #Recomendable temperatura a 0 para que el LLM no sea muy creativo, vamos a tener muchas herramientas a nuestra disposición y queremos que sea más determinista"
   ]
  },
  {
   "cell_type": "code",
   "execution_count": 12,
   "id": "bcac3637-7960-4107-8c56-10a639c5c951",
   "metadata": {},
   "outputs": [],
   "source": [
    "#Podríamos establecer que tuviera memoria\n",
    "from langchain.memory import ConversationBufferMemory\n",
    "memory = ConversationBufferMemory(memory_key=\"chat_history\") #ponemos una denominada clave a la memoria \"chat_history\""
   ]
  },
  {
   "cell_type": "code",
   "execution_count": 14,
   "id": "972f73f8-2a23-4bd3-a48f-a13f6f806fb2",
   "metadata": {},
   "outputs": [],
   "source": [
    "from langchain_community.vectorstores import SKLearnVectorStore\n",
    "from langchain_openai import OpenAIEmbeddings\n",
    "from langchain.retrievers import ContextualCompressionRetriever\n",
    "from langchain.retrievers.document_compressors import LLMChainExtractor\n",
    "\n",
    "funcion_embedding = OpenAIEmbeddings(openai_api_key=api_key)\n",
    "persist_path=\"./ejemplosk_embedding_db\"\n",
    "vector_store_connection = SKLearnVectorStore(embedding=funcion_embedding, persist_path=persist_path, serializer=\"parquet\")\n",
    "compressor = LLMChainExtractor.from_llm(llm)\n",
    "compression_retriever = ContextualCompressionRetriever(base_compressor=compressor, base_retriever=vector_store_connection.as_retriever())"
   ]
  },
  {
   "cell_type": "code",
   "execution_count": 15,
   "id": "b1b13b80-cdbf-4042-836e-729d63938f6e",
   "metadata": {},
   "outputs": [],
   "source": [
    "from langchain.agents import tool"
   ]
  },
  {
   "cell_type": "code",
   "execution_count": 16,
   "id": "0d60507a-ad26-482f-bda9-b21fd76bb143",
   "metadata": {},
   "outputs": [],
   "source": [
    "@tool\n",
    "def consulta_interna(text: str) -> str:\n",
    "    '''Retorna respuestas sobre la historia de España. Se espera que la entrada sea una cadena de texto\n",
    "    y retorna una cadena con el resultado más relevante. Si la respuesta con esta herramienta es relevante,\n",
    "    no debes usar ninguna herramienta más ni tu propio conocimiento como LLM'''\n",
    "    compressed_docs = compression_retriever.invoke(text)\n",
    "    resultado = compressed_docs[0].page_content\n",
    "    return resultado"
   ]
  },
  {
   "cell_type": "code",
   "execution_count": 17,
   "id": "b563ecf6-1742-4188-8d96-02b6d15f79c6",
   "metadata": {},
   "outputs": [],
   "source": [
    "tools = load_tools([\"wikipedia\",\"llm-math\"],llm=llm)"
   ]
  },
  {
   "cell_type": "code",
   "execution_count": 18,
   "id": "7d1c98f9-1a36-4d64-aa57-265f8799d1d1",
   "metadata": {},
   "outputs": [],
   "source": [
    "tools=tools+[consulta_interna]"
   ]
  },
  {
   "cell_type": "code",
   "execution_count": 19,
   "id": "21ca58dc-2bf0-4196-afa1-f7b7ef24528a",
   "metadata": {},
   "outputs": [],
   "source": [
    "agent = initialize_agent(tools, llm, agent=AgentType.CONVERSATIONAL_REACT_DESCRIPTION,memory=memory,verbose=True)"
   ]
  },
  {
   "cell_type": "code",
   "execution_count": 20,
   "id": "eab3f3c7-3d36-449f-aea8-97876665f041",
   "metadata": {},
   "outputs": [
    {
     "name": "stdout",
     "output_type": "stream",
     "text": [
      "\n",
      "\n",
      "\u001b[1m> Entering new AgentExecutor chain...\u001b[0m\n",
      "\u001b[32;1m\u001b[1;3mThought: Do I need to use a tool? Yes\n",
      "Action: consulta_interna\n",
      "Action Input: ¿Qué periodo abarca cronológicamente en España el siglo de oro?\u001b[0m\n",
      "Observation: \u001b[38;5;200m\u001b[1;3mEl Siglo de Oro español fue un período floreciente en las artes y las letras hispanas que abarca cronológicamente desde la publicación de la Gramática castellana de Nebrija en 1492 hasta la muerte de Calderón en 1681.\u001b[0m\n",
      "Thought:\u001b[32;1m\u001b[1;3mDo I need to use a tool? No\n",
      "AI: El Siglo de Oro español abarca cronológicamente desde la publicación de la Gramática castellana de Nebrija en 1492 hasta la muerte de Calderón en 1681.\u001b[0m\n",
      "\n",
      "\u001b[1m> Finished chain.\u001b[0m\n"
     ]
    },
    {
     "data": {
      "text/plain": [
       "{'input': '¿Qué periodo abarca cronológicamente en España el siglo de oro?',\n",
       " 'chat_history': '',\n",
       " 'output': 'El Siglo de Oro español abarca cronológicamente desde la publicación de la Gramática castellana de Nebrija en 1492 hasta la muerte de Calderón en 1681.'}"
      ]
     },
     "execution_count": 20,
     "metadata": {},
     "output_type": "execute_result"
    }
   ],
   "source": [
    "agent.invoke(\"¿Qué periodo abarca cronológicamente en España el siglo de oro?\")"
   ]
  },
  {
   "cell_type": "code",
   "execution_count": 21,
   "id": "035da192-0cdb-4de8-a512-8108320fd163",
   "metadata": {},
   "outputs": [
    {
     "name": "stdout",
     "output_type": "stream",
     "text": [
      "\n",
      "\n",
      "\u001b[1m> Entering new AgentExecutor chain...\u001b[0m\n",
      "\u001b[32;1m\u001b[1;3mThought: Do I need to use a tool? Yes\n",
      "Action: consulta_interna\n",
      "Action Input: El Siglo de Oro en Francia\u001b[0m\n",
      "Observation: \u001b[38;5;200m\u001b[1;3mEl Siglo de Oro español fue un período floreciente en las artes y las letras hispanas que abarca cronológicamente desde la publicación de la Gramática castellana de Nebrija en 1492 hasta la muerte de Calderón en 1681.\u001b[0m\n",
      "Thought:\u001b[32;1m\u001b[1;3mDo I need to use a tool? No\n",
      "AI: Durante la misma etapa en Francia, se conoce como el Siglo de Oro de la literatura francesa, que abarca aproximadamente desde el siglo XVI hasta el siglo XVII. Durante este período, hubo un florecimiento de la literatura, las artes y la cultura en Francia, con figuras destacadas como Pierre de Ronsard, Joachim du Bellay, Michel de Montaigne, y otros.\u001b[0m\n",
      "\n",
      "\u001b[1m> Finished chain.\u001b[0m\n"
     ]
    },
    {
     "data": {
      "text/plain": [
       "{'input': '¿Qué pasó durante la misma etapa en Francia?',\n",
       " 'chat_history': 'Human: ¿Qué periodo abarca cronológicamente en España el siglo de oro?\\nAI: El Siglo de Oro español abarca cronológicamente desde la publicación de la Gramática castellana de Nebrija en 1492 hasta la muerte de Calderón en 1681.',\n",
       " 'output': 'Durante la misma etapa en Francia, se conoce como el Siglo de Oro de la literatura francesa, que abarca aproximadamente desde el siglo XVI hasta el siglo XVII. Durante este período, hubo un florecimiento de la literatura, las artes y la cultura en Francia, con figuras destacadas como Pierre de Ronsard, Joachim du Bellay, Michel de Montaigne, y otros.'}"
      ]
     },
     "execution_count": 21,
     "metadata": {},
     "output_type": "execute_result"
    }
   ],
   "source": [
    "agent.invoke(\"¿Qué pasó durante la misma etapa en Francia?\") #Gracias a tener memoria compara en esas fechas qué ocurrió en Francia"
   ]
  },
  {
   "cell_type": "code",
   "execution_count": 22,
   "id": "0378157a-6807-4f4f-a51b-999e69ec0b67",
   "metadata": {},
   "outputs": [
    {
     "name": "stdout",
     "output_type": "stream",
     "text": [
      "\n",
      "\n",
      "\u001b[1m> Entering new AgentExecutor chain...\u001b[0m\n",
      "\u001b[32;1m\u001b[1;3mThought: Do I need to use a tool? Yes\n",
      "Action: wikipedia\n",
      "Action Input: List of famous vehicle brands\u001b[0m\n",
      "Observation: \u001b[36;1m\u001b[1;3mPage: List of sports cars\n",
      "Summary: This page is a compilation of sports cars, coupés, roadsters, kit cars, supercars, hypercars, electric sports cars, race cars, and super SUVs, both discontinued and still in production (or will be planned to produce).  Cars that have sport trims (such as the Honda Civic SI) will be listed under the sport trims section.  Production tunes will include cars modified by outside brands and then sold. This does not include in-house brands such as Ford's Special Vehicle Team, which will be included in the main list.  Some vehicles are sold under different brands, therefore some vehicles may be listed more than once but usually link to the same page.  Different countries/continents may also classify vehicles differently.\n",
      "\n",
      "\n",
      "\n",
      "Page: Automobile manufacturers and brands of China\n",
      "Summary: There are currently about 150 active brands in the Chinese automobile market. Among them are 97 Chinese domestic brands and 43 joint venture (JV) brands. Before 2010, the traditional \"Big Four\" refers to the four major state-owned car manufacturers, SAIC, FAW, Dongfeng and Changan. Other Chinese car manufacturers, both from public and private sectors, like Geely, BAIC, BYD, Chery, GAC, Great Wall, JAC and Seres emerged as the major players with the expansion of Chinese automotive industry.\n",
      "The article is the introduction of major manufacturers and brands of China, for the full list see List of automobile manufacturers of China.\n",
      "\n",
      "Page: List of car brands\n",
      "Summary: This is an incomplete list of every brand (also known as make or marque) of car ever produced, by country of origin, which has an article on Wikipedia.  Names should not be added unless they already have an article. Some are from manufacturing companies that also use their company name as a brand name; others are from subsidiary companies or divisions, or are products of badge engineering.  This is not a list of every brand that is available for sale in each country, but a list of companies that originated or have a significant independent presence in each country.  This typically means manufacturing in that country and often exporting from that country, not just selling cars there.\n",
      "\n",
      "\u001b[0m\n",
      "Thought:\u001b[32;1m\u001b[1;3mDo I need to use a tool? No\n",
      "AI: Some of the most famous vehicle brands today include Toyota, Volkswagen, Ford, Chevrolet, Honda, Nissan, BMW, Mercedes-Benz, and Audi, among others. These brands are well-known for producing a wide range of vehicles, from compact cars to luxury SUVs and sports cars.\u001b[0m\n",
      "\n",
      "\u001b[1m> Finished chain.\u001b[0m\n"
     ]
    },
    {
     "data": {
      "text/plain": [
       "{'input': '¿Cuáles son las marcas de vehículos más famosas hoy en día?',\n",
       " 'chat_history': 'Human: ¿Qué periodo abarca cronológicamente en España el siglo de oro?\\nAI: El Siglo de Oro español abarca cronológicamente desde la publicación de la Gramática castellana de Nebrija en 1492 hasta la muerte de Calderón en 1681.\\nHuman: ¿Qué pasó durante la misma etapa en Francia?\\nAI: Durante la misma etapa en Francia, se conoce como el Siglo de Oro de la literatura francesa, que abarca aproximadamente desde el siglo XVI hasta el siglo XVII. Durante este período, hubo un florecimiento de la literatura, las artes y la cultura en Francia, con figuras destacadas como Pierre de Ronsard, Joachim du Bellay, Michel de Montaigne, y otros.',\n",
       " 'output': 'Some of the most famous vehicle brands today include Toyota, Volkswagen, Ford, Chevrolet, Honda, Nissan, BMW, Mercedes-Benz, and Audi, among others. These brands are well-known for producing a wide range of vehicles, from compact cars to luxury SUVs and sports cars.'}"
      ]
     },
     "execution_count": 22,
     "metadata": {},
     "output_type": "execute_result"
    }
   ],
   "source": [
    "agent.invoke(\"¿Cuáles son las marcas de vehículos más famosas hoy en día?\") #Pregunta que no podemos responder con nuestra BD Vectorial"
   ]
  },
  {
   "cell_type": "code",
   "execution_count": null,
   "id": "c011bce9-7e56-47ba-9727-38307d05458b",
   "metadata": {},
   "outputs": [],
   "source": []
  }
 ],
 "metadata": {
  "kernelspec": {
   "display_name": "Python 3 (ipykernel)",
   "language": "python",
   "name": "python3"
  },
  "language_info": {
   "codemirror_mode": {
    "name": "ipython",
    "version": 3
   },
   "file_extension": ".py",
   "mimetype": "text/x-python",
   "name": "python",
   "nbconvert_exporter": "python",
   "pygments_lexer": "ipython3",
   "version": "3.12.7"
  }
 },
 "nbformat": 4,
 "nbformat_minor": 5
}
