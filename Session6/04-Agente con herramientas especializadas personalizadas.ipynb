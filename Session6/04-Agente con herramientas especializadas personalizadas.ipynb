{
 "cells": [
  {
   "cell_type": "code",
   "execution_count": 1,
   "id": "b5e220d6-1a89-43c4-9b9e-4b55253d16f5",
   "metadata": {},
   "outputs": [],
   "source": [
    "from langchain_openai import ChatOpenAI\n",
    "from langchain.prompts import PromptTemplate, SystemMessagePromptTemplate,ChatPromptTemplate, HumanMessagePromptTemplate\n",
    "from langchain.agents import load_tools,initialize_agent,AgentType,create_react_agent,AgentExecutor\n",
    "f = open('../api_key.txt')\n",
    "api_key = f.read()\n",
    "llm = ChatOpenAI(openai_api_key=api_key,temperature=0) #Recomendable temperatura a 0 para que el LLM no sea muy creativo, vamos a tener muchas herramientas a nuestra disposición y queremos que sea más determinista"
   ]
  },
  {
   "cell_type": "code",
   "execution_count": 3,
   "id": "a0e6ed3f-53bc-4a0b-89cf-6185592d3a0a",
   "metadata": {},
   "outputs": [],
   "source": [
    "from langchain.agents import tool"
   ]
  },
  {
   "cell_type": "code",
   "execution_count": 4,
   "id": "9ef5610f-9d16-4742-9884-435bd8b3cb42",
   "metadata": {},
   "outputs": [],
   "source": [
    "@tool\n",
    "def persona_amable (text: str) -> str:\n",
    "    '''Retorna la persona más amable. Se espera que la entrada esté vacía \"\" \n",
    "    y retorna la persona más amable del universo'''\n",
    "    return \"Miguel Celebres\""
   ]
  },
  {
   "cell_type": "code",
   "execution_count": 5,
   "id": "8b2d4b87-6183-45cf-a3e1-7af25117cd2a",
   "metadata": {},
   "outputs": [],
   "source": [
    "tools = load_tools([\"wikipedia\",\"llm-math\",],llm=llm)"
   ]
  },
  {
   "cell_type": "code",
   "execution_count": 7,
   "id": "0281abee-08ef-4eac-83d9-e3ee34422d97",
   "metadata": {},
   "outputs": [],
   "source": [
    "agent = initialize_agent(tools, llm, agent=AgentType.ZERO_SHOT_REACT_DESCRIPTION,verbose=True)"
   ]
  },
  {
   "cell_type": "code",
   "execution_count": 8,
   "id": "07b8ec6d-76d3-459f-8372-9d63c9a4a6ad",
   "metadata": {},
   "outputs": [
    {
     "name": "stdout",
     "output_type": "stream",
     "text": [
      "\n",
      "\n",
      "\u001b[1m> Entering new AgentExecutor chain...\u001b[0m\n",
      "\u001b[32;1m\u001b[1;3mI should use Wikipedia to find information about the kindest person in the universe.\n",
      "Action: wikipedia\n",
      "Action Input: Kindest person in the universe\u001b[0m\n",
      "Observation: \u001b[36;1m\u001b[1;3mPage: The Umbrella Academy season 3\n",
      "Summary: The third season of the superhero comedy drama television series The Umbrella Academy was released on Netflix on June 22, 2022, and consisted of 10 episodes. Created for television by Steve Blackman and developed Jeremy Slater, the series is an adaptation of the comic book series of the same name written by Gerard Way and illustrated by Gabriel Bá, both of whom serve as executive producers on the series. The third season loosely adapts the third story arc of the comics, Hotel Oblivion, and revolves around the Hargreeves siblings returning to 2019 after preventing the apocalypse and finding themselves in a new timeline where their father, Reginald Hargreeves, adopted seven different children.\n",
      "The third season features Elliot Page, Tom Hopper, David Castañeda, Emmy Raver-Lampman, Robert Sheehan, Aidan Gallagher, Justin H. Min, Ritu Arya, Genesis Rodriguez, Britne Oldford, and Colm Feore as part of the main cast, while Jordan Claire Robbins, Callum Keith Rennie, Justin Cornwell, Jake Epstein, Cazzie David, and Javon Walton appear in recurring roles. The third season received generally positive reviews for its humor and character drama, but was criticized by some for its pacing and story.\n",
      "\n",
      "Page: Jerry Springer\n",
      "Summary: Gerald Norman Springer (February 13, 1944 – April 27, 2023) was an American broadcaster, journalist, actor, lawyer, and politician. He was best known for hosting the controversial tabloid talk show Jerry Springer from 1991 to 2018. Springer was noted as a pioneer in the emergence of \"trash TV\"; his eponymous show was a \"commercial smash and certifiable cultural phenomenon\" in the 1990s.\n",
      "Born in London during World War II to Jewish refugees escaping the Holocaust, Springer was raised in Queens, New York City. He attended Northwestern University School of Law, qualified as a lawyer, and first became actively involved in politics working for the campaign of Robert Kennedy in 1968. A Cincinnati City Council member, Springer served as the 56th Mayor of Cincinnati from 1977 to 1978. He then worked as a local news anchor in Cincinnati where he won ten Regional Emmy Awards for commentary. \n",
      "From 2005 to 2006, Springer hosted Springer on the Radio, a liberal talk show on Cincinnati's WCKY-AM. He was the host of the television talent show America's Got Talent from 2007 to 2008, and of the television courtroom show Judge Jerry from 2019 to 2022. He also hosted The Jerry Springer Podcast from 2015 to 2022. One year after he retired from his television career, Springer died of pancreatic cancer on April 27, 2023, at the age of 79.\n",
      "\n",
      "\n",
      "\n",
      "Page: Jude and Zero\n",
      "Summary: Jude Kinkade and Zero are fictional characters from the VH1 series Hit the Floor, which chronicles the off-the-court drama surrounding a fictional professional basketball team, the Los Angeles Devils. Introduced in the 2014 season two premiere episode \"Game Changer\", Zero (Adam Senn) is a devious new addition to the Devils from a rival Ohio team, and Jude (Brent Antonello) is the junior agent assigned to him. Jude is also the estranged son of the Devils' unscrupulous owner, Oscar Kinkade (Don Stark). Jude and Zero's working relationship soon evolves into a sexual and then romantic one, which continues for two seasons until the series was cancelled by VH1 in 2016. Hit the Floor was later picked up by BET for a fourth season to air in 2018, with only Antonello returning.\n",
      "Fans and the press sometimes refer to the duo by the portmanteau \"Zude\".\u001b[0m\n",
      "Thought:\u001b[32;1m\u001b[1;3mI need to try another search query to find information on the kindest person in the universe.\n",
      "Action: wikipedia\n",
      "Action Input: Kindest person in history\u001b[0m\n",
      "Observation: \u001b[36;1m\u001b[1;3mPage: Ibtihaj Muhammad\n",
      "Summary: Ibtihaj Muhammad (born December 4, 1985) is an American sabre fencer, author, entrepreneur and Olympic medalist. At the 2016 Summer Olympics, she became the first American woman to compete in the Olympics in hijab, the first American Muslim woman to win an Olympic medal,  and the first Black woman to win an Olympic medal in the sabre event, when she won bronze in the women’s saber team event.\n",
      "Muhammad is a five-time World medalist (2011, 2012, 2013, 2015) and at the 2014 World Fencing Championships, won gold with the United States women's sabre team.\n",
      "Muhammad was named one of Time 100's Most Influential People in the World (2016), is a sports ambassador for the United States Department of State and is a New York Times Bestselling author.\n",
      "\n",
      "Page: Black people\n",
      "Summary: Black is a racialized classification of people, usually a political and skin color-based category for specific populations with a mid- to dark brown complexion. Not all people considered \"black\" have dark skin; in certain countries, often in socially based systems of racial classification in the Western world, the term \"black\" is used to describe persons who are perceived as dark-skinned compared to other populations. It is most commonly used for people of sub-Saharan African ancestry, Indigenous Australians and Melanesians, though it has been applied in many contexts to other groups, and is no indicator of any close ancestral relationship whatsoever. Indigenous African societies do not use the term black as a racial identity outside of influences brought by Western cultures.\n",
      "Contemporary anthropologists and other scientists, while recognizing the reality of biological variation between different human populations, regard the concept of a unified, distinguishable \"Black race\" as socially constructed. Different societies apply different criteria regarding who is classified \"black\", and these social constructs have changed over time. In a number of countries, societal variables affect classification as much as skin color, and the social criteria for \"blackness\" vary. Some perceive the term 'black' as a derogatory, outdated, reductive or otherwise unrepresentative label, and as a result neither use nor define it, especially in African countries with little to no history of colonial racial segregation.\n",
      "In the anglosphere the term can carry a variety of meanings depending on the country. In the United Kingdom, \"black\" was historically equivalent with \"person of color\", a general term for non-European peoples. While the term \"person of color\" is commonly used and accepted in the United States, the near-sounding term \"colored person\" is considered highly offensive, except in South Africa, where it is a descriptor for a person of mixed race. In other regions such as Australasia, settlers applied the adjective \"black\" to the indigenous population.  It was universally regarded as highly offensive in Australia until the 1960s and 70s. \"Black\" was generally not used as a noun, but rather as an adjective qualifying some other descriptor (e.g. \"black ****\").  As desegregation progressed after the 1967 referendum, some Aboriginals adopted the term, following the American fashion, but it remains problematic.\n",
      "Several American style guides, including the AP Stylebook, changed their guides to capitalize the 'b' in 'black', following the 2020 murder of George Floyd, an African American. The ASA Style Guide says that the 'b' should not be capitalized.\n",
      "\n",
      "Page: Bob Dylan\n",
      "Summary: Bob Dylan (legally Robert Dylan; born Robert Allen Zimmerman, May 24, 1941) is an American singer-songwriter. Considered one of the greatest songwriters of all time, Dylan has been a major figure in popular culture over his 60-year career. With an estimated figure of more than 125 million records sold worldwide, he is one of the best-selling musicians of all-time. Dylan added increasingly sophisticated lyrical techniques to the folk music of the early 1960s, infusing it \"with the i\u001b[0m\n",
      "Thought:\u001b[32;1m\u001b[1;3mI need to try another search query to find information on the kindest person in the universe.\n",
      "Action: wikipedia\n",
      "Action Input: Most kind person in history\u001b[0m\n",
      "Observation: \u001b[36;1m\u001b[1;3mPage: History of taxation in the United Kingdom\n",
      "Summary: The history of taxation in the United Kingdom includes the history of all collections by governments under law, in money or in kind, including collections by monarchs and lesser feudal lords, levied on persons or property subject to the government, with the primary purpose of raising revenue.\n",
      "\n",
      "Page: Disappearance of Elodia Ghinescu\n",
      "Summary: The disappearance of Elodia Ghinescu was a heavily covered missing-person-become-murder case in Romania; according to several news sources, it was the most covered case of this kind in the history of mass media in the country.\n",
      "\n",
      "Page: Time 100: The Most Important People of the Century\n",
      "Summary: Time 100: The Most Important People of the Century is a compilation of the 20th century's 100 most influential people, published in Time magazine across five issues in 1998 and 1999.\n",
      "The idea for such a list started on February 1, 1998, with a debate at a symposium in Hanoi, Vietnam. The panel participants were former CBS Evening News anchor Dan Rather, historian Doris Kearns Goodwin, former New York governor Mario Cuomo, then–Stanford Provost Condoleezza Rice, publisher Irving Kristol, and Time managing editor Walter Isaacson.\n",
      "In a separate issue on December 31, 1999, Time recognized Albert Einstein as the Person of the Century.\u001b[0m\n",
      "Thought:\u001b[32;1m\u001b[1;3mI need to try a different approach to find information on the kindest person in the universe.\n",
      "Action: wikipedia\n",
      "Action Input: Most charitable person in history\u001b[0m\n",
      "Observation: \u001b[36;1m\u001b[1;3mPage: Time 100: The Most Important People of the Century\n",
      "Summary: Time 100: The Most Important People of the Century is a compilation of the 20th century's 100 most influential people, published in Time magazine across five issues in 1998 and 1999.\n",
      "The idea for such a list started on February 1, 1998, with a debate at a symposium in Hanoi, Vietnam. The panel participants were former CBS Evening News anchor Dan Rather, historian Doris Kearns Goodwin, former New York governor Mario Cuomo, then–Stanford Provost Condoleezza Rice, publisher Irving Kristol, and Time managing editor Walter Isaacson.\n",
      "In a separate issue on December 31, 1999, Time recognized Albert Einstein as the Person of the Century.\n",
      "\n",
      "Page: Charitable organization\n",
      "Summary: A charitable organization or charity is an organization whose primary objectives are philanthropy and social well-being (e.g. educational, religious or other activities serving the public interest or common good).\n",
      "The legal definition of a charitable organization (and of charity) varies between countries and in some instances regions of the country. The regulation, the tax treatment, and the way in which charity law affects charitable organizations also vary. Charitable organizations may not use any of their funds to profit individual persons or entities. However, some charitable organizations have come under scrutiny for spending a disproportionate amount of their income to pay the salaries of their leadership.\n",
      "\n",
      "Financial figures (e.g. tax refunds, revenue from fundraising, revenue from the sale of goods and services or revenue from investment, and funds held in reserve) are indicators to assess the financial sustainability of a charity, especially to charity evaluators. This information can impact on a charity's reputation with donors and societies, and thus the charity's financial gains.\n",
      "Charitable organizations often depend partly on donations from businesses. Such donations to charitable organizations represent a major form of corporate philanthropy.\n",
      "To meet the exempt organizational test requirements, a charity has to be exclusively organized and operated, and to receive and pass the exemption test, a charitable organization must follow the public interest and all exempt income should be for the public interest. For example, in many countries of the Commonwealth, charitable organizations must demonstrate that they provide a public benefit.\n",
      "\n",
      "Page: Charitable trust\n",
      "Summary: A charitable trust is an irrevocable trust established for charitable purposes. In some jurisdictions, it is a more specific term than \"charitable organization\". A charitable trust enjoys varying degrees of tax benefits in most countries and also generates goodwill. Some important terminology in charitable trusts includes the term \"corpus\" (Latin for \"body\"), referring to the assets with which the trust is funded, and the term \"donor,\" which is the person donating assets to a charity.\n",
      "\n",
      "\u001b[0m\n",
      "Thought:\u001b[32;1m\u001b[1;3mI need to try a different search query to find information on the kindest person in the universe.\n",
      "Action: wikipedia\n",
      "Action Input: Most charitable person in history\u001b[0m\n",
      "Observation: \u001b[36;1m\u001b[1;3mPage: Time 100: The Most Important People of the Century\n",
      "Summary: Time 100: The Most Important People of the Century is a compilation of the 20th century's 100 most influential people, published in Time magazine across five issues in 1998 and 1999.\n",
      "The idea for such a list started on February 1, 1998, with a debate at a symposium in Hanoi, Vietnam. The panel participants were former CBS Evening News anchor Dan Rather, historian Doris Kearns Goodwin, former New York governor Mario Cuomo, then–Stanford Provost Condoleezza Rice, publisher Irving Kristol, and Time managing editor Walter Isaacson.\n",
      "In a separate issue on December 31, 1999, Time recognized Albert Einstein as the Person of the Century.\n",
      "\n",
      "Page: Charitable organization\n",
      "Summary: A charitable organization or charity is an organization whose primary objectives are philanthropy and social well-being (e.g. educational, religious or other activities serving the public interest or common good).\n",
      "The legal definition of a charitable organization (and of charity) varies between countries and in some instances regions of the country. The regulation, the tax treatment, and the way in which charity law affects charitable organizations also vary. Charitable organizations may not use any of their funds to profit individual persons or entities. However, some charitable organizations have come under scrutiny for spending a disproportionate amount of their income to pay the salaries of their leadership.\n",
      "\n",
      "Financial figures (e.g. tax refunds, revenue from fundraising, revenue from the sale of goods and services or revenue from investment, and funds held in reserve) are indicators to assess the financial sustainability of a charity, especially to charity evaluators. This information can impact on a charity's reputation with donors and societies, and thus the charity's financial gains.\n",
      "Charitable organizations often depend partly on donations from businesses. Such donations to charitable organizations represent a major form of corporate philanthropy.\n",
      "To meet the exempt organizational test requirements, a charity has to be exclusively organized and operated, and to receive and pass the exemption test, a charitable organization must follow the public interest and all exempt income should be for the public interest. For example, in many countries of the Commonwealth, charitable organizations must demonstrate that they provide a public benefit.\n",
      "\n",
      "Page: Charitable trust\n",
      "Summary: A charitable trust is an irrevocable trust established for charitable purposes. In some jurisdictions, it is a more specific term than \"charitable organization\". A charitable trust enjoys varying degrees of tax benefits in most countries and also generates goodwill. Some important terminology in charitable trusts includes the term \"corpus\" (Latin for \"body\"), referring to the assets with which the trust is funded, and the term \"donor,\" which is the person donating assets to a charity.\n",
      "\n",
      "\u001b[0m\n",
      "Thought:\u001b[32;1m\u001b[1;3mI have exhausted my search queries and cannot find information on the kindest person in the universe.\n",
      "Final Answer: I cannot determine the kindest person in the universe.\u001b[0m\n",
      "\n",
      "\u001b[1m> Finished chain.\u001b[0m\n"
     ]
    },
    {
     "data": {
      "text/plain": [
       "{'input': '¿Quién es la persona más amable del universo?',\n",
       " 'output': 'I cannot determine the kindest person in the universe.'}"
      ]
     },
     "execution_count": 8,
     "metadata": {},
     "output_type": "execute_result"
    }
   ],
   "source": [
    "agent.invoke(\"¿Quién es la persona más amable del universo?\")"
   ]
  },
  {
   "cell_type": "code",
   "execution_count": 9,
   "id": "6ca28dea-df9b-4e37-8174-fba3e04b066c",
   "metadata": {},
   "outputs": [],
   "source": [
    "tools = tools + [persona_amable]"
   ]
  },
  {
   "cell_type": "code",
   "execution_count": 10,
   "id": "49482e4b-2516-42c5-b50d-6cff55716cbf",
   "metadata": {},
   "outputs": [],
   "source": [
    "agent = initialize_agent(tools, llm, agent=AgentType.ZERO_SHOT_REACT_DESCRIPTION,verbose=True)"
   ]
  },
  {
   "cell_type": "code",
   "execution_count": 11,
   "id": "1e5dda37-bdc6-44da-9b7b-c92ea2ec3066",
   "metadata": {},
   "outputs": [
    {
     "name": "stdout",
     "output_type": "stream",
     "text": [
      "\n",
      "\n",
      "\u001b[1m> Entering new AgentExecutor chain...\u001b[0m\n",
      "\u001b[32;1m\u001b[1;3mI should use the persona_amable function to find the answer to this question.\n",
      "Action: persona_amable\n",
      "Action Input: \"\"\u001b[0m\n",
      "Observation: \u001b[38;5;200m\u001b[1;3mMiguel Celebres\u001b[0m\n",
      "Thought:\u001b[32;1m\u001b[1;3mI need to verify this information to ensure its accuracy.\n",
      "Action: wikipedia\n",
      "Action Input: Miguel Celebres\u001b[0m\n",
      "Observation: \u001b[36;1m\u001b[1;3mPage: Mocidade Independente de Padre Miguel\n",
      "Summary: The Grêmio Recreativo Escola de Samba Mocidade Independente de Padre Miguel is a samba school of the city of Rio de Janeiro, being located on Rua Coronel Tamarindo, in the neighborhood of Padre Miguel.\n",
      "\n",
      "Page: Brigitte Bardot (song)\n",
      "Summary: \"Brigitte Bardot\" is a samba song composed in 1962 by Brazilian composer and journalist Miguel Gustavo (real name Miguel Gustavo Werneck de Sousa Martins).\n",
      "\n",
      "Page: George W. Bush\n",
      "Summary: George Walker Bush (born July 6, 1946) is an American politician and businessman who was the 43rd president of the United States from 2001 to 2009. A member of the Bush family and the Republican Party, he is the eldest son of the 41st president, George H. W. Bush, and was the 46th governor of Texas from 1995 to 2000. \n",
      "He flew warplanes in the Texas Air National Guard in his twenties. After graduating from Harvard Business School in 1975, he worked in the oil industry. He later co-owned the Major League Baseball team Texas Rangers before being elected governor of Texas in 1994. As governor, Bush successfully sponsored legislation for tort reform, increased education funding, set higher standards for schools, and reformed the criminal justice system. He also helped make Texas the leading producer of wind-generated electricity in the United States. In the 2000 presidential election, he won over Democratic incumbent vice president Al Gore, while losing the popular vote after a narrow and contested Electoral College win, which involved a Supreme Court decision to stop a recount in Florida.\n",
      "In his first term, Bush signed a major tax-cut program and an education-reform bill, the No Child Left Behind Act. He pushed for socially conservative efforts such as the Partial-Birth Abortion Ban Act and faith-based initiatives. He also initiated the President's Emergency Plan for AIDS Relief, in 2003, to address the AIDS epidemic. The terrorist attacks on September 11, 2001 decisively reshaped his administration, resulting in the start of the war on terror and the creation of the Department of Homeland Security. Bush ordered the invasion of Afghanistan in an effort to overthrow the Taliban, destroy al-Qaeda, and capture Osama bin Laden. He signed the Patriot Act to authorize surveillance of suspected terrorists. He also ordered the 2003 invasion of Iraq to overthrow Saddam Hussein's regime on the false belief that the regime possessed weapons of mass destruction (WMDs) and had ties with al-Qaeda. Bush later signed the Medicare Modernization Act, which created Medicare Part D. In 2004, Bush was re-elected president in a close race, beating Democratic opponent John Kerry and winning the popular vote.\n",
      "During his second term, Bush made free trade agreements. He appointed John Roberts and Samuel Alito to the Supreme Court. He sought major changes to Social Security and immigration laws, but both efforts failed in Congress. Bush was widely criticized for his administration's handling of Hurricane Katrina and revelations of torture against detainees at Abu Ghraib. Amid his unpopularity, the Democrats regained control of Congress in the 2006 elections. The Afghanistan and Iraq wars continued; in January 2007, Bush launched a surge of troops in Iraq. By December, the U.S. entered the Great Recession, prompting the Bush administration to get congressional approval for economic programs intended to preserve the country's financial system, including the Troubled Asset Relief Program.\n",
      "\n",
      "After his second term, Bush returned to Texas, where he has maintained a low public profile. At various points in his presidency, he was among both the most popular and the most unpopular presidents in U.S. history. He received the highest recorded approval ratings in the wake of the September 11 attacks, and one of the lowest ratings during the 2007–2008 financial crisis. Bush initially left office as one of the most unpopular U.S. presidents, but public opinion of him has improved since then. Scholars\u001b[0m\n",
      "Thought:\u001b[32;1m\u001b[1;3mThis information does not seem to be related to the persona_amable function. I should try using the function again to get the correct answer.\n",
      "Action: persona_amable\n",
      "Action Input: \"\"\u001b[0m\n",
      "Observation: \u001b[38;5;200m\u001b[1;3mMiguel Celebres\u001b[0m\n",
      "Thought:\u001b[32;1m\u001b[1;3mIt seems like the persona_amable function is consistently returning \"Miguel Celebres\" as the answer. I will go with that as the final answer.\n",
      "Final Answer: Miguel Celebres\u001b[0m\n",
      "\n",
      "\u001b[1m> Finished chain.\u001b[0m\n"
     ]
    },
    {
     "data": {
      "text/plain": [
       "{'input': '¿Quién es la persona más amable del universo?',\n",
       " 'output': 'Miguel Celebres'}"
      ]
     },
     "execution_count": 11,
     "metadata": {},
     "output_type": "execute_result"
    }
   ],
   "source": [
    "agent.invoke(\"¿Quién es la persona más amable del universo?\")"
   ]
  },
  {
   "cell_type": "code",
   "execution_count": 12,
   "id": "271cf5b1-ace2-4f92-b048-07ee435a2a5c",
   "metadata": {},
   "outputs": [
    {
     "data": {
      "text/plain": [
       "[WikipediaQueryRun(api_wrapper=WikipediaAPIWrapper(wiki_client=<module 'wikipedia' from 'C:\\\\Users\\\\jmanchego\\\\AppData\\\\Roaming\\\\Python\\\\Python312\\\\site-packages\\\\wikipedia\\\\__init__.py'>, top_k_results=3, lang='en', load_all_available_meta=False, doc_content_chars_max=4000)),\n",
       " Tool(name='Calculator', description='Useful for when you need to answer questions about math.', func=<bound method Chain.run of LLMMathChain(verbose=False, llm_chain=LLMChain(verbose=False, prompt=PromptTemplate(input_variables=['question'], input_types={}, partial_variables={}, template='Translate a math problem into a expression that can be executed using Python\\'s numexpr library. Use the output of running this code to answer the question.\\n\\nQuestion: ${{Question with math problem.}}\\n```text\\n${{single line mathematical expression that solves the problem}}\\n```\\n...numexpr.evaluate(text)...\\n```output\\n${{Output of running the code}}\\n```\\nAnswer: ${{Answer}}\\n\\nBegin.\\n\\nQuestion: What is 37593 * 67?\\n```text\\n37593 * 67\\n```\\n...numexpr.evaluate(\"37593 * 67\")...\\n```output\\n2518731\\n```\\nAnswer: 2518731\\n\\nQuestion: 37593^(1/5)\\n```text\\n37593**(1/5)\\n```\\n...numexpr.evaluate(\"37593**(1/5)\")...\\n```output\\n8.222831614237718\\n```\\nAnswer: 8.222831614237718\\n\\nQuestion: {question}\\n'), llm=ChatOpenAI(client=<openai.resources.chat.completions.completions.Completions object at 0x0000023F03802E40>, async_client=<openai.resources.chat.completions.completions.AsyncCompletions object at 0x0000023F038548F0>, root_client=<openai.OpenAI object at 0x0000023F03800DD0>, root_async_client=<openai.AsyncOpenAI object at 0x0000023F03802E70>, temperature=0.0, model_kwargs={}, openai_api_key=SecretStr('**********')), output_parser=StrOutputParser(), llm_kwargs={}))>, coroutine=<bound method Chain.arun of LLMMathChain(verbose=False, llm_chain=LLMChain(verbose=False, prompt=PromptTemplate(input_variables=['question'], input_types={}, partial_variables={}, template='Translate a math problem into a expression that can be executed using Python\\'s numexpr library. Use the output of running this code to answer the question.\\n\\nQuestion: ${{Question with math problem.}}\\n```text\\n${{single line mathematical expression that solves the problem}}\\n```\\n...numexpr.evaluate(text)...\\n```output\\n${{Output of running the code}}\\n```\\nAnswer: ${{Answer}}\\n\\nBegin.\\n\\nQuestion: What is 37593 * 67?\\n```text\\n37593 * 67\\n```\\n...numexpr.evaluate(\"37593 * 67\")...\\n```output\\n2518731\\n```\\nAnswer: 2518731\\n\\nQuestion: 37593^(1/5)\\n```text\\n37593**(1/5)\\n```\\n...numexpr.evaluate(\"37593**(1/5)\")...\\n```output\\n8.222831614237718\\n```\\nAnswer: 8.222831614237718\\n\\nQuestion: {question}\\n'), llm=ChatOpenAI(client=<openai.resources.chat.completions.completions.Completions object at 0x0000023F03802E40>, async_client=<openai.resources.chat.completions.completions.AsyncCompletions object at 0x0000023F038548F0>, root_client=<openai.OpenAI object at 0x0000023F03800DD0>, root_async_client=<openai.AsyncOpenAI object at 0x0000023F03802E70>, temperature=0.0, model_kwargs={}, openai_api_key=SecretStr('**********')), output_parser=StrOutputParser(), llm_kwargs={}))>),\n",
       " StructuredTool(name='persona_amable', description='Retorna la persona más amable. Se espera que la entrada esté vacía \"\" \\n    y retorna la persona más amable del universo', args_schema=<class 'langchain_core.utils.pydantic.persona_amable'>, func=<function persona_amable at 0x0000023F7ECF18A0>)]"
      ]
     },
     "execution_count": 12,
     "metadata": {},
     "output_type": "execute_result"
    }
   ],
   "source": [
    "tools"
   ]
  },
  {
   "cell_type": "code",
   "execution_count": 13,
   "id": "27d6b117-7c1b-4506-b301-2652218a440d",
   "metadata": {},
   "outputs": [],
   "source": [
    "@tool\n",
    "def nombre_api_interna(text: str) -> str:\n",
    "    '''Conecta a la API_xx que realiza la tarea xx, debes usar esta API Key'''\n",
    "    ##Definir conexión a la API interna y devolver un resultado\n",
    "    return resultado"
   ]
  },
  {
   "cell_type": "code",
   "execution_count": 14,
   "id": "a171a9d3-b726-4e0b-b0c7-8ee3acaf50eb",
   "metadata": {},
   "outputs": [
    {
     "name": "stdout",
     "output_type": "stream",
     "text": [
      "\n",
      "\n",
      "\u001b[1m> Entering new AgentExecutor chain...\u001b[0m\n",
      "\u001b[32;1m\u001b[1;3mI should use the Calculator tool to get the current time.\n",
      "Action: Calculator\n",
      "Action Input: current time\u001b[0m"
     ]
    },
    {
     "ename": "ValueError",
     "evalue": "LLMMathChain._evaluate(\"\ndatetime.now().time()\n\") raised error: Expression datetime.now().time() has forbidden control characters.. Please try again with a valid numerical expression",
     "output_type": "error",
     "traceback": [
      "\u001b[1;31m---------------------------------------------------------------------------\u001b[0m",
      "\u001b[1;31mValueError\u001b[0m                                Traceback (most recent call last)",
      "File \u001b[1;32m~\\AppData\\Roaming\\Python\\Python312\\site-packages\\langchain\\chains\\llm_math\\base.py:207\u001b[0m, in \u001b[0;36mLLMMathChain._evaluate_expression\u001b[1;34m(self, expression)\u001b[0m\n\u001b[0;32m    205\u001b[0m     local_dict \u001b[38;5;241m=\u001b[39m {\u001b[38;5;124m\"\u001b[39m\u001b[38;5;124mpi\u001b[39m\u001b[38;5;124m\"\u001b[39m: math\u001b[38;5;241m.\u001b[39mpi, \u001b[38;5;124m\"\u001b[39m\u001b[38;5;124me\u001b[39m\u001b[38;5;124m\"\u001b[39m: math\u001b[38;5;241m.\u001b[39me}\n\u001b[0;32m    206\u001b[0m     output \u001b[38;5;241m=\u001b[39m \u001b[38;5;28mstr\u001b[39m(\n\u001b[1;32m--> 207\u001b[0m         numexpr\u001b[38;5;241m.\u001b[39mevaluate(\n\u001b[0;32m    208\u001b[0m             expression\u001b[38;5;241m.\u001b[39mstrip(),\n\u001b[0;32m    209\u001b[0m             global_dict\u001b[38;5;241m=\u001b[39m{},  \u001b[38;5;66;03m# restrict access to globals\u001b[39;00m\n\u001b[0;32m    210\u001b[0m             local_dict\u001b[38;5;241m=\u001b[39mlocal_dict,  \u001b[38;5;66;03m# add common mathematical functions\u001b[39;00m\n\u001b[0;32m    211\u001b[0m         )\n\u001b[0;32m    212\u001b[0m     )\n\u001b[0;32m    213\u001b[0m \u001b[38;5;28;01mexcept\u001b[39;00m \u001b[38;5;167;01mException\u001b[39;00m \u001b[38;5;28;01mas\u001b[39;00m e:\n",
      "File \u001b[1;32mC:\\ProgramData\\anaconda3\\Lib\\site-packages\\numexpr\\necompiler.py:975\u001b[0m, in \u001b[0;36mevaluate\u001b[1;34m(ex, local_dict, global_dict, out, order, casting, sanitize, _frame_depth, **kwargs)\u001b[0m\n\u001b[0;32m    974\u001b[0m \u001b[38;5;28;01melse\u001b[39;00m:\n\u001b[1;32m--> 975\u001b[0m     \u001b[38;5;28;01mraise\u001b[39;00m e\n",
      "File \u001b[1;32mC:\\ProgramData\\anaconda3\\Lib\\site-packages\\numexpr\\necompiler.py:872\u001b[0m, in \u001b[0;36mvalidate\u001b[1;34m(ex, local_dict, global_dict, out, order, casting, _frame_depth, sanitize, **kwargs)\u001b[0m\n\u001b[0;32m    871\u001b[0m \u001b[38;5;28;01mif\u001b[39;00m expr_key \u001b[38;5;129;01mnot\u001b[39;00m \u001b[38;5;129;01min\u001b[39;00m _names_cache:\n\u001b[1;32m--> 872\u001b[0m     _names_cache[expr_key] \u001b[38;5;241m=\u001b[39m getExprNames(ex, context, sanitize\u001b[38;5;241m=\u001b[39msanitize)\n\u001b[0;32m    873\u001b[0m names, ex_uses_vml \u001b[38;5;241m=\u001b[39m _names_cache[expr_key]\n",
      "File \u001b[1;32mC:\\ProgramData\\anaconda3\\Lib\\site-packages\\numexpr\\necompiler.py:721\u001b[0m, in \u001b[0;36mgetExprNames\u001b[1;34m(text, context, sanitize)\u001b[0m\n\u001b[0;32m    720\u001b[0m \u001b[38;5;28;01mdef\u001b[39;00m \u001b[38;5;21mgetExprNames\u001b[39m(text, context, sanitize: \u001b[38;5;28mbool\u001b[39m\u001b[38;5;241m=\u001b[39m\u001b[38;5;28;01mTrue\u001b[39;00m):\n\u001b[1;32m--> 721\u001b[0m     ex \u001b[38;5;241m=\u001b[39m stringToExpression(text, {}, context, sanitize)\n\u001b[0;32m    722\u001b[0m     ast \u001b[38;5;241m=\u001b[39m expressionToAST(ex)\n",
      "File \u001b[1;32mC:\\ProgramData\\anaconda3\\Lib\\site-packages\\numexpr\\necompiler.py:281\u001b[0m, in \u001b[0;36mstringToExpression\u001b[1;34m(s, types, context, sanitize)\u001b[0m\n\u001b[0;32m    280\u001b[0m     \u001b[38;5;28;01mif\u001b[39;00m _blacklist_re\u001b[38;5;241m.\u001b[39msearch(no_whitespace) \u001b[38;5;129;01mis\u001b[39;00m \u001b[38;5;129;01mnot\u001b[39;00m \u001b[38;5;28;01mNone\u001b[39;00m:\n\u001b[1;32m--> 281\u001b[0m         \u001b[38;5;28;01mraise\u001b[39;00m \u001b[38;5;167;01mValueError\u001b[39;00m(\u001b[38;5;124mf\u001b[39m\u001b[38;5;124m'\u001b[39m\u001b[38;5;124mExpression \u001b[39m\u001b[38;5;132;01m{\u001b[39;00ms\u001b[38;5;132;01m}\u001b[39;00m\u001b[38;5;124m has forbidden control characters.\u001b[39m\u001b[38;5;124m'\u001b[39m)\n\u001b[0;32m    283\u001b[0m old_ctx \u001b[38;5;241m=\u001b[39m expressions\u001b[38;5;241m.\u001b[39m_context\u001b[38;5;241m.\u001b[39mget_current_context()\n",
      "\u001b[1;31mValueError\u001b[0m: Expression datetime.now().time() has forbidden control characters.",
      "\nDuring handling of the above exception, another exception occurred:\n",
      "\u001b[1;31mValueError\u001b[0m                                Traceback (most recent call last)",
      "Cell \u001b[1;32mIn[14], line 2\u001b[0m\n\u001b[0;32m      1\u001b[0m \u001b[38;5;66;03m# Solicitud con las herramientas actuales no proporciona el resultado que queremos\u001b[39;00m\n\u001b[1;32m----> 2\u001b[0m agent\u001b[38;5;241m.\u001b[39minvoke(\u001b[38;5;124m\"\u001b[39m\u001b[38;5;124m¿Cuál es la hora actual?\u001b[39m\u001b[38;5;124m\"\u001b[39m)\n",
      "File \u001b[1;32m~\\AppData\\Roaming\\Python\\Python312\\site-packages\\langchain\\chains\\base.py:170\u001b[0m, in \u001b[0;36mChain.invoke\u001b[1;34m(self, input, config, **kwargs)\u001b[0m\n\u001b[0;32m    168\u001b[0m \u001b[38;5;28;01mexcept\u001b[39;00m \u001b[38;5;167;01mBaseException\u001b[39;00m \u001b[38;5;28;01mas\u001b[39;00m e:\n\u001b[0;32m    169\u001b[0m     run_manager\u001b[38;5;241m.\u001b[39mon_chain_error(e)\n\u001b[1;32m--> 170\u001b[0m     \u001b[38;5;28;01mraise\u001b[39;00m e\n\u001b[0;32m    171\u001b[0m run_manager\u001b[38;5;241m.\u001b[39mon_chain_end(outputs)\n\u001b[0;32m    173\u001b[0m \u001b[38;5;28;01mif\u001b[39;00m include_run_info:\n",
      "File \u001b[1;32m~\\AppData\\Roaming\\Python\\Python312\\site-packages\\langchain\\chains\\base.py:160\u001b[0m, in \u001b[0;36mChain.invoke\u001b[1;34m(self, input, config, **kwargs)\u001b[0m\n\u001b[0;32m    157\u001b[0m \u001b[38;5;28;01mtry\u001b[39;00m:\n\u001b[0;32m    158\u001b[0m     \u001b[38;5;28mself\u001b[39m\u001b[38;5;241m.\u001b[39m_validate_inputs(inputs)\n\u001b[0;32m    159\u001b[0m     outputs \u001b[38;5;241m=\u001b[39m (\n\u001b[1;32m--> 160\u001b[0m         \u001b[38;5;28mself\u001b[39m\u001b[38;5;241m.\u001b[39m_call(inputs, run_manager\u001b[38;5;241m=\u001b[39mrun_manager)\n\u001b[0;32m    161\u001b[0m         \u001b[38;5;28;01mif\u001b[39;00m new_arg_supported\n\u001b[0;32m    162\u001b[0m         \u001b[38;5;28;01melse\u001b[39;00m \u001b[38;5;28mself\u001b[39m\u001b[38;5;241m.\u001b[39m_call(inputs)\n\u001b[0;32m    163\u001b[0m     )\n\u001b[0;32m    165\u001b[0m     final_outputs: Dict[\u001b[38;5;28mstr\u001b[39m, Any] \u001b[38;5;241m=\u001b[39m \u001b[38;5;28mself\u001b[39m\u001b[38;5;241m.\u001b[39mprep_outputs(\n\u001b[0;32m    166\u001b[0m         inputs, outputs, return_only_outputs\n\u001b[0;32m    167\u001b[0m     )\n\u001b[0;32m    168\u001b[0m \u001b[38;5;28;01mexcept\u001b[39;00m \u001b[38;5;167;01mBaseException\u001b[39;00m \u001b[38;5;28;01mas\u001b[39;00m e:\n",
      "File \u001b[1;32m~\\AppData\\Roaming\\Python\\Python312\\site-packages\\langchain\\agents\\agent.py:1624\u001b[0m, in \u001b[0;36mAgentExecutor._call\u001b[1;34m(self, inputs, run_manager)\u001b[0m\n\u001b[0;32m   1622\u001b[0m \u001b[38;5;66;03m# We now enter the agent loop (until it returns something).\u001b[39;00m\n\u001b[0;32m   1623\u001b[0m \u001b[38;5;28;01mwhile\u001b[39;00m \u001b[38;5;28mself\u001b[39m\u001b[38;5;241m.\u001b[39m_should_continue(iterations, time_elapsed):\n\u001b[1;32m-> 1624\u001b[0m     next_step_output \u001b[38;5;241m=\u001b[39m \u001b[38;5;28mself\u001b[39m\u001b[38;5;241m.\u001b[39m_take_next_step(\n\u001b[0;32m   1625\u001b[0m         name_to_tool_map,\n\u001b[0;32m   1626\u001b[0m         color_mapping,\n\u001b[0;32m   1627\u001b[0m         inputs,\n\u001b[0;32m   1628\u001b[0m         intermediate_steps,\n\u001b[0;32m   1629\u001b[0m         run_manager\u001b[38;5;241m=\u001b[39mrun_manager,\n\u001b[0;32m   1630\u001b[0m     )\n\u001b[0;32m   1631\u001b[0m     \u001b[38;5;28;01mif\u001b[39;00m \u001b[38;5;28misinstance\u001b[39m(next_step_output, AgentFinish):\n\u001b[0;32m   1632\u001b[0m         \u001b[38;5;28;01mreturn\u001b[39;00m \u001b[38;5;28mself\u001b[39m\u001b[38;5;241m.\u001b[39m_return(\n\u001b[0;32m   1633\u001b[0m             next_step_output, intermediate_steps, run_manager\u001b[38;5;241m=\u001b[39mrun_manager\n\u001b[0;32m   1634\u001b[0m         )\n",
      "File \u001b[1;32m~\\AppData\\Roaming\\Python\\Python312\\site-packages\\langchain\\agents\\agent.py:1332\u001b[0m, in \u001b[0;36mAgentExecutor._take_next_step\u001b[1;34m(self, name_to_tool_map, color_mapping, inputs, intermediate_steps, run_manager)\u001b[0m\n\u001b[0;32m   1321\u001b[0m \u001b[38;5;28;01mdef\u001b[39;00m \u001b[38;5;21m_take_next_step\u001b[39m(\n\u001b[0;32m   1322\u001b[0m     \u001b[38;5;28mself\u001b[39m,\n\u001b[0;32m   1323\u001b[0m     name_to_tool_map: Dict[\u001b[38;5;28mstr\u001b[39m, BaseTool],\n\u001b[1;32m   (...)\u001b[0m\n\u001b[0;32m   1327\u001b[0m     run_manager: Optional[CallbackManagerForChainRun] \u001b[38;5;241m=\u001b[39m \u001b[38;5;28;01mNone\u001b[39;00m,\n\u001b[0;32m   1328\u001b[0m ) \u001b[38;5;241m-\u001b[39m\u001b[38;5;241m>\u001b[39m Union[AgentFinish, List[Tuple[AgentAction, \u001b[38;5;28mstr\u001b[39m]]]:\n\u001b[0;32m   1329\u001b[0m     \u001b[38;5;28;01mreturn\u001b[39;00m \u001b[38;5;28mself\u001b[39m\u001b[38;5;241m.\u001b[39m_consume_next_step(\n\u001b[0;32m   1330\u001b[0m         [\n\u001b[0;32m   1331\u001b[0m             a\n\u001b[1;32m-> 1332\u001b[0m             \u001b[38;5;28;01mfor\u001b[39;00m a \u001b[38;5;129;01min\u001b[39;00m \u001b[38;5;28mself\u001b[39m\u001b[38;5;241m.\u001b[39m_iter_next_step(\n\u001b[0;32m   1333\u001b[0m                 name_to_tool_map,\n\u001b[0;32m   1334\u001b[0m                 color_mapping,\n\u001b[0;32m   1335\u001b[0m                 inputs,\n\u001b[0;32m   1336\u001b[0m                 intermediate_steps,\n\u001b[0;32m   1337\u001b[0m                 run_manager,\n\u001b[0;32m   1338\u001b[0m             )\n\u001b[0;32m   1339\u001b[0m         ]\n\u001b[0;32m   1340\u001b[0m     )\n",
      "File \u001b[1;32m~\\AppData\\Roaming\\Python\\Python312\\site-packages\\langchain\\agents\\agent.py:1415\u001b[0m, in \u001b[0;36mAgentExecutor._iter_next_step\u001b[1;34m(self, name_to_tool_map, color_mapping, inputs, intermediate_steps, run_manager)\u001b[0m\n\u001b[0;32m   1413\u001b[0m     \u001b[38;5;28;01myield\u001b[39;00m agent_action\n\u001b[0;32m   1414\u001b[0m \u001b[38;5;28;01mfor\u001b[39;00m agent_action \u001b[38;5;129;01min\u001b[39;00m actions:\n\u001b[1;32m-> 1415\u001b[0m     \u001b[38;5;28;01myield\u001b[39;00m \u001b[38;5;28mself\u001b[39m\u001b[38;5;241m.\u001b[39m_perform_agent_action(\n\u001b[0;32m   1416\u001b[0m         name_to_tool_map, color_mapping, agent_action, run_manager\n\u001b[0;32m   1417\u001b[0m     )\n",
      "File \u001b[1;32m~\\AppData\\Roaming\\Python\\Python312\\site-packages\\langchain\\agents\\agent.py:1437\u001b[0m, in \u001b[0;36mAgentExecutor._perform_agent_action\u001b[1;34m(self, name_to_tool_map, color_mapping, agent_action, run_manager)\u001b[0m\n\u001b[0;32m   1435\u001b[0m         tool_run_kwargs[\u001b[38;5;124m\"\u001b[39m\u001b[38;5;124mllm_prefix\u001b[39m\u001b[38;5;124m\"\u001b[39m] \u001b[38;5;241m=\u001b[39m \u001b[38;5;124m\"\u001b[39m\u001b[38;5;124m\"\u001b[39m\n\u001b[0;32m   1436\u001b[0m     \u001b[38;5;66;03m# We then call the tool on the tool input to get an observation\u001b[39;00m\n\u001b[1;32m-> 1437\u001b[0m     observation \u001b[38;5;241m=\u001b[39m tool\u001b[38;5;241m.\u001b[39mrun(\n\u001b[0;32m   1438\u001b[0m         agent_action\u001b[38;5;241m.\u001b[39mtool_input,\n\u001b[0;32m   1439\u001b[0m         verbose\u001b[38;5;241m=\u001b[39m\u001b[38;5;28mself\u001b[39m\u001b[38;5;241m.\u001b[39mverbose,\n\u001b[0;32m   1440\u001b[0m         color\u001b[38;5;241m=\u001b[39mcolor,\n\u001b[0;32m   1441\u001b[0m         callbacks\u001b[38;5;241m=\u001b[39mrun_manager\u001b[38;5;241m.\u001b[39mget_child() \u001b[38;5;28;01mif\u001b[39;00m run_manager \u001b[38;5;28;01melse\u001b[39;00m \u001b[38;5;28;01mNone\u001b[39;00m,\n\u001b[0;32m   1442\u001b[0m         \u001b[38;5;241m*\u001b[39m\u001b[38;5;241m*\u001b[39mtool_run_kwargs,\n\u001b[0;32m   1443\u001b[0m     )\n\u001b[0;32m   1444\u001b[0m \u001b[38;5;28;01melse\u001b[39;00m:\n\u001b[0;32m   1445\u001b[0m     tool_run_kwargs \u001b[38;5;241m=\u001b[39m \u001b[38;5;28mself\u001b[39m\u001b[38;5;241m.\u001b[39m_action_agent\u001b[38;5;241m.\u001b[39mtool_run_logging_kwargs()\n",
      "File \u001b[1;32m~\\AppData\\Roaming\\Python\\Python312\\site-packages\\langchain_core\\tools\\base.py:763\u001b[0m, in \u001b[0;36mBaseTool.run\u001b[1;34m(self, tool_input, verbose, start_color, color, callbacks, tags, metadata, run_name, run_id, config, tool_call_id, **kwargs)\u001b[0m\n\u001b[0;32m    761\u001b[0m \u001b[38;5;28;01mif\u001b[39;00m error_to_raise:\n\u001b[0;32m    762\u001b[0m     run_manager\u001b[38;5;241m.\u001b[39mon_tool_error(error_to_raise)\n\u001b[1;32m--> 763\u001b[0m     \u001b[38;5;28;01mraise\u001b[39;00m error_to_raise\n\u001b[0;32m    764\u001b[0m output \u001b[38;5;241m=\u001b[39m _format_output(content, artifact, tool_call_id, \u001b[38;5;28mself\u001b[39m\u001b[38;5;241m.\u001b[39mname, status)\n\u001b[0;32m    765\u001b[0m run_manager\u001b[38;5;241m.\u001b[39mon_tool_end(output, color\u001b[38;5;241m=\u001b[39mcolor, name\u001b[38;5;241m=\u001b[39m\u001b[38;5;28mself\u001b[39m\u001b[38;5;241m.\u001b[39mname, \u001b[38;5;241m*\u001b[39m\u001b[38;5;241m*\u001b[39mkwargs)\n",
      "File \u001b[1;32m~\\AppData\\Roaming\\Python\\Python312\\site-packages\\langchain_core\\tools\\base.py:732\u001b[0m, in \u001b[0;36mBaseTool.run\u001b[1;34m(self, tool_input, verbose, start_color, color, callbacks, tags, metadata, run_name, run_id, config, tool_call_id, **kwargs)\u001b[0m\n\u001b[0;32m    730\u001b[0m \u001b[38;5;28;01mif\u001b[39;00m config_param \u001b[38;5;241m:=\u001b[39m _get_runnable_config_param(\u001b[38;5;28mself\u001b[39m\u001b[38;5;241m.\u001b[39m_run):\n\u001b[0;32m    731\u001b[0m     tool_kwargs \u001b[38;5;241m=\u001b[39m tool_kwargs \u001b[38;5;241m|\u001b[39m {config_param: config}\n\u001b[1;32m--> 732\u001b[0m response \u001b[38;5;241m=\u001b[39m context\u001b[38;5;241m.\u001b[39mrun(\u001b[38;5;28mself\u001b[39m\u001b[38;5;241m.\u001b[39m_run, \u001b[38;5;241m*\u001b[39mtool_args, \u001b[38;5;241m*\u001b[39m\u001b[38;5;241m*\u001b[39mtool_kwargs)\n\u001b[0;32m    733\u001b[0m \u001b[38;5;28;01mif\u001b[39;00m \u001b[38;5;28mself\u001b[39m\u001b[38;5;241m.\u001b[39mresponse_format \u001b[38;5;241m==\u001b[39m \u001b[38;5;124m\"\u001b[39m\u001b[38;5;124mcontent_and_artifact\u001b[39m\u001b[38;5;124m\"\u001b[39m:\n\u001b[0;32m    734\u001b[0m     \u001b[38;5;28;01mif\u001b[39;00m \u001b[38;5;129;01mnot\u001b[39;00m \u001b[38;5;28misinstance\u001b[39m(response, \u001b[38;5;28mtuple\u001b[39m) \u001b[38;5;129;01mor\u001b[39;00m \u001b[38;5;28mlen\u001b[39m(response) \u001b[38;5;241m!=\u001b[39m \u001b[38;5;241m2\u001b[39m:\n",
      "File \u001b[1;32m~\\AppData\\Roaming\\Python\\Python312\\site-packages\\langchain_core\\tools\\simple.py:100\u001b[0m, in \u001b[0;36mTool._run\u001b[1;34m(self, config, run_manager, *args, **kwargs)\u001b[0m\n\u001b[0;32m     98\u001b[0m     \u001b[38;5;28;01mif\u001b[39;00m config_param \u001b[38;5;241m:=\u001b[39m _get_runnable_config_param(\u001b[38;5;28mself\u001b[39m\u001b[38;5;241m.\u001b[39mfunc):\n\u001b[0;32m     99\u001b[0m         kwargs[config_param] \u001b[38;5;241m=\u001b[39m config\n\u001b[1;32m--> 100\u001b[0m     \u001b[38;5;28;01mreturn\u001b[39;00m \u001b[38;5;28mself\u001b[39m\u001b[38;5;241m.\u001b[39mfunc(\u001b[38;5;241m*\u001b[39margs, \u001b[38;5;241m*\u001b[39m\u001b[38;5;241m*\u001b[39mkwargs)\n\u001b[0;32m    101\u001b[0m msg \u001b[38;5;241m=\u001b[39m \u001b[38;5;124m\"\u001b[39m\u001b[38;5;124mTool does not support sync invocation.\u001b[39m\u001b[38;5;124m\"\u001b[39m\n\u001b[0;32m    102\u001b[0m \u001b[38;5;28;01mraise\u001b[39;00m \u001b[38;5;167;01mNotImplementedError\u001b[39;00m(msg)\n",
      "File \u001b[1;32m~\\AppData\\Roaming\\Python\\Python312\\site-packages\\langchain_core\\_api\\deprecation.py:181\u001b[0m, in \u001b[0;36mdeprecated.<locals>.deprecate.<locals>.warning_emitting_wrapper\u001b[1;34m(*args, **kwargs)\u001b[0m\n\u001b[0;32m    179\u001b[0m     warned \u001b[38;5;241m=\u001b[39m \u001b[38;5;28;01mTrue\u001b[39;00m\n\u001b[0;32m    180\u001b[0m     emit_warning()\n\u001b[1;32m--> 181\u001b[0m \u001b[38;5;28;01mreturn\u001b[39;00m wrapped(\u001b[38;5;241m*\u001b[39margs, \u001b[38;5;241m*\u001b[39m\u001b[38;5;241m*\u001b[39mkwargs)\n",
      "File \u001b[1;32m~\\AppData\\Roaming\\Python\\Python312\\site-packages\\langchain\\chains\\base.py:606\u001b[0m, in \u001b[0;36mChain.run\u001b[1;34m(self, callbacks, tags, metadata, *args, **kwargs)\u001b[0m\n\u001b[0;32m    604\u001b[0m     \u001b[38;5;28;01mif\u001b[39;00m \u001b[38;5;28mlen\u001b[39m(args) \u001b[38;5;241m!=\u001b[39m \u001b[38;5;241m1\u001b[39m:\n\u001b[0;32m    605\u001b[0m         \u001b[38;5;28;01mraise\u001b[39;00m \u001b[38;5;167;01mValueError\u001b[39;00m(\u001b[38;5;124m\"\u001b[39m\u001b[38;5;124m`run` supports only one positional argument.\u001b[39m\u001b[38;5;124m\"\u001b[39m)\n\u001b[1;32m--> 606\u001b[0m     \u001b[38;5;28;01mreturn\u001b[39;00m \u001b[38;5;28mself\u001b[39m(args[\u001b[38;5;241m0\u001b[39m], callbacks\u001b[38;5;241m=\u001b[39mcallbacks, tags\u001b[38;5;241m=\u001b[39mtags, metadata\u001b[38;5;241m=\u001b[39mmetadata)[\n\u001b[0;32m    607\u001b[0m         _output_key\n\u001b[0;32m    608\u001b[0m     ]\n\u001b[0;32m    610\u001b[0m \u001b[38;5;28;01mif\u001b[39;00m kwargs \u001b[38;5;129;01mand\u001b[39;00m \u001b[38;5;129;01mnot\u001b[39;00m args:\n\u001b[0;32m    611\u001b[0m     \u001b[38;5;28;01mreturn\u001b[39;00m \u001b[38;5;28mself\u001b[39m(kwargs, callbacks\u001b[38;5;241m=\u001b[39mcallbacks, tags\u001b[38;5;241m=\u001b[39mtags, metadata\u001b[38;5;241m=\u001b[39mmetadata)[\n\u001b[0;32m    612\u001b[0m         _output_key\n\u001b[0;32m    613\u001b[0m     ]\n",
      "File \u001b[1;32m~\\AppData\\Roaming\\Python\\Python312\\site-packages\\langchain_core\\_api\\deprecation.py:181\u001b[0m, in \u001b[0;36mdeprecated.<locals>.deprecate.<locals>.warning_emitting_wrapper\u001b[1;34m(*args, **kwargs)\u001b[0m\n\u001b[0;32m    179\u001b[0m     warned \u001b[38;5;241m=\u001b[39m \u001b[38;5;28;01mTrue\u001b[39;00m\n\u001b[0;32m    180\u001b[0m     emit_warning()\n\u001b[1;32m--> 181\u001b[0m \u001b[38;5;28;01mreturn\u001b[39;00m wrapped(\u001b[38;5;241m*\u001b[39margs, \u001b[38;5;241m*\u001b[39m\u001b[38;5;241m*\u001b[39mkwargs)\n",
      "File \u001b[1;32m~\\AppData\\Roaming\\Python\\Python312\\site-packages\\langchain\\chains\\base.py:389\u001b[0m, in \u001b[0;36mChain.__call__\u001b[1;34m(self, inputs, return_only_outputs, callbacks, tags, metadata, run_name, include_run_info)\u001b[0m\n\u001b[0;32m    357\u001b[0m \u001b[38;5;250m\u001b[39m\u001b[38;5;124;03m\"\"\"Execute the chain.\u001b[39;00m\n\u001b[0;32m    358\u001b[0m \n\u001b[0;32m    359\u001b[0m \u001b[38;5;124;03mArgs:\u001b[39;00m\n\u001b[1;32m   (...)\u001b[0m\n\u001b[0;32m    380\u001b[0m \u001b[38;5;124;03m        `Chain.output_keys`.\u001b[39;00m\n\u001b[0;32m    381\u001b[0m \u001b[38;5;124;03m\"\"\"\u001b[39;00m\n\u001b[0;32m    382\u001b[0m config \u001b[38;5;241m=\u001b[39m {\n\u001b[0;32m    383\u001b[0m     \u001b[38;5;124m\"\u001b[39m\u001b[38;5;124mcallbacks\u001b[39m\u001b[38;5;124m\"\u001b[39m: callbacks,\n\u001b[0;32m    384\u001b[0m     \u001b[38;5;124m\"\u001b[39m\u001b[38;5;124mtags\u001b[39m\u001b[38;5;124m\"\u001b[39m: tags,\n\u001b[0;32m    385\u001b[0m     \u001b[38;5;124m\"\u001b[39m\u001b[38;5;124mmetadata\u001b[39m\u001b[38;5;124m\"\u001b[39m: metadata,\n\u001b[0;32m    386\u001b[0m     \u001b[38;5;124m\"\u001b[39m\u001b[38;5;124mrun_name\u001b[39m\u001b[38;5;124m\"\u001b[39m: run_name,\n\u001b[0;32m    387\u001b[0m }\n\u001b[1;32m--> 389\u001b[0m \u001b[38;5;28;01mreturn\u001b[39;00m \u001b[38;5;28mself\u001b[39m\u001b[38;5;241m.\u001b[39minvoke(\n\u001b[0;32m    390\u001b[0m     inputs,\n\u001b[0;32m    391\u001b[0m     cast(RunnableConfig, {k: v \u001b[38;5;28;01mfor\u001b[39;00m k, v \u001b[38;5;129;01min\u001b[39;00m config\u001b[38;5;241m.\u001b[39mitems() \u001b[38;5;28;01mif\u001b[39;00m v \u001b[38;5;129;01mis\u001b[39;00m \u001b[38;5;129;01mnot\u001b[39;00m \u001b[38;5;28;01mNone\u001b[39;00m}),\n\u001b[0;32m    392\u001b[0m     return_only_outputs\u001b[38;5;241m=\u001b[39mreturn_only_outputs,\n\u001b[0;32m    393\u001b[0m     include_run_info\u001b[38;5;241m=\u001b[39minclude_run_info,\n\u001b[0;32m    394\u001b[0m )\n",
      "File \u001b[1;32m~\\AppData\\Roaming\\Python\\Python312\\site-packages\\langchain\\chains\\base.py:170\u001b[0m, in \u001b[0;36mChain.invoke\u001b[1;34m(self, input, config, **kwargs)\u001b[0m\n\u001b[0;32m    168\u001b[0m \u001b[38;5;28;01mexcept\u001b[39;00m \u001b[38;5;167;01mBaseException\u001b[39;00m \u001b[38;5;28;01mas\u001b[39;00m e:\n\u001b[0;32m    169\u001b[0m     run_manager\u001b[38;5;241m.\u001b[39mon_chain_error(e)\n\u001b[1;32m--> 170\u001b[0m     \u001b[38;5;28;01mraise\u001b[39;00m e\n\u001b[0;32m    171\u001b[0m run_manager\u001b[38;5;241m.\u001b[39mon_chain_end(outputs)\n\u001b[0;32m    173\u001b[0m \u001b[38;5;28;01mif\u001b[39;00m include_run_info:\n",
      "File \u001b[1;32m~\\AppData\\Roaming\\Python\\Python312\\site-packages\\langchain\\chains\\base.py:160\u001b[0m, in \u001b[0;36mChain.invoke\u001b[1;34m(self, input, config, **kwargs)\u001b[0m\n\u001b[0;32m    157\u001b[0m \u001b[38;5;28;01mtry\u001b[39;00m:\n\u001b[0;32m    158\u001b[0m     \u001b[38;5;28mself\u001b[39m\u001b[38;5;241m.\u001b[39m_validate_inputs(inputs)\n\u001b[0;32m    159\u001b[0m     outputs \u001b[38;5;241m=\u001b[39m (\n\u001b[1;32m--> 160\u001b[0m         \u001b[38;5;28mself\u001b[39m\u001b[38;5;241m.\u001b[39m_call(inputs, run_manager\u001b[38;5;241m=\u001b[39mrun_manager)\n\u001b[0;32m    161\u001b[0m         \u001b[38;5;28;01mif\u001b[39;00m new_arg_supported\n\u001b[0;32m    162\u001b[0m         \u001b[38;5;28;01melse\u001b[39;00m \u001b[38;5;28mself\u001b[39m\u001b[38;5;241m.\u001b[39m_call(inputs)\n\u001b[0;32m    163\u001b[0m     )\n\u001b[0;32m    165\u001b[0m     final_outputs: Dict[\u001b[38;5;28mstr\u001b[39m, Any] \u001b[38;5;241m=\u001b[39m \u001b[38;5;28mself\u001b[39m\u001b[38;5;241m.\u001b[39mprep_outputs(\n\u001b[0;32m    166\u001b[0m         inputs, outputs, return_only_outputs\n\u001b[0;32m    167\u001b[0m     )\n\u001b[0;32m    168\u001b[0m \u001b[38;5;28;01mexcept\u001b[39;00m \u001b[38;5;167;01mBaseException\u001b[39;00m \u001b[38;5;28;01mas\u001b[39;00m e:\n",
      "File \u001b[1;32m~\\AppData\\Roaming\\Python\\Python312\\site-packages\\langchain\\chains\\llm_math\\base.py:276\u001b[0m, in \u001b[0;36mLLMMathChain._call\u001b[1;34m(self, inputs, run_manager)\u001b[0m\n\u001b[0;32m    270\u001b[0m _run_manager\u001b[38;5;241m.\u001b[39mon_text(inputs[\u001b[38;5;28mself\u001b[39m\u001b[38;5;241m.\u001b[39minput_key])\n\u001b[0;32m    271\u001b[0m llm_output \u001b[38;5;241m=\u001b[39m \u001b[38;5;28mself\u001b[39m\u001b[38;5;241m.\u001b[39mllm_chain\u001b[38;5;241m.\u001b[39mpredict(\n\u001b[0;32m    272\u001b[0m     question\u001b[38;5;241m=\u001b[39minputs[\u001b[38;5;28mself\u001b[39m\u001b[38;5;241m.\u001b[39minput_key],\n\u001b[0;32m    273\u001b[0m     stop\u001b[38;5;241m=\u001b[39m[\u001b[38;5;124m\"\u001b[39m\u001b[38;5;124m```output\u001b[39m\u001b[38;5;124m\"\u001b[39m],\n\u001b[0;32m    274\u001b[0m     callbacks\u001b[38;5;241m=\u001b[39m_run_manager\u001b[38;5;241m.\u001b[39mget_child(),\n\u001b[0;32m    275\u001b[0m )\n\u001b[1;32m--> 276\u001b[0m \u001b[38;5;28;01mreturn\u001b[39;00m \u001b[38;5;28mself\u001b[39m\u001b[38;5;241m.\u001b[39m_process_llm_result(llm_output, _run_manager)\n",
      "File \u001b[1;32m~\\AppData\\Roaming\\Python\\Python312\\site-packages\\langchain\\chains\\llm_math\\base.py:230\u001b[0m, in \u001b[0;36mLLMMathChain._process_llm_result\u001b[1;34m(self, llm_output, run_manager)\u001b[0m\n\u001b[0;32m    228\u001b[0m \u001b[38;5;28;01mif\u001b[39;00m text_match:\n\u001b[0;32m    229\u001b[0m     expression \u001b[38;5;241m=\u001b[39m text_match\u001b[38;5;241m.\u001b[39mgroup(\u001b[38;5;241m1\u001b[39m)\n\u001b[1;32m--> 230\u001b[0m     output \u001b[38;5;241m=\u001b[39m \u001b[38;5;28mself\u001b[39m\u001b[38;5;241m.\u001b[39m_evaluate_expression(expression)\n\u001b[0;32m    231\u001b[0m     run_manager\u001b[38;5;241m.\u001b[39mon_text(\u001b[38;5;124m\"\u001b[39m\u001b[38;5;130;01m\\n\u001b[39;00m\u001b[38;5;124mAnswer: \u001b[39m\u001b[38;5;124m\"\u001b[39m, verbose\u001b[38;5;241m=\u001b[39m\u001b[38;5;28mself\u001b[39m\u001b[38;5;241m.\u001b[39mverbose)\n\u001b[0;32m    232\u001b[0m     run_manager\u001b[38;5;241m.\u001b[39mon_text(output, color\u001b[38;5;241m=\u001b[39m\u001b[38;5;124m\"\u001b[39m\u001b[38;5;124myellow\u001b[39m\u001b[38;5;124m\"\u001b[39m, verbose\u001b[38;5;241m=\u001b[39m\u001b[38;5;28mself\u001b[39m\u001b[38;5;241m.\u001b[39mverbose)\n",
      "File \u001b[1;32m~\\AppData\\Roaming\\Python\\Python312\\site-packages\\langchain\\chains\\llm_math\\base.py:214\u001b[0m, in \u001b[0;36mLLMMathChain._evaluate_expression\u001b[1;34m(self, expression)\u001b[0m\n\u001b[0;32m    206\u001b[0m     output \u001b[38;5;241m=\u001b[39m \u001b[38;5;28mstr\u001b[39m(\n\u001b[0;32m    207\u001b[0m         numexpr\u001b[38;5;241m.\u001b[39mevaluate(\n\u001b[0;32m    208\u001b[0m             expression\u001b[38;5;241m.\u001b[39mstrip(),\n\u001b[1;32m   (...)\u001b[0m\n\u001b[0;32m    211\u001b[0m         )\n\u001b[0;32m    212\u001b[0m     )\n\u001b[0;32m    213\u001b[0m \u001b[38;5;28;01mexcept\u001b[39;00m \u001b[38;5;167;01mException\u001b[39;00m \u001b[38;5;28;01mas\u001b[39;00m e:\n\u001b[1;32m--> 214\u001b[0m     \u001b[38;5;28;01mraise\u001b[39;00m \u001b[38;5;167;01mValueError\u001b[39;00m(\n\u001b[0;32m    215\u001b[0m         \u001b[38;5;124mf\u001b[39m\u001b[38;5;124m'\u001b[39m\u001b[38;5;124mLLMMathChain._evaluate(\u001b[39m\u001b[38;5;124m\"\u001b[39m\u001b[38;5;132;01m{\u001b[39;00mexpression\u001b[38;5;132;01m}\u001b[39;00m\u001b[38;5;124m\"\u001b[39m\u001b[38;5;124m) raised error: \u001b[39m\u001b[38;5;132;01m{\u001b[39;00me\u001b[38;5;132;01m}\u001b[39;00m\u001b[38;5;124m.\u001b[39m\u001b[38;5;124m'\u001b[39m\n\u001b[0;32m    216\u001b[0m         \u001b[38;5;124m\"\u001b[39m\u001b[38;5;124m Please try again with a valid numerical expression\u001b[39m\u001b[38;5;124m\"\u001b[39m\n\u001b[0;32m    217\u001b[0m     )\n\u001b[0;32m    219\u001b[0m \u001b[38;5;66;03m# Remove any leading and trailing brackets from the output\u001b[39;00m\n\u001b[0;32m    220\u001b[0m \u001b[38;5;28;01mreturn\u001b[39;00m re\u001b[38;5;241m.\u001b[39msub(\u001b[38;5;124mr\u001b[39m\u001b[38;5;124m\"\u001b[39m\u001b[38;5;124m^\u001b[39m\u001b[38;5;124m\\\u001b[39m\u001b[38;5;124m[|\u001b[39m\u001b[38;5;124m\\\u001b[39m\u001b[38;5;124m]$\u001b[39m\u001b[38;5;124m\"\u001b[39m, \u001b[38;5;124m\"\u001b[39m\u001b[38;5;124m\"\u001b[39m, output)\n",
      "\u001b[1;31mValueError\u001b[0m: LLMMathChain._evaluate(\"\ndatetime.now().time()\n\") raised error: Expression datetime.now().time() has forbidden control characters.. Please try again with a valid numerical expression"
     ]
    }
   ],
   "source": [
    "# Solicitud con las herramientas actuales no proporciona el resultado que queremos\n",
    "agent.invoke(\"¿Cuál es la hora actual?\")"
   ]
  },
  {
   "cell_type": "code",
   "execution_count": 15,
   "id": "e4470299-0872-4c6f-8480-1cfb3e774b7c",
   "metadata": {},
   "outputs": [],
   "source": [
    "from datetime import datetime"
   ]
  },
  {
   "cell_type": "code",
   "execution_count": 16,
   "id": "c8132efc-f516-4041-9fc9-13f1e8e23309",
   "metadata": {},
   "outputs": [],
   "source": [
    "@tool\n",
    "def hora_actual(text: str)->str:\n",
    "    '''Retorna la hora actual, debes usar esta función para cualquier consulta sobre la hora actual. Para fechas que no sean\n",
    "    la hora actual, debes usar otra herramienta. La entrada está vacía y la salida retorna una string'''\n",
    "    return str(datetime.now())"
   ]
  },
  {
   "cell_type": "code",
   "execution_count": 17,
   "id": "1e2e62fc-e2ba-459f-9957-a63d491a465c",
   "metadata": {},
   "outputs": [],
   "source": [
    "tools = tools + [hora_actual]"
   ]
  },
  {
   "cell_type": "code",
   "execution_count": 18,
   "id": "ab92be57-8d73-480a-a108-5e891b3521c3",
   "metadata": {},
   "outputs": [
    {
     "data": {
      "text/plain": [
       "[WikipediaQueryRun(api_wrapper=WikipediaAPIWrapper(wiki_client=<module 'wikipedia' from 'C:\\\\Users\\\\jmanchego\\\\AppData\\\\Roaming\\\\Python\\\\Python312\\\\site-packages\\\\wikipedia\\\\__init__.py'>, top_k_results=3, lang='en', load_all_available_meta=False, doc_content_chars_max=4000)),\n",
       " Tool(name='Calculator', description='Useful for when you need to answer questions about math.', func=<bound method Chain.run of LLMMathChain(verbose=False, llm_chain=LLMChain(verbose=False, prompt=PromptTemplate(input_variables=['question'], input_types={}, partial_variables={}, template='Translate a math problem into a expression that can be executed using Python\\'s numexpr library. Use the output of running this code to answer the question.\\n\\nQuestion: ${{Question with math problem.}}\\n```text\\n${{single line mathematical expression that solves the problem}}\\n```\\n...numexpr.evaluate(text)...\\n```output\\n${{Output of running the code}}\\n```\\nAnswer: ${{Answer}}\\n\\nBegin.\\n\\nQuestion: What is 37593 * 67?\\n```text\\n37593 * 67\\n```\\n...numexpr.evaluate(\"37593 * 67\")...\\n```output\\n2518731\\n```\\nAnswer: 2518731\\n\\nQuestion: 37593^(1/5)\\n```text\\n37593**(1/5)\\n```\\n...numexpr.evaluate(\"37593**(1/5)\")...\\n```output\\n8.222831614237718\\n```\\nAnswer: 8.222831614237718\\n\\nQuestion: {question}\\n'), llm=ChatOpenAI(client=<openai.resources.chat.completions.completions.Completions object at 0x0000023F03802E40>, async_client=<openai.resources.chat.completions.completions.AsyncCompletions object at 0x0000023F038548F0>, root_client=<openai.OpenAI object at 0x0000023F03800DD0>, root_async_client=<openai.AsyncOpenAI object at 0x0000023F03802E70>, temperature=0.0, model_kwargs={}, openai_api_key=SecretStr('**********')), output_parser=StrOutputParser(), llm_kwargs={}))>, coroutine=<bound method Chain.arun of LLMMathChain(verbose=False, llm_chain=LLMChain(verbose=False, prompt=PromptTemplate(input_variables=['question'], input_types={}, partial_variables={}, template='Translate a math problem into a expression that can be executed using Python\\'s numexpr library. Use the output of running this code to answer the question.\\n\\nQuestion: ${{Question with math problem.}}\\n```text\\n${{single line mathematical expression that solves the problem}}\\n```\\n...numexpr.evaluate(text)...\\n```output\\n${{Output of running the code}}\\n```\\nAnswer: ${{Answer}}\\n\\nBegin.\\n\\nQuestion: What is 37593 * 67?\\n```text\\n37593 * 67\\n```\\n...numexpr.evaluate(\"37593 * 67\")...\\n```output\\n2518731\\n```\\nAnswer: 2518731\\n\\nQuestion: 37593^(1/5)\\n```text\\n37593**(1/5)\\n```\\n...numexpr.evaluate(\"37593**(1/5)\")...\\n```output\\n8.222831614237718\\n```\\nAnswer: 8.222831614237718\\n\\nQuestion: {question}\\n'), llm=ChatOpenAI(client=<openai.resources.chat.completions.completions.Completions object at 0x0000023F03802E40>, async_client=<openai.resources.chat.completions.completions.AsyncCompletions object at 0x0000023F038548F0>, root_client=<openai.OpenAI object at 0x0000023F03800DD0>, root_async_client=<openai.AsyncOpenAI object at 0x0000023F03802E70>, temperature=0.0, model_kwargs={}, openai_api_key=SecretStr('**********')), output_parser=StrOutputParser(), llm_kwargs={}))>),\n",
       " StructuredTool(name='persona_amable', description='Retorna la persona más amable. Se espera que la entrada esté vacía \"\" \\n    y retorna la persona más amable del universo', args_schema=<class 'langchain_core.utils.pydantic.persona_amable'>, func=<function persona_amable at 0x0000023F7ECF18A0>),\n",
       " StructuredTool(name='hora_actual', description='Retorna la hora actual, debes usar esta función para cualquier consulta sobre la hora actual. Para fechas que no sean\\n    la hora actual, debes usar otra herramienta. La entrada está vacía y la salida retorna una string', args_schema=<class 'langchain_core.utils.pydantic.hora_actual'>, func=<function hora_actual at 0x0000023F07101D00>)]"
      ]
     },
     "execution_count": 18,
     "metadata": {},
     "output_type": "execute_result"
    }
   ],
   "source": [
    "tools"
   ]
  },
  {
   "cell_type": "code",
   "execution_count": 19,
   "id": "bcb222fe-2276-4639-a36f-ab745e9ace6c",
   "metadata": {},
   "outputs": [],
   "source": [
    "agent = initialize_agent(tools, llm, agent=AgentType.ZERO_SHOT_REACT_DESCRIPTION,verbose=True)"
   ]
  },
  {
   "cell_type": "code",
   "execution_count": 20,
   "id": "2531f9b2-bdff-4811-a75d-585644ac8a3c",
   "metadata": {},
   "outputs": [
    {
     "name": "stdout",
     "output_type": "stream",
     "text": [
      "\n",
      "\n",
      "\u001b[1m> Entering new AgentExecutor chain...\u001b[0m\n",
      "\u001b[32;1m\u001b[1;3mDebo usar la función hora_actual para obtener la hora actual.\n",
      "Action: hora_actual\n",
      "Action Input: \"\"\u001b[0m\n",
      "Observation: \u001b[36;1m\u001b[1;3m2025-03-13 11:22:49.588013\u001b[0m\n",
      "Thought:\u001b[32;1m\u001b[1;3mTengo la hora actual.\n",
      "Final Answer: 2025-03-13 11:22:49.588013\u001b[0m\n",
      "\n",
      "\u001b[1m> Finished chain.\u001b[0m\n"
     ]
    },
    {
     "data": {
      "text/plain": [
       "{'input': '¿Cuál es la hora actual?', 'output': '2025-03-13 11:22:49.588013'}"
      ]
     },
     "execution_count": 20,
     "metadata": {},
     "output_type": "execute_result"
    }
   ],
   "source": [
    "# Solicitud con las herramientas actuales SÍ proporciona el resultado que queremos\n",
    "agent.invoke(\"¿Cuál es la hora actual?\")"
   ]
  },
  {
   "cell_type": "code",
   "execution_count": null,
   "id": "37743e19-5eef-49cb-b73f-b689a0202abd",
   "metadata": {},
   "outputs": [],
   "source": []
  }
 ],
 "metadata": {
  "kernelspec": {
   "display_name": "Python 3 (ipykernel)",
   "language": "python",
   "name": "python3"
  },
  "language_info": {
   "codemirror_mode": {
    "name": "ipython",
    "version": 3
   },
   "file_extension": ".py",
   "mimetype": "text/x-python",
   "name": "python",
   "nbconvert_exporter": "python",
   "pygments_lexer": "ipython3",
   "version": "3.12.7"
  }
 },
 "nbformat": 4,
 "nbformat_minor": 5
}
