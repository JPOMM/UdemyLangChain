{
 "cells": [
  {
   "cell_type": "code",
   "execution_count": 2,
   "id": "69adb5bd-b9b5-4276-9e53-0c4e1b0907bc",
   "metadata": {},
   "outputs": [],
   "source": [
    "from langchain_openai import ChatOpenAI\n",
    "from langchain.prompts import PromptTemplate, SystemMessagePromptTemplate,ChatPromptTemplate, HumanMessagePromptTemplate\n",
    "from langchain.agents import load_tools,initialize_agent,AgentType,create_react_agent,AgentExecutor\n",
    "f = open('../api_key.txt')\n",
    "api_key = f.read()\n",
    "llm = ChatOpenAI(openai_api_key=api_key,temperature=0) #Recomendable temperatura a 0 para que el LLM no sea muy creativo, vamos a tener muchas herramientas a nuestra disposición y queremos que sea más determinista"
   ]
  },
  {
   "cell_type": "code",
   "execution_count": 4,
   "id": "96b50257-29b6-4215-99de-3281301a05ee",
   "metadata": {},
   "outputs": [],
   "source": [
    "from langchain_experimental.agents.agent_toolkits import create_python_agent\n",
    "from langchain_experimental.tools.python.tool import PythonREPLTool"
   ]
  },
  {
   "cell_type": "code",
   "execution_count": 5,
   "id": "cb6e81a7-560d-4b00-80a4-a68fcb5ac951",
   "metadata": {},
   "outputs": [],
   "source": [
    "agent = create_python_agent(tool=PythonREPLTool(),\n",
    "                           llm=llm,\n",
    "                           agent=AgentType.ZERO_SHOT_REACT_DESCRIPTION)"
   ]
  },
  {
   "cell_type": "code",
   "execution_count": 6,
   "id": "5e4654ad-84f3-4437-8deb-f8ebf793d7ca",
   "metadata": {},
   "outputs": [],
   "source": [
    "lista_ejemplo = [3,1,5,3,5,6,7,3,5,10]"
   ]
  },
  {
   "cell_type": "code",
   "execution_count": 8,
   "id": "571b0b8f-b746-41c8-ad38-0e3a7c192f0b",
   "metadata": {},
   "outputs": [
    {
     "data": {
      "text/plain": [
       "{'input': 'ordena la lista [3, 1, 5, 3, 5, 6, 7, 3, 5, 10]',\n",
       " 'output': '[1, 3, 3, 3, 5, 5, 5, 6, 7, 10]'}"
      ]
     },
     "execution_count": 8,
     "metadata": {},
     "output_type": "execute_result"
    }
   ],
   "source": [
    "agent.invoke(f'''ordena la lista {lista_ejemplo}''')"
   ]
  },
  {
   "cell_type": "code",
   "execution_count": 9,
   "id": "bd40c2f7-05a0-4946-b135-3aceff667de9",
   "metadata": {},
   "outputs": [],
   "source": [
    "import pandas as pd"
   ]
  },
  {
   "cell_type": "code",
   "execution_count": 10,
   "id": "d68aebaa-3441-454e-aa48-0112fa220113",
   "metadata": {},
   "outputs": [],
   "source": [
    "df = pd.read_excel('datos_ventas_small.xlsx')"
   ]
  },
  {
   "cell_type": "code",
   "execution_count": 11,
   "id": "462ba578-8707-4631-b91d-46f554e05fe8",
   "metadata": {},
   "outputs": [
    {
     "data": {
      "text/html": [
       "<div>\n",
       "<style scoped>\n",
       "    .dataframe tbody tr th:only-of-type {\n",
       "        vertical-align: middle;\n",
       "    }\n",
       "\n",
       "    .dataframe tbody tr th {\n",
       "        vertical-align: top;\n",
       "    }\n",
       "\n",
       "    .dataframe thead th {\n",
       "        text-align: right;\n",
       "    }\n",
       "</style>\n",
       "<table border=\"1\" class=\"dataframe\">\n",
       "  <thead>\n",
       "    <tr style=\"text-align: right;\">\n",
       "      <th></th>\n",
       "      <th>ID</th>\n",
       "      <th>Cantidad</th>\n",
       "      <th>Precio unitario</th>\n",
       "      <th>Venta total</th>\n",
       "      <th>Fecha compra</th>\n",
       "      <th>Estado</th>\n",
       "      <th>Línea Producto</th>\n",
       "      <th>Código Producto</th>\n",
       "      <th>Nombre cliente</th>\n",
       "      <th>Ciudad</th>\n",
       "      <th>País</th>\n",
       "      <th>Territorio</th>\n",
       "      <th>Tamaño pedido</th>\n",
       "    </tr>\n",
       "  </thead>\n",
       "  <tbody>\n",
       "    <tr>\n",
       "      <th>0</th>\n",
       "      <td>10145</td>\n",
       "      <td>45</td>\n",
       "      <td>83.26</td>\n",
       "      <td>3746.70</td>\n",
       "      <td>2023-08-25</td>\n",
       "      <td>Shipped</td>\n",
       "      <td>Motorcycles</td>\n",
       "      <td>S10_1678</td>\n",
       "      <td>Toys4GrownUps,com</td>\n",
       "      <td>Pasadena</td>\n",
       "      <td>USA</td>\n",
       "      <td>NaN</td>\n",
       "      <td>Medium</td>\n",
       "    </tr>\n",
       "    <tr>\n",
       "      <th>1</th>\n",
       "      <td>10159</td>\n",
       "      <td>0</td>\n",
       "      <td>100.00</td>\n",
       "      <td>0.00</td>\n",
       "      <td>2023-10-10</td>\n",
       "      <td>Shipped</td>\n",
       "      <td>Motorcycles</td>\n",
       "      <td>S10_1678</td>\n",
       "      <td>Corporate Gift Ideas Co,</td>\n",
       "      <td>San Francisco</td>\n",
       "      <td>USA</td>\n",
       "      <td>NaN</td>\n",
       "      <td>Medium</td>\n",
       "    </tr>\n",
       "    <tr>\n",
       "      <th>2</th>\n",
       "      <td>10168</td>\n",
       "      <td>36</td>\n",
       "      <td>96.66</td>\n",
       "      <td>3479.76</td>\n",
       "      <td>2023-10-28</td>\n",
       "      <td>Shipped</td>\n",
       "      <td>Motorcycles</td>\n",
       "      <td>S10_1678</td>\n",
       "      <td>Technics Stores Inc,</td>\n",
       "      <td>Burlingame</td>\n",
       "      <td>USA</td>\n",
       "      <td>NaN</td>\n",
       "      <td>Medium</td>\n",
       "    </tr>\n",
       "    <tr>\n",
       "      <th>3</th>\n",
       "      <td>10180</td>\n",
       "      <td>29</td>\n",
       "      <td>86.13</td>\n",
       "      <td>2497.77</td>\n",
       "      <td>2023-11-11</td>\n",
       "      <td>Shipped</td>\n",
       "      <td>Motorcycles</td>\n",
       "      <td>S10_1678</td>\n",
       "      <td>Daedalus Designs Imports</td>\n",
       "      <td>Lille</td>\n",
       "      <td>France</td>\n",
       "      <td>EMEA</td>\n",
       "      <td>Small</td>\n",
       "    </tr>\n",
       "    <tr>\n",
       "      <th>4</th>\n",
       "      <td>10188</td>\n",
       "      <td>48</td>\n",
       "      <td>100.00</td>\n",
       "      <td>5512.32</td>\n",
       "      <td>2023-11-18</td>\n",
       "      <td>Shipped</td>\n",
       "      <td>Motorcycles</td>\n",
       "      <td>S10_1678</td>\n",
       "      <td>Herkku Gifts</td>\n",
       "      <td>Bergen</td>\n",
       "      <td>Norway</td>\n",
       "      <td>EMEA</td>\n",
       "      <td>Medium</td>\n",
       "    </tr>\n",
       "  </tbody>\n",
       "</table>\n",
       "</div>"
      ],
      "text/plain": [
       "      ID  Cantidad  Precio unitario  Venta total Fecha compra   Estado  \\\n",
       "0  10145        45            83.26      3746.70   2023-08-25  Shipped   \n",
       "1  10159         0           100.00         0.00   2023-10-10  Shipped   \n",
       "2  10168        36            96.66      3479.76   2023-10-28  Shipped   \n",
       "3  10180        29            86.13      2497.77   2023-11-11  Shipped   \n",
       "4  10188        48           100.00      5512.32   2023-11-18  Shipped   \n",
       "\n",
       "  Línea Producto Código Producto            Nombre cliente         Ciudad  \\\n",
       "0    Motorcycles        S10_1678         Toys4GrownUps,com       Pasadena   \n",
       "1    Motorcycles        S10_1678  Corporate Gift Ideas Co,  San Francisco   \n",
       "2    Motorcycles        S10_1678      Technics Stores Inc,     Burlingame   \n",
       "3    Motorcycles        S10_1678  Daedalus Designs Imports          Lille   \n",
       "4    Motorcycles        S10_1678              Herkku Gifts         Bergen   \n",
       "\n",
       "     País Territorio Tamaño pedido  \n",
       "0     USA        NaN        Medium  \n",
       "1     USA        NaN        Medium  \n",
       "2     USA        NaN        Medium  \n",
       "3  France       EMEA         Small  \n",
       "4  Norway       EMEA        Medium  "
      ]
     },
     "execution_count": 11,
     "metadata": {},
     "output_type": "execute_result"
    }
   ],
   "source": [
    "df.head()"
   ]
  },
  {
   "cell_type": "code",
   "execution_count": 12,
   "id": "5207d2ae-a49c-4755-a2c8-c599c149d3e9",
   "metadata": {},
   "outputs": [
    {
     "data": {
      "text/plain": [
       "{'input': \"¿Qué sentencias de código tendría que ejecutar para obtener la suma de venta total agregada por Línea de Producto? Este sería el dataframe        ID  Cantidad  Precio unitario  Venta total Fecha compra   Estado  \\\\\\n0   10145        45            83.26      3746.70   2023-08-25  Shipped   \\n1   10159         0           100.00         0.00   2023-10-10  Shipped   \\n2   10168        36            96.66      3479.76   2023-10-28  Shipped   \\n3   10180        29            86.13      2497.77   2023-11-11  Shipped   \\n4   10188        48           100.00      5512.32   2023-11-18  Shipped   \\n5   10201        22            98.57      2168.54   2023-01-12   Shippe   \\n6   10237        23           100.00      2333.12   2024-05-04  Shipped   \\n7   10251        28           100.00      3188.64   2023-01-12  Shipped   \\n8   10375        42            34.91      1466.22   2024-03-02  Shipped   \\n9   10388        84            76.36      6414.24   2024-03-03  Shipped   \\n10  10403        48           100.00      4869.12   2024-08-04  Shipped   \\n11  10228        29           100.00      6463.23   2024-10-03  Shipped   \\n12  10245        34           100.00      6120.34   2024-04-05  Shipped   \\n13  10291        37           100.00      7136.19   2024-08-09  Shipped   \\n14  10304        47           100.00     10172.70   2024-11-10  Shipped   \\n15  10322        40           100.00      6000.40   2024-04-11  Shipped   \\n16  10391        40           100.00      6000.40   2024-04-11  Shipped   \\n17  10391        48           100.00      4833.12   2024-09-03  Shipped   \\n18  10411        46           100.00      8280.46   2024-01-05  Shipped   \\n19  10134        27           100.00      3307.77   2023-01-07  Shipped   \\n20  10159        37           100.00      5016.83   2023-10-10  Shipped   \\n21  10159        37           100.00      5016.83   2023-10-10  Shipped   \\n\\n   Línea Producto Código Producto                Nombre cliente  \\\\\\n0     Motorcycles        S10_1678             Toys4GrownUps,com   \\n1     Motorcycles        S10_1678      Corporate Gift Ideas Co,   \\n2     Motorcycles        S10_1678          Technics Stores Inc,   \\n3     Motorcycles        S10_1678      Daedalus Designs Imports   \\n4     Motorcycles        S10_1678                  Herkku Gifts   \\n5     Motorcycles        S10_1678               Mini Wheels Co,   \\n6     Motorcycles        S10_1678               Vitachrome Inc,   \\n7     Motorcycles        S10_1678       Tekni Collectables Inc,   \\n8     Motorcycles        S10_1678             La Rochelle Gifts   \\n9     Motorcycles        S10_1678              FunGiftIdeas,com   \\n10    Motorcycles        S10_1678         UK Collectables, Ltd,   \\n11   Classic Cars        S10_1949    Cambridge Collectables Co,   \\n12   Classic Cars        S10_1949              Super Scale Inc,   \\n13   Classic Cars        S10_1949       Scandinavian Gift Ideas   \\n14   Classic Cars        S10_1949            Auto Assoc, & Cie,   \\n15   Classic Cars        S10_1949  Online Diecast Creations Co,   \\n16   Classic Cars        S10_1949  Online Diecast Creations Co,   \\n17   Classic Cars        S10_1949       Anna's Decorations, Ltd   \\n18   Classic Cars        S10_1949  Quebec Home Shopping Network   \\n19    Motorcycles        S10_2016               Lyon Souveniers   \\n20    Motorcycles        S10_2016      Corporate Gift Ideas Co,   \\n21    Motorcycles        S10_2016      Corporate Gift Ideas Co,   \\n\\n           Ciudad       País Territorio Tamaño pedido  \\n0        Pasadena        USA        NaN        Medium  \\n1   San Francisco        USA        NaN        Medium  \\n2      Burlingame        USA        NaN        Medium  \\n3           Lille     France       EMEA         Small  \\n4          Bergen     Norway       EMEA        Medium  \\n5   San Francisco        USA        NaN         Small  \\n6             NYC        USA        NaN         Small  \\n7          Newark        USA        NaN        Medium  \\n8          Nantes     France       EMEA         Small  \\n9     New Bedford        USA        NaN        Medium  \\n10      Liverpool         UK       EMEA         Small  \\n11      Cambridge        USA        NaN        Medium  \\n12      New Haven        USA        NaN        Medium  \\n13          Boras     Sweden       EMEA         Large  \\n14     Versailles     France       EMEA         Large  \\n15         Nashua        USA        NaN        Medium  \\n16         Nashua        USA        NaN        Medium  \\n17   North Sydney  Australia       APAC         Small  \\n18       Montreal     Canada        NaN        Medium  \\n19          Paris     France       EMEA        Medium  \\n20  San Francisco        USA        NaN        Medium  \\n21  San Francisco        USA        NaN        Medium  , no tienes que ejecutar la sentencia, solo pasarme el código a ejecutar\",\n",
       " 'output': \"df.groupby('Línea Producto')['Venta total'].sum()\"}"
      ]
     },
     "execution_count": 12,
     "metadata": {},
     "output_type": "execute_result"
    }
   ],
   "source": [
    "agent.invoke(f'''¿Qué sentencias de código tendría que ejecutar para obtener la suma de venta total agregada por Línea de Producto? Este sería el dataframe {df}, no tienes que ejecutar la sentencia, solo pasarme el código a ejecutar''')"
   ]
  },
  {
   "cell_type": "code",
   "execution_count": 13,
   "id": "5013d8f8-a90f-472a-8e13-3b5caf97bd29",
   "metadata": {},
   "outputs": [
    {
     "data": {
      "text/plain": [
       "Línea Producto\n",
       "Classic Cars    55006.84\n",
       "Motorcycles     49017.86\n",
       "Name: Venta total, dtype: float64"
      ]
     },
     "execution_count": 13,
     "metadata": {},
     "output_type": "execute_result"
    }
   ],
   "source": [
    "df.groupby('Línea Producto')['Venta total'].sum()"
   ]
  },
  {
   "cell_type": "code",
   "execution_count": 14,
   "id": "3051262e-fa3e-43c2-8e78-6aae3d9fe3c7",
   "metadata": {},
   "outputs": [
    {
     "data": {
      "text/plain": [
       "{'input': '¿Cuál es la suma agregada de la venta total para la línea de proudcto \"Motorcycles\"? Este sería el dataframe        ID  Cantidad  Precio unitario  Venta total Fecha compra   Estado  \\\\\\n0   10145        45            83.26      3746.70   2023-08-25  Shipped   \\n1   10159         0           100.00         0.00   2023-10-10  Shipped   \\n2   10168        36            96.66      3479.76   2023-10-28  Shipped   \\n3   10180        29            86.13      2497.77   2023-11-11  Shipped   \\n4   10188        48           100.00      5512.32   2023-11-18  Shipped   \\n5   10201        22            98.57      2168.54   2023-01-12   Shippe   \\n6   10237        23           100.00      2333.12   2024-05-04  Shipped   \\n7   10251        28           100.00      3188.64   2023-01-12  Shipped   \\n8   10375        42            34.91      1466.22   2024-03-02  Shipped   \\n9   10388        84            76.36      6414.24   2024-03-03  Shipped   \\n10  10403        48           100.00      4869.12   2024-08-04  Shipped   \\n11  10228        29           100.00      6463.23   2024-10-03  Shipped   \\n12  10245        34           100.00      6120.34   2024-04-05  Shipped   \\n13  10291        37           100.00      7136.19   2024-08-09  Shipped   \\n14  10304        47           100.00     10172.70   2024-11-10  Shipped   \\n15  10322        40           100.00      6000.40   2024-04-11  Shipped   \\n16  10391        40           100.00      6000.40   2024-04-11  Shipped   \\n17  10391        48           100.00      4833.12   2024-09-03  Shipped   \\n18  10411        46           100.00      8280.46   2024-01-05  Shipped   \\n19  10134        27           100.00      3307.77   2023-01-07  Shipped   \\n20  10159        37           100.00      5016.83   2023-10-10  Shipped   \\n21  10159        37           100.00      5016.83   2023-10-10  Shipped   \\n\\n   Línea Producto Código Producto                Nombre cliente  \\\\\\n0     Motorcycles        S10_1678             Toys4GrownUps,com   \\n1     Motorcycles        S10_1678      Corporate Gift Ideas Co,   \\n2     Motorcycles        S10_1678          Technics Stores Inc,   \\n3     Motorcycles        S10_1678      Daedalus Designs Imports   \\n4     Motorcycles        S10_1678                  Herkku Gifts   \\n5     Motorcycles        S10_1678               Mini Wheels Co,   \\n6     Motorcycles        S10_1678               Vitachrome Inc,   \\n7     Motorcycles        S10_1678       Tekni Collectables Inc,   \\n8     Motorcycles        S10_1678             La Rochelle Gifts   \\n9     Motorcycles        S10_1678              FunGiftIdeas,com   \\n10    Motorcycles        S10_1678         UK Collectables, Ltd,   \\n11   Classic Cars        S10_1949    Cambridge Collectables Co,   \\n12   Classic Cars        S10_1949              Super Scale Inc,   \\n13   Classic Cars        S10_1949       Scandinavian Gift Ideas   \\n14   Classic Cars        S10_1949            Auto Assoc, & Cie,   \\n15   Classic Cars        S10_1949  Online Diecast Creations Co,   \\n16   Classic Cars        S10_1949  Online Diecast Creations Co,   \\n17   Classic Cars        S10_1949       Anna\\'s Decorations, Ltd   \\n18   Classic Cars        S10_1949  Quebec Home Shopping Network   \\n19    Motorcycles        S10_2016               Lyon Souveniers   \\n20    Motorcycles        S10_2016      Corporate Gift Ideas Co,   \\n21    Motorcycles        S10_2016      Corporate Gift Ideas Co,   \\n\\n           Ciudad       País Territorio Tamaño pedido  \\n0        Pasadena        USA        NaN        Medium  \\n1   San Francisco        USA        NaN        Medium  \\n2      Burlingame        USA        NaN        Medium  \\n3           Lille     France       EMEA         Small  \\n4          Bergen     Norway       EMEA        Medium  \\n5   San Francisco        USA        NaN         Small  \\n6             NYC        USA        NaN         Small  \\n7          Newark        USA        NaN        Medium  \\n8          Nantes     France       EMEA         Small  \\n9     New Bedford        USA        NaN        Medium  \\n10      Liverpool         UK       EMEA         Small  \\n11      Cambridge        USA        NaN        Medium  \\n12      New Haven        USA        NaN        Medium  \\n13          Boras     Sweden       EMEA         Large  \\n14     Versailles     France       EMEA         Large  \\n15         Nashua        USA        NaN        Medium  \\n16         Nashua        USA        NaN        Medium  \\n17   North Sydney  Australia       APAC         Small  \\n18       Montreal     Canada        NaN        Medium  \\n19          Paris     France       EMEA        Medium  \\n20  San Francisco        USA        NaN        Medium  \\n21  San Francisco        USA        NaN        Medium  ',\n",
       " 'output': '41641.69'}"
      ]
     },
     "execution_count": 14,
     "metadata": {},
     "output_type": "execute_result"
    }
   ],
   "source": [
    "agent.invoke(f'''¿Cuál es la suma agregada de la venta total para la línea de proudcto \"Motorcycles\"? Este sería el dataframe {df}''')"
   ]
  },
  {
   "cell_type": "code",
   "execution_count": 15,
   "id": "0eaa4b98-96b7-427c-ac7b-9cfab87ef769",
   "metadata": {},
   "outputs": [
    {
     "data": {
      "image/png": "[encoded data removed]",
      "text/plain": [
       "<Figure size 640x480 with 1 Axes>"
      ]
     },
     "metadata": {},
     "output_type": "display_data"
    },
    {
     "data": {
      "text/plain": [
       "{'input': \"¿Qué sentencias de código tendría que ejecutar para tener una visualización con la librería Seaborn que agregue a nivel de Línea de Producto el total de venta? Este sería el dataframe        ID  Cantidad  Precio unitario  Venta total Fecha compra   Estado  \\\\\\n0   10145        45            83.26      3746.70   2023-08-25  Shipped   \\n1   10159         0           100.00         0.00   2023-10-10  Shipped   \\n2   10168        36            96.66      3479.76   2023-10-28  Shipped   \\n3   10180        29            86.13      2497.77   2023-11-11  Shipped   \\n4   10188        48           100.00      5512.32   2023-11-18  Shipped   \\n5   10201        22            98.57      2168.54   2023-01-12   Shippe   \\n6   10237        23           100.00      2333.12   2024-05-04  Shipped   \\n7   10251        28           100.00      3188.64   2023-01-12  Shipped   \\n8   10375        42            34.91      1466.22   2024-03-02  Shipped   \\n9   10388        84            76.36      6414.24   2024-03-03  Shipped   \\n10  10403        48           100.00      4869.12   2024-08-04  Shipped   \\n11  10228        29           100.00      6463.23   2024-10-03  Shipped   \\n12  10245        34           100.00      6120.34   2024-04-05  Shipped   \\n13  10291        37           100.00      7136.19   2024-08-09  Shipped   \\n14  10304        47           100.00     10172.70   2024-11-10  Shipped   \\n15  10322        40           100.00      6000.40   2024-04-11  Shipped   \\n16  10391        40           100.00      6000.40   2024-04-11  Shipped   \\n17  10391        48           100.00      4833.12   2024-09-03  Shipped   \\n18  10411        46           100.00      8280.46   2024-01-05  Shipped   \\n19  10134        27           100.00      3307.77   2023-01-07  Shipped   \\n20  10159        37           100.00      5016.83   2023-10-10  Shipped   \\n21  10159        37           100.00      5016.83   2023-10-10  Shipped   \\n\\n   Línea Producto Código Producto                Nombre cliente  \\\\\\n0     Motorcycles        S10_1678             Toys4GrownUps,com   \\n1     Motorcycles        S10_1678      Corporate Gift Ideas Co,   \\n2     Motorcycles        S10_1678          Technics Stores Inc,   \\n3     Motorcycles        S10_1678      Daedalus Designs Imports   \\n4     Motorcycles        S10_1678                  Herkku Gifts   \\n5     Motorcycles        S10_1678               Mini Wheels Co,   \\n6     Motorcycles        S10_1678               Vitachrome Inc,   \\n7     Motorcycles        S10_1678       Tekni Collectables Inc,   \\n8     Motorcycles        S10_1678             La Rochelle Gifts   \\n9     Motorcycles        S10_1678              FunGiftIdeas,com   \\n10    Motorcycles        S10_1678         UK Collectables, Ltd,   \\n11   Classic Cars        S10_1949    Cambridge Collectables Co,   \\n12   Classic Cars        S10_1949              Super Scale Inc,   \\n13   Classic Cars        S10_1949       Scandinavian Gift Ideas   \\n14   Classic Cars        S10_1949            Auto Assoc, & Cie,   \\n15   Classic Cars        S10_1949  Online Diecast Creations Co,   \\n16   Classic Cars        S10_1949  Online Diecast Creations Co,   \\n17   Classic Cars        S10_1949       Anna's Decorations, Ltd   \\n18   Classic Cars        S10_1949  Quebec Home Shopping Network   \\n19    Motorcycles        S10_2016               Lyon Souveniers   \\n20    Motorcycles        S10_2016      Corporate Gift Ideas Co,   \\n21    Motorcycles        S10_2016      Corporate Gift Ideas Co,   \\n\\n           Ciudad       País Territorio Tamaño pedido  \\n0        Pasadena        USA        NaN        Medium  \\n1   San Francisco        USA        NaN        Medium  \\n2      Burlingame        USA        NaN        Medium  \\n3           Lille     France       EMEA         Small  \\n4          Bergen     Norway       EMEA        Medium  \\n5   San Francisco        USA        NaN         Small  \\n6             NYC        USA        NaN         Small  \\n7          Newark        USA        NaN        Medium  \\n8          Nantes     France       EMEA         Small  \\n9     New Bedford        USA        NaN        Medium  \\n10      Liverpool         UK       EMEA         Small  \\n11      Cambridge        USA        NaN        Medium  \\n12      New Haven        USA        NaN        Medium  \\n13          Boras     Sweden       EMEA         Large  \\n14     Versailles     France       EMEA         Large  \\n15         Nashua        USA        NaN        Medium  \\n16         Nashua        USA        NaN        Medium  \\n17   North Sydney  Australia       APAC         Small  \\n18       Montreal     Canada        NaN        Medium  \\n19          Paris     France       EMEA        Medium  \\n20  San Francisco        USA        NaN        Medium  \\n21  San Francisco        USA        NaN        Medium  , recuerda que no tienes que ejecutar la sentencia, solo pasarme el código a ejecutar\",\n",
       " 'output': 'El código proporcionado es lo que tendrías que ejecutar para tener una visualización con la librería Seaborn que agrega el total de venta a nivel de Línea de Producto.'}"
      ]
     },
     "execution_count": 15,
     "metadata": {},
     "output_type": "execute_result"
    }
   ],
   "source": [
    "agent.invoke(f'''¿Qué sentencias de código tendría que ejecutar para tener una visualización con la librería Seaborn que agregue a nivel de Línea de Producto el total de venta? Este sería el dataframe {df}, recuerda que no tienes que ejecutar la sentencia, solo pasarme el código a ejecutar''')"
   ]
  },
  {
   "cell_type": "code",
   "execution_count": 16,
   "id": "039b2e6a-7315-4a0b-8526-3d6daf20a8f7",
   "metadata": {},
   "outputs": [
    {
     "data": {
      "text/plain": [
       "<Axes: xlabel='Línea Producto', ylabel='Venta total'>"
      ]
     },
     "execution_count": 16,
     "metadata": {},
     "output_type": "execute_result"
    },
    {
     "data": {
      "image/png": "[encoded data removed]",
      "text/plain": [
       "<Figure size 640x480 with 1 Axes>"
      ]
     },
     "metadata": {},
     "output_type": "display_data"
    }
   ],
   "source": [
    "import seaborn as sns\n",
    "sns.barplot(x='Línea Producto', y='Venta total', data=df, estimator=sum)"
   ]
  },
  {
   "cell_type": "code",
   "execution_count": null,
   "id": "b7e7d0d5-ef1d-4107-b051-a3a2793b1d7d",
   "metadata": {},
   "outputs": [],
   "source": []
  }
 ],
 "metadata": {
  "kernelspec": {
   "display_name": "Python 3 (ipykernel)",
   "language": "python",
   "name": "python3"
  },
  "language_info": {
   "codemirror_mode": {
    "name": "ipython",
    "version": 3
   },
   "file_extension": ".py",
   "mimetype": "text/x-python",
   "name": "python",
   "nbconvert_exporter": "python",
   "pygments_lexer": "ipython3",
   "version": "3.12.7"
  }
 },
 "nbformat": 4,
 "nbformat_minor": 5
}
