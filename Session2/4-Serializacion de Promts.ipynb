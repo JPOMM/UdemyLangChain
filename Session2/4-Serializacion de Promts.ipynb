{
 "cells": [
  {
   "cell_type": "code",
   "execution_count": 1,
   "id": "10bf95e6",
   "metadata": {},
   "outputs": [],
   "source": [
    "from langchain.prompts import PromptTemplate, SystemMessagePromptTemplate,ChatPromptTemplate, HumanMessagePromptTemplate\n",
    "from langchain_openai import ChatOpenAI\n",
    "f = open('api_key.txt')\n",
    "api_key = f.read()\n",
    "chat = ChatOpenAI(openai_api_key=api_key)"
   ]
  },
  {
   "cell_type": "code",
   "execution_count": 2,
   "id": "fc945c09",
   "metadata": {},
   "outputs": [],
   "source": [
    "plantilla = \"Pregunta: {pregunta_usuario}\\n\\nRespuesta: Vamos a verlo paso a paso.\"\n",
    "prompt = PromptTemplate(template=plantilla)\n",
    "prompt.save(\"prompt.json\")"
   ]
  },
  {
   "cell_type": "code",
   "execution_count": 4,
   "id": "eb7d98be",
   "metadata": {},
   "outputs": [],
   "source": [
    "from langchain.prompts import load_prompt\n",
    "prompt_cargado = load_prompt('prompt.json')"
   ]
  },
  {
   "cell_type": "code",
   "execution_count": 5,
   "id": "af66698c",
   "metadata": {},
   "outputs": [
    {
     "data": {
      "text/plain": [
       "PromptTemplate(input_variables=['pregunta_usuario'], template='Pregunta: {pregunta_usuario}\\n\\nRespuesta: Vamos a verlo paso a paso.')"
      ]
     },
     "execution_count": 5,
     "metadata": {},
     "output_type": "execute_result"
    }
   ],
   "source": [
    "prompt_cargado"
   ]
  },
  {
   "cell_type": "code",
   "execution_count": null,
   "id": "fa96e135",
   "metadata": {},
   "outputs": [],
   "source": []
  }
 ],
 "metadata": {
  "kernelspec": {
   "display_name": "Python 3",
   "language": "python",
   "name": "python3"
  },
  "language_info": {
   "codemirror_mode": {
    "name": "ipython",
    "version": 3
   },
   "file_extension": ".py",
   "mimetype": "text/x-python",
   "name": "python",
   "nbconvert_exporter": "python",
   "pygments_lexer": "ipython3",
   "version": "3.8.8"
  }
 },
 "nbformat": 4,
 "nbformat_minor": 5
}
