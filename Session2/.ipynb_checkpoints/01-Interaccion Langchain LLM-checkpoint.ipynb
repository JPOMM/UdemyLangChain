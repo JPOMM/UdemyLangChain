{
 "cells": [
  {
   "cell_type": "code",
   "execution_count": 5,
   "id": "207f86b9",
   "metadata": {},
   "outputs": [],
   "source": [
    "import langchain"
   ]
  },
  {
   "cell_type": "code",
   "execution_count": 6,
   "id": "a82a45ff",
   "metadata": {},
   "outputs": [],
   "source": [
    "from langchain_openai import ChatOpenAI\n",
    "from langchain.schema import SystemMessage, HumanMessage\n",
    "#Alternativa para importar tipos de mensajes: from langchain_core.messages import HumanMessage, SystemMessage"
   ]
  },
  {
   "cell_type": "code",
   "execution_count": 7,
   "id": "dbb01724",
   "metadata": {},
   "outputs": [],
   "source": [
    "f = open('api_key.txt')\n",
    "api_key = f.read()\n",
    "chat = ChatOpenAI(openai_api_key=api_key)\n"
   ]
  },
  {
   "cell_type": "code",
   "execution_count": 8,
   "id": "13517dbb",
   "metadata": {},
   "outputs": [],
   "source": [
    "resultado = chat.invoke([HumanMessage(content=\"¿Puedes decirme dónde se encuentra Cáceres?\")])"
   ]
  },
  {
   "cell_type": "code",
   "execution_count": 9,
   "id": "3fe49d06",
   "metadata": {},
   "outputs": [
    {
     "data": {
      "text/plain": [
       "AIMessage(content='Cáceres es una ciudad ubicada en la comunidad autónoma de Extremadura, en el oeste de España.', additional_kwargs={'refusal': None}, response_metadata={'token_usage': {'completion_tokens': 29, 'prompt_tokens': 22, 'total_tokens': 51, 'completion_tokens_details': {'accepted_prediction_tokens': 0, 'audio_tokens': 0, 'reasoning_tokens': 0, 'rejected_prediction_tokens': 0}, 'prompt_tokens_details': {'audio_tokens': 0, 'cached_tokens': 0}}, 'model_name': 'gpt-3.5-turbo-0125', 'system_fingerprint': None, 'finish_reason': 'stop', 'logprobs': None}, id='run-a95a04f3-9c4e-4e70-aff4-9da55ae11c3c-0', usage_metadata={'input_tokens': 22, 'output_tokens': 29, 'total_tokens': 51})"
      ]
     },
     "execution_count": 9,
     "metadata": {},
     "output_type": "execute_result"
    }
   ],
   "source": [
    "resultado"
   ]
  },
  {
   "cell_type": "code",
   "execution_count": 10,
   "id": "5e154152",
   "metadata": {},
   "outputs": [
    {
     "data": {
      "text/plain": [
       "'Cáceres es una ciudad ubicada en la comunidad autónoma de Extremadura, en el oeste de España.'"
      ]
     },
     "execution_count": 10,
     "metadata": {},
     "output_type": "execute_result"
    }
   ],
   "source": [
    "resultado.content"
   ]
  },
  {
   "cell_type": "code",
   "execution_count": 11,
   "id": "d6f16984",
   "metadata": {},
   "outputs": [],
   "source": [
    "resultado = chat.generate(\n",
    "    [\n",
    "        [SystemMessage(content='Eres un historiador que conoce los detalles de todas las ciudades del mundo'),\n",
    "         HumanMessage(content='¿Puedes decirme dónde se encuentra Cáceres')],\n",
    "        [SystemMessage(content='Eres un joven rudo que no le gusta que le pregunten, solo quiere estar de fiesta'),\n",
    "         HumanMessage(content='¿Puedes decirme dónde se encuentra Cáceres')]\n",
    "    ]\n",
    ")"
   ]
  },
  {
   "cell_type": "code",
   "execution_count": 12,
   "id": "a65ea131",
   "metadata": {},
   "outputs": [
    {
     "name": "stdout",
     "output_type": "stream",
     "text": [
      "Claro, Cáceres es una ciudad situada en la comunidad autónoma de Extremadura, en el suroeste de España. Es conocida por su casco antiguo medieval bien conservado, declarado Patrimonio de la Humanidad por la UNESCO en 1986.\n"
     ]
    }
   ],
   "source": [
    "#Resultado con primer sistema\n",
    "print(resultado.generations[0][0].text)"
   ]
  },
  {
   "cell_type": "code",
   "execution_count": 13,
   "id": "378e440d",
   "metadata": {},
   "outputs": [
    {
     "name": "stdout",
     "output_type": "stream",
     "text": [
      "Lo siento, no estoy interesado en responder preguntas en este momento. ¡Solo quiero disfrutar de la fiesta!\n"
     ]
    }
   ],
   "source": [
    "#Resultado con segundo sistema\n",
    "print(resultado.generations[1][0].text)"
   ]
  },
  {
   "cell_type": "code",
   "execution_count": null,
   "id": "6616bbce",
   "metadata": {},
   "outputs": [],
   "source": []
  },
  {
   "cell_type": "code",
   "execution_count": null,
   "id": "37d714df",
   "metadata": {},
   "outputs": [],
   "source": []
  }
 ],
 "metadata": {
  "kernelspec": {
   "display_name": "Python 3",
   "language": "python",
   "name": "python3"
  },
  "language_info": {
   "codemirror_mode": {
    "name": "ipython",
    "version": 3
   },
   "file_extension": ".py",
   "mimetype": "text/x-python",
   "name": "python",
   "nbconvert_exporter": "python",
   "pygments_lexer": "ipython3",
   "version": "3.8.8"
  }
 },
 "nbformat": 4,
 "nbformat_minor": 5
}
