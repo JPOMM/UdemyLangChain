{
 "cells": [
  {
   "cell_type": "code",
   "execution_count": 1,
   "id": "d7279e29",
   "metadata": {},
   "outputs": [],
   "source": [
    "from langchain.prompts import (\n",
    "    ChatPromptTemplate,\n",
    "    PromptTemplate,\n",
    "    SystemMessagePromptTemplate,\n",
    "    AIMessagePromptTemplate,\n",
    "    HumanMessagePromptTemplate,\n",
    ")\n",
    "from langchain.schema import (\n",
    "    AIMessage,\n",
    "    HumanMessage,\n",
    "    SystemMessage\n",
    ")"
   ]
  },
  {
   "cell_type": "code",
   "execution_count": 2,
   "id": "6608fc8f",
   "metadata": {},
   "outputs": [],
   "source": [
    "#creamos la plantilla del sistema \n",
    "system_template = \"Eres una IA especializada en coches de tipo {tipo_coches} y generar artículos que se leen en {tiempo_lectura}.\"\n",
    "system_message_prompt = SystemMessagePromptTemplate.from_template(system_template)"
   ]
  },
  {
   "cell_type": "code",
   "execution_count": 5,
   "id": "5417d56f",
   "metadata": {},
   "outputs": [
    {
     "data": {
      "text/plain": [
       "['tiempo_lectura', 'tipo_coches']"
      ]
     },
     "execution_count": 5,
     "metadata": {},
     "output_type": "execute_result"
    }
   ],
   "source": [
    "system_message_prompt.input_variables"
   ]
  },
  {
   "cell_type": "code",
   "execution_count": 6,
   "id": "045998a5",
   "metadata": {},
   "outputs": [],
   "source": [
    "#Creamos la plantilla de usuario (human_template)\n",
    "human_template=\"Necesito un artículo para vehículos con motor {peticion_tipo_motor}\"\n",
    "human_message_prompt = HumanMessagePromptTemplate.from_template(human_template)"
   ]
  },
  {
   "cell_type": "code",
   "execution_count": 7,
   "id": "0f2e5c82",
   "metadata": {},
   "outputs": [
    {
     "data": {
      "text/plain": [
       "['peticion_tipo_motor']"
      ]
     },
     "execution_count": 7,
     "metadata": {},
     "output_type": "execute_result"
    }
   ],
   "source": [
    "human_message_prompt.input_variables"
   ]
  },
  {
   "cell_type": "code",
   "execution_count": 8,
   "id": "9ddccb03",
   "metadata": {},
   "outputs": [],
   "source": [
    "#Creamos una plantilla de chat con la concatenación tanto de mensajes del sistema como del humano\n",
    "chat_prompt = ChatPromptTemplate.from_messages([system_message_prompt, human_message_prompt])"
   ]
  },
  {
   "cell_type": "code",
   "execution_count": 9,
   "id": "133664c6",
   "metadata": {},
   "outputs": [
    {
     "data": {
      "text/plain": [
       "['peticion_tipo_motor', 'tiempo_lectura', 'tipo_coches']"
      ]
     },
     "execution_count": 9,
     "metadata": {},
     "output_type": "execute_result"
    }
   ],
   "source": [
    "chat_prompt.input_variables"
   ]
  },
  {
   "cell_type": "code",
   "execution_count": 10,
   "id": "a7dc780b",
   "metadata": {},
   "outputs": [
    {
     "data": {
      "text/plain": [
       "ChatPromptValue(messages=[SystemMessage(content='Eres una IA especializada en coches de tipo japoneses y generar artículos que se leen en 10 min.'), HumanMessage(content='Necesito un artículo para vehículos con motor híbrido enchufable')])"
      ]
     },
     "execution_count": 10,
     "metadata": {},
     "output_type": "execute_result"
    }
   ],
   "source": [
    "# Completar el chat gracias al formateo de los mensajes\n",
    "chat_prompt.format_prompt(peticion_tipo_motor=\"híbrido enchufable\", tiempo_lectura=\"10 min\", tipo_coches=\"japoneses\")"
   ]
  },
  {
   "cell_type": "code",
   "execution_count": 11,
   "id": "e981d32d",
   "metadata": {},
   "outputs": [],
   "source": [
    "#Transformamos el objeto prompt a una lista de mensajes y lo guardamos en \"solicitud_completa\" que es lo que pasaremos al LLM finalmente\n",
    "solicitud_completa = chat_prompt.format_prompt(peticion_tipo_motor=\"híbrido enchufable\", tiempo_lectura=\"10 min\", tipo_coches=\"japoneses\").to_messages()"
   ]
  },
  {
   "cell_type": "code",
   "execution_count": 12,
   "id": "b20bc1b3",
   "metadata": {},
   "outputs": [],
   "source": [
    "from langchain_openai import ChatOpenAI"
   ]
  },
  {
   "cell_type": "code",
   "execution_count": 14,
   "id": "7251fdcd",
   "metadata": {},
   "outputs": [],
   "source": [
    "f = open('api_key.txt')\n",
    "api_key = f.read()\n",
    "chat = ChatOpenAI(openai_api_key=api_key)"
   ]
  },
  {
   "cell_type": "code",
   "execution_count": 15,
   "id": "82257df9",
   "metadata": {},
   "outputs": [],
   "source": [
    "result = chat.invoke(solicitud_completa)"
   ]
  },
  {
   "cell_type": "code",
   "execution_count": 17,
   "id": "724b3b87",
   "metadata": {},
   "outputs": [
    {
     "data": {
      "text/plain": [
       "AIMessage(content='¡Claro! Aquí tienes un artículo sobre vehículos con motor híbrido enchufable:\\n\\n---\\n\\n## Los vehículos con motor híbrido enchufable: la combinación perfecta entre eficiencia y rendimiento\\n\\nEn la búsqueda de alternativas más sostenibles y eficientes en el mundo automotriz, los vehículos con motor híbrido enchufable se han posicionado como una excelente opción para aquellos conductores que desean reducir su huella de carbono sin renunciar al rendimiento y la comodidad de un automóvil convencional.\\n\\n### ¿Qué es un vehículo con motor híbrido enchufable?\\n\\nUn vehículo con motor híbrido enchufable combina un motor de combustión interna con al menos un motor eléctrico y una batería recargable. La característica distintiva de estos vehículos es que tienen la capacidad de ser recargados tanto mediante el motor de combustión interna como a través de una toma de corriente externa, lo que les proporciona una autonomía eléctrica adicional en comparación con los híbridos convencionales.\\n\\n### Ventajas de los vehículos con motor híbrido enchufable\\n\\n1. **Eficiencia energética:** Al poder funcionar en modo eléctrico durante trayectos cortos, los vehículos híbridos enchufables son altamente eficientes en términos de consumo de combustible y emisiones contaminantes.\\n\\n2. **Bajas emisiones:** Al reducir la dependencia del motor de combustión interna, estos vehículos emiten menos gases contaminantes, lo que contribuye a la mejora de la calidad del aire y a la mitigación del cambio climático.\\n\\n3. **Rendimiento:** La combinación de un motor eléctrico y un motor de combustión interna proporciona una potencia adicional y una aceleración suave, lo que se traduce en un rendimiento óptimo tanto en ciudad como en carretera.\\n\\n4. **Incentivos fiscales:** En muchos países, los propietarios de vehículos con motor híbrido enchufable pueden beneficiarse de incentivos fiscales y ayudas a la compra, lo que los hace aún más atractivos desde el punto de vista económico.\\n\\n### Marcas japonesas líderes en vehículos con motor híbrido enchufable\\n\\nEn el mercado de los vehículos híbridos enchufables, las marcas japonesas han sido pioneras en el desarrollo de tecnologías avanzadas que combinan eficiencia, rendimiento y fiabilidad. Algunos de los fabricantes más destacados en este segmento son:\\n\\n1. **Toyota:** Con modelos emblemáticos como el Prius Plug-in Hybrid, Toyota ha consolidado su posición como uno de los líderes en la fabricación de vehículos híbridos enchufables.\\n\\n2. **Honda:** Con su modelo Clarity Plug-in Hybrid, Honda ha demostrado su compromiso con la movilidad sostenible y la innovación tecnológica en el sector automotriz.\\n\\n3. **Mitsubishi:** Con el Outlander PHEV, Mitsubishi ha logrado combinar la versatilidad de un SUV con la eficiencia de un vehículo híbrido enchufable, ofreciendo a los conductores una opción atractiva y funcional.\\n\\n### Conclusiones\\n\\nLos vehículos con motor híbrido enchufable representan una opción versátil y eficiente para aquellos conductores que buscan reducir su impacto ambiental sin sacrificar el rendimiento y la comodidad. Con el avance de la tecnología y la creciente conciencia sobre la importancia de la sostenibilidad, es de esperar que estos vehículos continúen ganando protagonismo en el mercado automotriz, ofreciendo una alternativa viable y atractiva para el futuro de la movilidad.\\n\\n---\\n\\nEspero que este artículo sea de tu interés y te proporcione información relevante sobre los vehículos con motor híbrido enchufable. ¡Si necesitas más detalles o tienes alguna pregunta, no dudes en decírmelo!', additional_kwargs={'refusal': None}, response_metadata={'token_usage': {'completion_tokens': 911, 'prompt_tokens': 56, 'total_tokens': 967, 'completion_tokens_details': {'accepted_prediction_tokens': 0, 'audio_tokens': 0, 'reasoning_tokens': 0, 'rejected_prediction_tokens': 0}, 'prompt_tokens_details': {'audio_tokens': 0, 'cached_tokens': 0}}, 'model_name': 'gpt-3.5-turbo-0125', 'system_fingerprint': None, 'finish_reason': 'stop', 'logprobs': None}, id='run-1623abf1-94b9-469c-8368-1422f3c585bb-0', usage_metadata={'input_tokens': 56, 'output_tokens': 911, 'total_tokens': 967})"
      ]
     },
     "execution_count": 17,
     "metadata": {},
     "output_type": "execute_result"
    }
   ],
   "source": [
    "result"
   ]
  },
  {
   "cell_type": "code",
   "execution_count": null,
   "id": "9aa1c396",
   "metadata": {},
   "outputs": [],
   "source": []
  },
  {
   "cell_type": "code",
   "execution_count": null,
   "id": "a4fbbcf0",
   "metadata": {},
   "outputs": [],
   "source": []
  }
 ],
 "metadata": {
  "kernelspec": {
   "display_name": "Python 3",
   "language": "python",
   "name": "python3"
  },
  "language_info": {
   "codemirror_mode": {
    "name": "ipython",
    "version": 3
   },
   "file_extension": ".py",
   "mimetype": "text/x-python",
   "name": "python",
   "nbconvert_exporter": "python",
   "pygments_lexer": "ipython3",
   "version": "3.8.8"
  }
 },
 "nbformat": 4,
 "nbformat_minor": 5
}
